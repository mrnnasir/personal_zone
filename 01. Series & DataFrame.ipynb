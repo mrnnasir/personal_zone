{
 "cells": [
  {
   "cell_type": "code",
   "execution_count": 1,
   "id": "5f699ed2-8c29-40c2-a90b-27164a8c56b5",
   "metadata": {},
   "outputs": [],
   "source": [
    "import pandas as pd\n",
    "import numpy as np"
   ]
  },
  {
   "cell_type": "code",
   "execution_count": 2,
   "id": "8a2f6f57-9fe6-4cd4-8ffa-cd5731c092cc",
   "metadata": {},
   "outputs": [
    {
     "data": {
      "text/plain": [
       "['a', 'b', 'c']"
      ]
     },
     "execution_count": 2,
     "metadata": {},
     "output_type": "execute_result"
    }
   ],
   "source": [
    "categories = ['a','b','c']\n",
    "categories"
   ]
  },
  {
   "cell_type": "code",
   "execution_count": 5,
   "id": "eb6973b9-59d5-4273-a1a9-6f46bc5e7e5c",
   "metadata": {},
   "outputs": [
    {
     "data": {
      "text/plain": [
       "[-1, -2, -3]"
      ]
     },
     "execution_count": 5,
     "metadata": {},
     "output_type": "execute_result"
    }
   ],
   "source": [
    "mylist =[-1,-2,-3]\n",
    "mylist"
   ]
  },
  {
   "cell_type": "code",
   "execution_count": 7,
   "id": "9999317e-f13f-48a0-a4d1-60f3b59d25ac",
   "metadata": {},
   "outputs": [
    {
     "data": {
      "text/plain": [
       "array([100,  99,  98])"
      ]
     },
     "execution_count": 7,
     "metadata": {},
     "output_type": "execute_result"
    }
   ],
   "source": [
    "arr = np.array([100,99,98])\n",
    "arr"
   ]
  },
  {
   "cell_type": "code",
   "execution_count": 9,
   "id": "678d5975-e3ac-4faf-8364-264553e201c2",
   "metadata": {},
   "outputs": [
    {
     "data": {
      "text/plain": [
       "{'Item1': 999, 'Item2': 888, 'Item3': 777}"
      ]
     },
     "execution_count": 9,
     "metadata": {},
     "output_type": "execute_result"
    }
   ],
   "source": [
    "my_dict = {'Item1': 999, 'Item2': 888, 'Item3':777}\n",
    "my_dict"
   ]
  },
  {
   "cell_type": "code",
   "execution_count": 11,
   "id": "e8c88fdf-056b-4fb0-bb2c-e5432e445d51",
   "metadata": {},
   "outputs": [
    {
     "data": {
      "text/plain": [
       "0   -1\n",
       "1   -2\n",
       "2   -3\n",
       "dtype: int64"
      ]
     },
     "execution_count": 11,
     "metadata": {},
     "output_type": "execute_result"
    }
   ],
   "source": [
    "# Pandas has two data structures - Series and DataFrame. Pandas Series is essentially a one-dimensional labeled array.\n",
    "# pandas.Series(data=None, index=None, dtype=None, name=None, copy=None, fastpath=<no_default>)\n",
    "\n",
    "pd.Series(data=mylist)"
   ]
  },
  {
   "cell_type": "code",
   "execution_count": 13,
   "id": "a7c98977-9df7-455f-aee5-497f5e773f21",
   "metadata": {},
   "outputs": [
    {
     "data": {
      "text/plain": [
       "a    10\n",
       "b    20\n",
       "c    30\n",
       "d    40\n",
       "e    50\n",
       "dtype: int64"
      ]
     },
     "execution_count": 13,
     "metadata": {},
     "output_type": "execute_result"
    }
   ],
   "source": [
    "pd.Series([10, 20, 30, 40, 50], index=['a', 'b', 'c', 'd', 'e'])\n"
   ]
  },
  {
   "cell_type": "code",
   "execution_count": 15,
   "id": "a8574e34-2145-4e61-9e65-4b6a9ffd7a02",
   "metadata": {},
   "outputs": [
    {
     "data": {
      "text/plain": [
       "0    a\n",
       "1    b\n",
       "2    c\n",
       "dtype: object"
      ]
     },
     "execution_count": 15,
     "metadata": {},
     "output_type": "execute_result"
    }
   ],
   "source": [
    "pd.Series(data= categories)"
   ]
  },
  {
   "cell_type": "code",
   "execution_count": 17,
   "id": "5c2d1a01-35c7-4b27-884a-31c41c7d87e3",
   "metadata": {},
   "outputs": [
    {
     "data": {
      "text/plain": [
       "a   -1\n",
       "b   -2\n",
       "c   -3\n",
       "dtype: int64"
      ]
     },
     "execution_count": 17,
     "metadata": {},
     "output_type": "execute_result"
    }
   ],
   "source": [
    "pd.Series(data= mylist, index=categories)"
   ]
  },
  {
   "cell_type": "code",
   "execution_count": 19,
   "id": "f989234b-e76f-4ea8-ab48-3f8c75177ed2",
   "metadata": {},
   "outputs": [
    {
     "data": {
      "text/plain": [
       "-1    a\n",
       "-2    b\n",
       "-3    c\n",
       "dtype: object"
      ]
     },
     "execution_count": 19,
     "metadata": {},
     "output_type": "execute_result"
    }
   ],
   "source": [
    "pd.Series(data=categories, index= mylist)"
   ]
  },
  {
   "cell_type": "code",
   "execution_count": 21,
   "id": "1c4f1fb9-919a-4be6-b31e-b2bb7902c0a4",
   "metadata": {},
   "outputs": [
    {
     "data": {
      "text/plain": [
       "-1    a\n",
       "-2    b\n",
       "-3    c\n",
       "Name: My First Series, dtype: object"
      ]
     },
     "execution_count": 21,
     "metadata": {},
     "output_type": "execute_result"
    }
   ],
   "source": [
    "# Assigning name in Series\n",
    "\n",
    "pd.Series(data=categories, index= mylist, name='My First Series')"
   ]
  },
  {
   "cell_type": "code",
   "execution_count": 23,
   "id": "d25f2bce-43bd-4148-99d1-dd3917caeda6",
   "metadata": {},
   "outputs": [
    {
     "data": {
      "text/plain": [
       "0    a\n",
       "1    b\n",
       "2    c\n",
       "dtype: object"
      ]
     },
     "execution_count": 23,
     "metadata": {},
     "output_type": "execute_result"
    }
   ],
   "source": [
    "pd.Series(data=categories)"
   ]
  },
  {
   "cell_type": "code",
   "execution_count": 29,
   "id": "1fa1c352-2d3c-428f-b689-d57e4649923a",
   "metadata": {},
   "outputs": [
    {
     "data": {
      "text/plain": [
       "0    100\n",
       "1     99\n",
       "2     98\n",
       "dtype: int64"
      ]
     },
     "execution_count": 29,
     "metadata": {},
     "output_type": "execute_result"
    }
   ],
   "source": [
    "pd.Series(data = arr)"
   ]
  },
  {
   "cell_type": "code",
   "execution_count": 31,
   "id": "0b9a1b4e-870b-44b5-8b93-f2ced268567f",
   "metadata": {},
   "outputs": [
    {
     "data": {
      "text/plain": [
       "a    100\n",
       "b     99\n",
       "c     98\n",
       "Name: Series with array, dtype: int64"
      ]
     },
     "execution_count": 31,
     "metadata": {},
     "output_type": "execute_result"
    }
   ],
   "source": [
    "pd.Series(data=arr, index=categories, name='Series with array')"
   ]
  },
  {
   "cell_type": "code",
   "execution_count": 33,
   "id": "81e2e9f0-0c3c-46dd-838f-1a28bcda44ea",
   "metadata": {},
   "outputs": [
    {
     "data": {
      "text/plain": [
       "Item1    999\n",
       "Item2    888\n",
       "Item3    777\n",
       "dtype: int64"
      ]
     },
     "execution_count": 33,
     "metadata": {},
     "output_type": "execute_result"
    }
   ],
   "source": [
    "# Series with a Dictionary\n",
    "\n",
    "pd.Series(data = my_dict)"
   ]
  },
  {
   "cell_type": "code",
   "execution_count": 35,
   "id": "c02fc4cc-c386-4e8a-833a-f8ef0028fe06",
   "metadata": {},
   "outputs": [
    {
     "data": {
      "text/plain": [
       "Item1    999\n",
       "Item2    888\n",
       "Item3    777\n",
       "dtype: int64"
      ]
     },
     "execution_count": 35,
     "metadata": {},
     "output_type": "execute_result"
    }
   ],
   "source": [
    "ser = pd.Series(data = my_dict)\n",
    "ser"
   ]
  },
  {
   "cell_type": "code",
   "execution_count": 39,
   "id": "b33a41fb-9e98-4f0e-a43d-17e1ee307eb7",
   "metadata": {},
   "outputs": [
    {
     "data": {
      "text/html": [
       "<div>\n",
       "<style scoped>\n",
       "    .dataframe tbody tr th:only-of-type {\n",
       "        vertical-align: middle;\n",
       "    }\n",
       "\n",
       "    .dataframe tbody tr th {\n",
       "        vertical-align: top;\n",
       "    }\n",
       "\n",
       "    .dataframe thead th {\n",
       "        text-align: right;\n",
       "    }\n",
       "</style>\n",
       "<table border=\"1\" class=\"dataframe\">\n",
       "  <thead>\n",
       "    <tr style=\"text-align: right;\">\n",
       "      <th></th>\n",
       "      <th>col1</th>\n",
       "      <th>col2</th>\n",
       "      <th>col3</th>\n",
       "      <th>col4</th>\n",
       "    </tr>\n",
       "  </thead>\n",
       "  <tbody>\n",
       "    <tr>\n",
       "      <th>A</th>\n",
       "      <td>0.516399</td>\n",
       "      <td>0.570668</td>\n",
       "      <td>0.028474</td>\n",
       "      <td>0.171522</td>\n",
       "    </tr>\n",
       "    <tr>\n",
       "      <th>B</th>\n",
       "      <td>0.685277</td>\n",
       "      <td>0.833897</td>\n",
       "      <td>0.306966</td>\n",
       "      <td>0.893613</td>\n",
       "    </tr>\n",
       "    <tr>\n",
       "      <th>C</th>\n",
       "      <td>0.721544</td>\n",
       "      <td>0.189939</td>\n",
       "      <td>0.554228</td>\n",
       "      <td>0.352132</td>\n",
       "    </tr>\n",
       "    <tr>\n",
       "      <th>D</th>\n",
       "      <td>0.181892</td>\n",
       "      <td>0.785602</td>\n",
       "      <td>0.965483</td>\n",
       "      <td>0.232354</td>\n",
       "    </tr>\n",
       "    <tr>\n",
       "      <th>E</th>\n",
       "      <td>0.083561</td>\n",
       "      <td>0.603548</td>\n",
       "      <td>0.728993</td>\n",
       "      <td>0.276239</td>\n",
       "    </tr>\n",
       "  </tbody>\n",
       "</table>\n",
       "</div>"
      ],
      "text/plain": [
       "       col1      col2      col3      col4\n",
       "A  0.516399  0.570668  0.028474  0.171522\n",
       "B  0.685277  0.833897  0.306966  0.893613\n",
       "C  0.721544  0.189939  0.554228  0.352132\n",
       "D  0.181892  0.785602  0.965483  0.232354\n",
       "E  0.083561  0.603548  0.728993  0.276239"
      ]
     },
     "execution_count": 39,
     "metadata": {},
     "output_type": "execute_result"
    }
   ],
   "source": [
    "# pandas.DataFrame(data=None, index=None, columns=None, dtype=None, copy=None)\n",
    "\n",
    "np.random.seed(seed=101)\n",
    "df = pd.DataFrame(data=np.random.rand(5,4),\n",
    "                 index=['A','B','C','D','E'],\n",
    "                 columns=['col1','col2','col3','col4'])\n",
    "df"
   ]
  },
  {
   "cell_type": "code",
   "execution_count": 69,
   "id": "8a0917f8-b952-4495-85c5-9319c7669f01",
   "metadata": {},
   "outputs": [
    {
     "data": {
      "text/plain": [
       "{'Item1': [9, 9, 7, 1], 'Item2': [8, 6, 68, 8], 'Item3': [1, 2, 7, 8]}"
      ]
     },
     "execution_count": 69,
     "metadata": {},
     "output_type": "execute_result"
    }
   ],
   "source": [
    "dict1 = {'Item1':[9,9,7,1], 'Item2':[8,6,68,8], 'Item3':[1,2,7,8]}\n",
    "dict1"
   ]
  },
  {
   "cell_type": "code",
   "execution_count": 47,
   "id": "4b141dee-4d91-427a-be51-286aa36803c7",
   "metadata": {},
   "outputs": [
    {
     "data": {
      "text/html": [
       "<div>\n",
       "<style scoped>\n",
       "    .dataframe tbody tr th:only-of-type {\n",
       "        vertical-align: middle;\n",
       "    }\n",
       "\n",
       "    .dataframe tbody tr th {\n",
       "        vertical-align: top;\n",
       "    }\n",
       "\n",
       "    .dataframe thead th {\n",
       "        text-align: right;\n",
       "    }\n",
       "</style>\n",
       "<table border=\"1\" class=\"dataframe\">\n",
       "  <thead>\n",
       "    <tr style=\"text-align: right;\">\n",
       "      <th></th>\n",
       "      <th>Item1</th>\n",
       "      <th>Item2</th>\n",
       "      <th>Item3</th>\n",
       "    </tr>\n",
       "  </thead>\n",
       "  <tbody>\n",
       "    <tr>\n",
       "      <th>0</th>\n",
       "      <td>9</td>\n",
       "      <td>8</td>\n",
       "      <td>1</td>\n",
       "    </tr>\n",
       "    <tr>\n",
       "      <th>1</th>\n",
       "      <td>9</td>\n",
       "      <td>6</td>\n",
       "      <td>2</td>\n",
       "    </tr>\n",
       "    <tr>\n",
       "      <th>2</th>\n",
       "      <td>7</td>\n",
       "      <td>68</td>\n",
       "      <td>7</td>\n",
       "    </tr>\n",
       "    <tr>\n",
       "      <th>3</th>\n",
       "      <td>1</td>\n",
       "      <td>8</td>\n",
       "      <td>8</td>\n",
       "    </tr>\n",
       "  </tbody>\n",
       "</table>\n",
       "</div>"
      ],
      "text/plain": [
       "   Item1  Item2  Item3\n",
       "0      9      8      1\n",
       "1      9      6      2\n",
       "2      7     68      7\n",
       "3      1      8      8"
      ]
     },
     "execution_count": 47,
     "metadata": {},
     "output_type": "execute_result"
    }
   ],
   "source": [
    "# Dictionary to a DataFrame\n",
    "\n",
    "df1 = pd.DataFrame(data = dict1)\n",
    "df1"
   ]
  },
  {
   "cell_type": "code",
   "execution_count": 79,
   "id": "4ca99630-cdaf-4c63-b256-b6e900c66c82",
   "metadata": {},
   "outputs": [
    {
     "name": "stdout",
     "output_type": "stream",
     "text": [
      "   Item1  Item2  Item3\n",
      "0      9      8      1\n",
      "1      9      6      2\n",
      "2      7     68      7\n",
      "3      1      8      8\n"
     ]
    }
   ],
   "source": [
    "# using print()\n",
    "\n",
    "df1 = pd.DataFrame(data = dict1)\n",
    "print(df1)"
   ]
  },
  {
   "cell_type": "code",
   "execution_count": 155,
   "id": "624e4cde-1594-477c-ad82-22e868d5edfd",
   "metadata": {},
   "outputs": [
    {
     "data": {
      "text/html": [
       "<div>\n",
       "<style scoped>\n",
       "    .dataframe tbody tr th:only-of-type {\n",
       "        vertical-align: middle;\n",
       "    }\n",
       "\n",
       "    .dataframe tbody tr th {\n",
       "        vertical-align: top;\n",
       "    }\n",
       "\n",
       "    .dataframe thead th {\n",
       "        text-align: right;\n",
       "    }\n",
       "</style>\n",
       "<table border=\"1\" class=\"dataframe\">\n",
       "  <thead>\n",
       "    <tr style=\"text-align: right;\">\n",
       "      <th></th>\n",
       "      <th>0</th>\n",
       "      <th>1</th>\n",
       "      <th>2</th>\n",
       "      <th>3</th>\n",
       "      <th>4</th>\n",
       "      <th>5</th>\n",
       "      <th>6</th>\n",
       "      <th>7</th>\n",
       "      <th>8</th>\n",
       "      <th>9</th>\n",
       "      <th>...</th>\n",
       "      <th>30</th>\n",
       "      <th>31</th>\n",
       "      <th>32</th>\n",
       "      <th>33</th>\n",
       "      <th>34</th>\n",
       "      <th>35</th>\n",
       "      <th>36</th>\n",
       "      <th>37</th>\n",
       "      <th>38</th>\n",
       "      <th>39</th>\n",
       "    </tr>\n",
       "  </thead>\n",
       "  <tbody>\n",
       "    <tr>\n",
       "      <th>0</th>\n",
       "      <td>2.706850</td>\n",
       "      <td>0.628133</td>\n",
       "      <td>0.907969</td>\n",
       "      <td>0.503826</td>\n",
       "      <td>0.651118</td>\n",
       "      <td>-0.319318</td>\n",
       "      <td>-0.848077</td>\n",
       "      <td>0.605965</td>\n",
       "      <td>-2.018168</td>\n",
       "      <td>0.740122</td>\n",
       "      <td>...</td>\n",
       "      <td>0.638787</td>\n",
       "      <td>0.329646</td>\n",
       "      <td>-0.497104</td>\n",
       "      <td>-0.754070</td>\n",
       "      <td>-0.943406</td>\n",
       "      <td>0.484752</td>\n",
       "      <td>-0.116773</td>\n",
       "      <td>1.901755</td>\n",
       "      <td>0.238127</td>\n",
       "      <td>1.996652</td>\n",
       "    </tr>\n",
       "    <tr>\n",
       "      <th>1</th>\n",
       "      <td>-0.993263</td>\n",
       "      <td>0.196800</td>\n",
       "      <td>-1.136645</td>\n",
       "      <td>0.000366</td>\n",
       "      <td>1.025984</td>\n",
       "      <td>-0.156598</td>\n",
       "      <td>-0.031579</td>\n",
       "      <td>0.649826</td>\n",
       "      <td>2.154846</td>\n",
       "      <td>-0.610259</td>\n",
       "      <td>...</td>\n",
       "      <td>0.187125</td>\n",
       "      <td>-0.732845</td>\n",
       "      <td>-1.382920</td>\n",
       "      <td>1.482495</td>\n",
       "      <td>0.961458</td>\n",
       "      <td>-2.141212</td>\n",
       "      <td>0.992573</td>\n",
       "      <td>1.192241</td>\n",
       "      <td>-1.046780</td>\n",
       "      <td>1.292765</td>\n",
       "    </tr>\n",
       "    <tr>\n",
       "      <th>2</th>\n",
       "      <td>-1.467514</td>\n",
       "      <td>-0.494095</td>\n",
       "      <td>-0.162535</td>\n",
       "      <td>0.485809</td>\n",
       "      <td>0.392489</td>\n",
       "      <td>0.221491</td>\n",
       "      <td>-0.855196</td>\n",
       "      <td>1.541990</td>\n",
       "      <td>0.666319</td>\n",
       "      <td>-0.538235</td>\n",
       "      <td>...</td>\n",
       "      <td>0.649148</td>\n",
       "      <td>0.358941</td>\n",
       "      <td>-1.080471</td>\n",
       "      <td>0.902398</td>\n",
       "      <td>0.161781</td>\n",
       "      <td>0.833029</td>\n",
       "      <td>0.975720</td>\n",
       "      <td>-0.388239</td>\n",
       "      <td>0.783316</td>\n",
       "      <td>-0.708954</td>\n",
       "    </tr>\n",
       "    <tr>\n",
       "      <th>3</th>\n",
       "      <td>0.586847</td>\n",
       "      <td>-1.621348</td>\n",
       "      <td>0.677535</td>\n",
       "      <td>0.026105</td>\n",
       "      <td>-1.678284</td>\n",
       "      <td>0.333973</td>\n",
       "      <td>-0.532471</td>\n",
       "      <td>2.117727</td>\n",
       "      <td>0.197524</td>\n",
       "      <td>2.302987</td>\n",
       "      <td>...</td>\n",
       "      <td>-0.971393</td>\n",
       "      <td>-1.522333</td>\n",
       "      <td>1.133703</td>\n",
       "      <td>0.528187</td>\n",
       "      <td>0.393461</td>\n",
       "      <td>-0.630507</td>\n",
       "      <td>-1.398290</td>\n",
       "      <td>-0.219311</td>\n",
       "      <td>-0.045676</td>\n",
       "      <td>0.012421</td>\n",
       "    </tr>\n",
       "    <tr>\n",
       "      <th>4</th>\n",
       "      <td>0.093628</td>\n",
       "      <td>1.240813</td>\n",
       "      <td>-1.097693</td>\n",
       "      <td>-1.908009</td>\n",
       "      <td>-0.380104</td>\n",
       "      <td>-1.666059</td>\n",
       "      <td>-2.736995</td>\n",
       "      <td>1.522562</td>\n",
       "      <td>0.178009</td>\n",
       "      <td>-0.626805</td>\n",
       "      <td>...</td>\n",
       "      <td>-1.235614</td>\n",
       "      <td>-0.798428</td>\n",
       "      <td>0.754121</td>\n",
       "      <td>-0.772041</td>\n",
       "      <td>-0.034432</td>\n",
       "      <td>0.688408</td>\n",
       "      <td>0.081523</td>\n",
       "      <td>-0.415191</td>\n",
       "      <td>0.053661</td>\n",
       "      <td>-2.115113</td>\n",
       "    </tr>\n",
       "    <tr>\n",
       "      <th>5</th>\n",
       "      <td>-0.279510</td>\n",
       "      <td>1.062710</td>\n",
       "      <td>1.752014</td>\n",
       "      <td>0.695547</td>\n",
       "      <td>0.153661</td>\n",
       "      <td>0.167638</td>\n",
       "      <td>-0.765930</td>\n",
       "      <td>0.962299</td>\n",
       "      <td>0.902826</td>\n",
       "      <td>-0.537909</td>\n",
       "      <td>...</td>\n",
       "      <td>-1.029577</td>\n",
       "      <td>-1.524856</td>\n",
       "      <td>-0.854860</td>\n",
       "      <td>1.602816</td>\n",
       "      <td>0.185479</td>\n",
       "      <td>-0.994018</td>\n",
       "      <td>-0.131906</td>\n",
       "      <td>-1.335092</td>\n",
       "      <td>-0.089298</td>\n",
       "      <td>0.698566</td>\n",
       "    </tr>\n",
       "    <tr>\n",
       "      <th>6</th>\n",
       "      <td>-1.409126</td>\n",
       "      <td>0.870907</td>\n",
       "      <td>1.585812</td>\n",
       "      <td>0.929658</td>\n",
       "      <td>-0.550876</td>\n",
       "      <td>0.942045</td>\n",
       "      <td>-0.975349</td>\n",
       "      <td>-1.054851</td>\n",
       "      <td>2.165421</td>\n",
       "      <td>-1.267240</td>\n",
       "      <td>...</td>\n",
       "      <td>0.834355</td>\n",
       "      <td>-0.140432</td>\n",
       "      <td>0.119145</td>\n",
       "      <td>0.665715</td>\n",
       "      <td>0.407586</td>\n",
       "      <td>0.807843</td>\n",
       "      <td>-2.736464</td>\n",
       "      <td>-0.985153</td>\n",
       "      <td>-0.155276</td>\n",
       "      <td>-1.013228</td>\n",
       "    </tr>\n",
       "    <tr>\n",
       "      <th>7</th>\n",
       "      <td>-1.087436</td>\n",
       "      <td>-2.567767</td>\n",
       "      <td>0.661029</td>\n",
       "      <td>-0.332921</td>\n",
       "      <td>-0.928602</td>\n",
       "      <td>1.715950</td>\n",
       "      <td>-0.468756</td>\n",
       "      <td>0.860097</td>\n",
       "      <td>0.230087</td>\n",
       "      <td>0.618658</td>\n",
       "      <td>...</td>\n",
       "      <td>-0.051203</td>\n",
       "      <td>-0.439128</td>\n",
       "      <td>-1.501041</td>\n",
       "      <td>1.058357</td>\n",
       "      <td>1.854967</td>\n",
       "      <td>0.502250</td>\n",
       "      <td>0.114581</td>\n",
       "      <td>-0.368487</td>\n",
       "      <td>0.459343</td>\n",
       "      <td>0.585513</td>\n",
       "    </tr>\n",
       "    <tr>\n",
       "      <th>8</th>\n",
       "      <td>-0.181904</td>\n",
       "      <td>-0.603235</td>\n",
       "      <td>-2.552660</td>\n",
       "      <td>-0.031927</td>\n",
       "      <td>1.407189</td>\n",
       "      <td>0.060971</td>\n",
       "      <td>-1.542393</td>\n",
       "      <td>-0.821110</td>\n",
       "      <td>-1.599171</td>\n",
       "      <td>-2.068836</td>\n",
       "      <td>...</td>\n",
       "      <td>-1.883809</td>\n",
       "      <td>-1.314142</td>\n",
       "      <td>2.601240</td>\n",
       "      <td>-0.612552</td>\n",
       "      <td>-1.714963</td>\n",
       "      <td>1.350046</td>\n",
       "      <td>1.798990</td>\n",
       "      <td>-1.312854</td>\n",
       "      <td>0.033590</td>\n",
       "      <td>-0.220208</td>\n",
       "    </tr>\n",
       "    <tr>\n",
       "      <th>9</th>\n",
       "      <td>-0.308472</td>\n",
       "      <td>-0.842066</td>\n",
       "      <td>-0.831162</td>\n",
       "      <td>-0.493941</td>\n",
       "      <td>0.552794</td>\n",
       "      <td>-0.190511</td>\n",
       "      <td>0.231609</td>\n",
       "      <td>0.155412</td>\n",
       "      <td>-0.195703</td>\n",
       "      <td>-0.652119</td>\n",
       "      <td>...</td>\n",
       "      <td>-1.194699</td>\n",
       "      <td>-0.145231</td>\n",
       "      <td>0.013519</td>\n",
       "      <td>-2.156488</td>\n",
       "      <td>-0.494917</td>\n",
       "      <td>0.071770</td>\n",
       "      <td>-1.291559</td>\n",
       "      <td>1.001002</td>\n",
       "      <td>1.669011</td>\n",
       "      <td>1.480148</td>\n",
       "    </tr>\n",
       "  </tbody>\n",
       "</table>\n",
       "<p>10 rows × 40 columns</p>\n",
       "</div>"
      ],
      "text/plain": [
       "         0         1         2         3         4         5         6   \\\n",
       "0  2.706850  0.628133  0.907969  0.503826  0.651118 -0.319318 -0.848077   \n",
       "1 -0.993263  0.196800 -1.136645  0.000366  1.025984 -0.156598 -0.031579   \n",
       "2 -1.467514 -0.494095 -0.162535  0.485809  0.392489  0.221491 -0.855196   \n",
       "3  0.586847 -1.621348  0.677535  0.026105 -1.678284  0.333973 -0.532471   \n",
       "4  0.093628  1.240813 -1.097693 -1.908009 -0.380104 -1.666059 -2.736995   \n",
       "5 -0.279510  1.062710  1.752014  0.695547  0.153661  0.167638 -0.765930   \n",
       "6 -1.409126  0.870907  1.585812  0.929658 -0.550876  0.942045 -0.975349   \n",
       "7 -1.087436 -2.567767  0.661029 -0.332921 -0.928602  1.715950 -0.468756   \n",
       "8 -0.181904 -0.603235 -2.552660 -0.031927  1.407189  0.060971 -1.542393   \n",
       "9 -0.308472 -0.842066 -0.831162 -0.493941  0.552794 -0.190511  0.231609   \n",
       "\n",
       "         7         8         9   ...        30        31        32        33  \\\n",
       "0  0.605965 -2.018168  0.740122  ...  0.638787  0.329646 -0.497104 -0.754070   \n",
       "1  0.649826  2.154846 -0.610259  ...  0.187125 -0.732845 -1.382920  1.482495   \n",
       "2  1.541990  0.666319 -0.538235  ...  0.649148  0.358941 -1.080471  0.902398   \n",
       "3  2.117727  0.197524  2.302987  ... -0.971393 -1.522333  1.133703  0.528187   \n",
       "4  1.522562  0.178009 -0.626805  ... -1.235614 -0.798428  0.754121 -0.772041   \n",
       "5  0.962299  0.902826 -0.537909  ... -1.029577 -1.524856 -0.854860  1.602816   \n",
       "6 -1.054851  2.165421 -1.267240  ...  0.834355 -0.140432  0.119145  0.665715   \n",
       "7  0.860097  0.230087  0.618658  ... -0.051203 -0.439128 -1.501041  1.058357   \n",
       "8 -0.821110 -1.599171 -2.068836  ... -1.883809 -1.314142  2.601240 -0.612552   \n",
       "9  0.155412 -0.195703 -0.652119  ... -1.194699 -0.145231  0.013519 -2.156488   \n",
       "\n",
       "         34        35        36        37        38        39  \n",
       "0 -0.943406  0.484752 -0.116773  1.901755  0.238127  1.996652  \n",
       "1  0.961458 -2.141212  0.992573  1.192241 -1.046780  1.292765  \n",
       "2  0.161781  0.833029  0.975720 -0.388239  0.783316 -0.708954  \n",
       "3  0.393461 -0.630507 -1.398290 -0.219311 -0.045676  0.012421  \n",
       "4 -0.034432  0.688408  0.081523 -0.415191  0.053661 -2.115113  \n",
       "5  0.185479 -0.994018 -0.131906 -1.335092 -0.089298  0.698566  \n",
       "6  0.407586  0.807843 -2.736464 -0.985153 -0.155276 -1.013228  \n",
       "7  1.854967  0.502250  0.114581 -0.368487  0.459343  0.585513  \n",
       "8 -1.714963  1.350046  1.798990 -1.312854  0.033590 -0.220208  \n",
       "9 -0.494917  0.071770 -1.291559  1.001002  1.669011  1.480148  \n",
       "\n",
       "[10 rows x 40 columns]"
      ]
     },
     "execution_count": 155,
     "metadata": {},
     "output_type": "execute_result"
    }
   ],
   "source": [
    "# The DataFrame below has 10 rows and 40 columns and is made with NumPy array\n",
    "\n",
    "np.random.seed(101)\n",
    "df = pd.DataFrame(data = np.random.randn(10,40))\n",
    "df"
   ]
  },
  {
   "cell_type": "code",
   "execution_count": 157,
   "id": "1f3e5c92-1599-41c4-9554-12b850b5095f",
   "metadata": {},
   "outputs": [
    {
     "name": "stdout",
     "output_type": "stream",
     "text": [
      "         0         1         2         3         4         5         6   \\\n",
      "0  2.706850  0.628133  0.907969  0.503826  0.651118 -0.319318 -0.848077   \n",
      "1 -0.993263  0.196800 -1.136645  0.000366  1.025984 -0.156598 -0.031579   \n",
      "2 -1.467514 -0.494095 -0.162535  0.485809  0.392489  0.221491 -0.855196   \n",
      "3  0.586847 -1.621348  0.677535  0.026105 -1.678284  0.333973 -0.532471   \n",
      "4  0.093628  1.240813 -1.097693 -1.908009 -0.380104 -1.666059 -2.736995   \n",
      "5 -0.279510  1.062710  1.752014  0.695547  0.153661  0.167638 -0.765930   \n",
      "6 -1.409126  0.870907  1.585812  0.929658 -0.550876  0.942045 -0.975349   \n",
      "7 -1.087436 -2.567767  0.661029 -0.332921 -0.928602  1.715950 -0.468756   \n",
      "8 -0.181904 -0.603235 -2.552660 -0.031927  1.407189  0.060971 -1.542393   \n",
      "9 -0.308472 -0.842066 -0.831162 -0.493941  0.552794 -0.190511  0.231609   \n",
      "\n",
      "         7         8         9   ...        30        31        32        33  \\\n",
      "0  0.605965 -2.018168  0.740122  ...  0.638787  0.329646 -0.497104 -0.754070   \n",
      "1  0.649826  2.154846 -0.610259  ...  0.187125 -0.732845 -1.382920  1.482495   \n",
      "2  1.541990  0.666319 -0.538235  ...  0.649148  0.358941 -1.080471  0.902398   \n",
      "3  2.117727  0.197524  2.302987  ... -0.971393 -1.522333  1.133703  0.528187   \n",
      "4  1.522562  0.178009 -0.626805  ... -1.235614 -0.798428  0.754121 -0.772041   \n",
      "5  0.962299  0.902826 -0.537909  ... -1.029577 -1.524856 -0.854860  1.602816   \n",
      "6 -1.054851  2.165421 -1.267240  ...  0.834355 -0.140432  0.119145  0.665715   \n",
      "7  0.860097  0.230087  0.618658  ... -0.051203 -0.439128 -1.501041  1.058357   \n",
      "8 -0.821110 -1.599171 -2.068836  ... -1.883809 -1.314142  2.601240 -0.612552   \n",
      "9  0.155412 -0.195703 -0.652119  ... -1.194699 -0.145231  0.013519 -2.156488   \n",
      "\n",
      "         34        35        36        37        38        39  \n",
      "0 -0.943406  0.484752 -0.116773  1.901755  0.238127  1.996652  \n",
      "1  0.961458 -2.141212  0.992573  1.192241 -1.046780  1.292765  \n",
      "2  0.161781  0.833029  0.975720 -0.388239  0.783316 -0.708954  \n",
      "3  0.393461 -0.630507 -1.398290 -0.219311 -0.045676  0.012421  \n",
      "4 -0.034432  0.688408  0.081523 -0.415191  0.053661 -2.115113  \n",
      "5  0.185479 -0.994018 -0.131906 -1.335092 -0.089298  0.698566  \n",
      "6  0.407586  0.807843 -2.736464 -0.985153 -0.155276 -1.013228  \n",
      "7  1.854967  0.502250  0.114581 -0.368487  0.459343  0.585513  \n",
      "8 -1.714963  1.350046  1.798990 -1.312854  0.033590 -0.220208  \n",
      "9 -0.494917  0.071770 -1.291559  1.001002  1.669011  1.480148  \n",
      "\n",
      "[10 rows x 40 columns]\n"
     ]
    }
   ],
   "source": [
    "print(df)"
   ]
  },
  {
   "cell_type": "code",
   "execution_count": 159,
   "id": "5ab230ba-e61e-40a9-accb-94327660f733",
   "metadata": {},
   "outputs": [
    {
     "data": {
      "text/html": [
       "<div>\n",
       "<style scoped>\n",
       "    .dataframe tbody tr th:only-of-type {\n",
       "        vertical-align: middle;\n",
       "    }\n",
       "\n",
       "    .dataframe tbody tr th {\n",
       "        vertical-align: top;\n",
       "    }\n",
       "\n",
       "    .dataframe thead th {\n",
       "        text-align: right;\n",
       "    }\n",
       "</style>\n",
       "<table border=\"1\" class=\"dataframe\">\n",
       "  <thead>\n",
       "    <tr style=\"text-align: right;\">\n",
       "      <th></th>\n",
       "      <th>0</th>\n",
       "      <th>1</th>\n",
       "      <th>2</th>\n",
       "      <th>3</th>\n",
       "      <th>4</th>\n",
       "      <th>5</th>\n",
       "      <th>6</th>\n",
       "      <th>7</th>\n",
       "      <th>8</th>\n",
       "      <th>9</th>\n",
       "      <th>...</th>\n",
       "      <th>30</th>\n",
       "      <th>31</th>\n",
       "      <th>32</th>\n",
       "      <th>33</th>\n",
       "      <th>34</th>\n",
       "      <th>35</th>\n",
       "      <th>36</th>\n",
       "      <th>37</th>\n",
       "      <th>38</th>\n",
       "      <th>39</th>\n",
       "    </tr>\n",
       "  </thead>\n",
       "  <tbody>\n",
       "    <tr>\n",
       "      <th>0</th>\n",
       "      <td>2.706850</td>\n",
       "      <td>0.628133</td>\n",
       "      <td>0.907969</td>\n",
       "      <td>0.503826</td>\n",
       "      <td>0.651118</td>\n",
       "      <td>-0.319318</td>\n",
       "      <td>-0.848077</td>\n",
       "      <td>0.605965</td>\n",
       "      <td>-2.018168</td>\n",
       "      <td>0.740122</td>\n",
       "      <td>...</td>\n",
       "      <td>0.638787</td>\n",
       "      <td>0.329646</td>\n",
       "      <td>-0.497104</td>\n",
       "      <td>-0.754070</td>\n",
       "      <td>-0.943406</td>\n",
       "      <td>0.484752</td>\n",
       "      <td>-0.116773</td>\n",
       "      <td>1.901755</td>\n",
       "      <td>0.238127</td>\n",
       "      <td>1.996652</td>\n",
       "    </tr>\n",
       "    <tr>\n",
       "      <th>1</th>\n",
       "      <td>-0.993263</td>\n",
       "      <td>0.196800</td>\n",
       "      <td>-1.136645</td>\n",
       "      <td>0.000366</td>\n",
       "      <td>1.025984</td>\n",
       "      <td>-0.156598</td>\n",
       "      <td>-0.031579</td>\n",
       "      <td>0.649826</td>\n",
       "      <td>2.154846</td>\n",
       "      <td>-0.610259</td>\n",
       "      <td>...</td>\n",
       "      <td>0.187125</td>\n",
       "      <td>-0.732845</td>\n",
       "      <td>-1.382920</td>\n",
       "      <td>1.482495</td>\n",
       "      <td>0.961458</td>\n",
       "      <td>-2.141212</td>\n",
       "      <td>0.992573</td>\n",
       "      <td>1.192241</td>\n",
       "      <td>-1.046780</td>\n",
       "      <td>1.292765</td>\n",
       "    </tr>\n",
       "    <tr>\n",
       "      <th>2</th>\n",
       "      <td>-1.467514</td>\n",
       "      <td>-0.494095</td>\n",
       "      <td>-0.162535</td>\n",
       "      <td>0.485809</td>\n",
       "      <td>0.392489</td>\n",
       "      <td>0.221491</td>\n",
       "      <td>-0.855196</td>\n",
       "      <td>1.541990</td>\n",
       "      <td>0.666319</td>\n",
       "      <td>-0.538235</td>\n",
       "      <td>...</td>\n",
       "      <td>0.649148</td>\n",
       "      <td>0.358941</td>\n",
       "      <td>-1.080471</td>\n",
       "      <td>0.902398</td>\n",
       "      <td>0.161781</td>\n",
       "      <td>0.833029</td>\n",
       "      <td>0.975720</td>\n",
       "      <td>-0.388239</td>\n",
       "      <td>0.783316</td>\n",
       "      <td>-0.708954</td>\n",
       "    </tr>\n",
       "    <tr>\n",
       "      <th>3</th>\n",
       "      <td>0.586847</td>\n",
       "      <td>-1.621348</td>\n",
       "      <td>0.677535</td>\n",
       "      <td>0.026105</td>\n",
       "      <td>-1.678284</td>\n",
       "      <td>0.333973</td>\n",
       "      <td>-0.532471</td>\n",
       "      <td>2.117727</td>\n",
       "      <td>0.197524</td>\n",
       "      <td>2.302987</td>\n",
       "      <td>...</td>\n",
       "      <td>-0.971393</td>\n",
       "      <td>-1.522333</td>\n",
       "      <td>1.133703</td>\n",
       "      <td>0.528187</td>\n",
       "      <td>0.393461</td>\n",
       "      <td>-0.630507</td>\n",
       "      <td>-1.398290</td>\n",
       "      <td>-0.219311</td>\n",
       "      <td>-0.045676</td>\n",
       "      <td>0.012421</td>\n",
       "    </tr>\n",
       "    <tr>\n",
       "      <th>4</th>\n",
       "      <td>0.093628</td>\n",
       "      <td>1.240813</td>\n",
       "      <td>-1.097693</td>\n",
       "      <td>-1.908009</td>\n",
       "      <td>-0.380104</td>\n",
       "      <td>-1.666059</td>\n",
       "      <td>-2.736995</td>\n",
       "      <td>1.522562</td>\n",
       "      <td>0.178009</td>\n",
       "      <td>-0.626805</td>\n",
       "      <td>...</td>\n",
       "      <td>-1.235614</td>\n",
       "      <td>-0.798428</td>\n",
       "      <td>0.754121</td>\n",
       "      <td>-0.772041</td>\n",
       "      <td>-0.034432</td>\n",
       "      <td>0.688408</td>\n",
       "      <td>0.081523</td>\n",
       "      <td>-0.415191</td>\n",
       "      <td>0.053661</td>\n",
       "      <td>-2.115113</td>\n",
       "    </tr>\n",
       "    <tr>\n",
       "      <th>5</th>\n",
       "      <td>-0.279510</td>\n",
       "      <td>1.062710</td>\n",
       "      <td>1.752014</td>\n",
       "      <td>0.695547</td>\n",
       "      <td>0.153661</td>\n",
       "      <td>0.167638</td>\n",
       "      <td>-0.765930</td>\n",
       "      <td>0.962299</td>\n",
       "      <td>0.902826</td>\n",
       "      <td>-0.537909</td>\n",
       "      <td>...</td>\n",
       "      <td>-1.029577</td>\n",
       "      <td>-1.524856</td>\n",
       "      <td>-0.854860</td>\n",
       "      <td>1.602816</td>\n",
       "      <td>0.185479</td>\n",
       "      <td>-0.994018</td>\n",
       "      <td>-0.131906</td>\n",
       "      <td>-1.335092</td>\n",
       "      <td>-0.089298</td>\n",
       "      <td>0.698566</td>\n",
       "    </tr>\n",
       "    <tr>\n",
       "      <th>6</th>\n",
       "      <td>-1.409126</td>\n",
       "      <td>0.870907</td>\n",
       "      <td>1.585812</td>\n",
       "      <td>0.929658</td>\n",
       "      <td>-0.550876</td>\n",
       "      <td>0.942045</td>\n",
       "      <td>-0.975349</td>\n",
       "      <td>-1.054851</td>\n",
       "      <td>2.165421</td>\n",
       "      <td>-1.267240</td>\n",
       "      <td>...</td>\n",
       "      <td>0.834355</td>\n",
       "      <td>-0.140432</td>\n",
       "      <td>0.119145</td>\n",
       "      <td>0.665715</td>\n",
       "      <td>0.407586</td>\n",
       "      <td>0.807843</td>\n",
       "      <td>-2.736464</td>\n",
       "      <td>-0.985153</td>\n",
       "      <td>-0.155276</td>\n",
       "      <td>-1.013228</td>\n",
       "    </tr>\n",
       "    <tr>\n",
       "      <th>7</th>\n",
       "      <td>-1.087436</td>\n",
       "      <td>-2.567767</td>\n",
       "      <td>0.661029</td>\n",
       "      <td>-0.332921</td>\n",
       "      <td>-0.928602</td>\n",
       "      <td>1.715950</td>\n",
       "      <td>-0.468756</td>\n",
       "      <td>0.860097</td>\n",
       "      <td>0.230087</td>\n",
       "      <td>0.618658</td>\n",
       "      <td>...</td>\n",
       "      <td>-0.051203</td>\n",
       "      <td>-0.439128</td>\n",
       "      <td>-1.501041</td>\n",
       "      <td>1.058357</td>\n",
       "      <td>1.854967</td>\n",
       "      <td>0.502250</td>\n",
       "      <td>0.114581</td>\n",
       "      <td>-0.368487</td>\n",
       "      <td>0.459343</td>\n",
       "      <td>0.585513</td>\n",
       "    </tr>\n",
       "    <tr>\n",
       "      <th>8</th>\n",
       "      <td>-0.181904</td>\n",
       "      <td>-0.603235</td>\n",
       "      <td>-2.552660</td>\n",
       "      <td>-0.031927</td>\n",
       "      <td>1.407189</td>\n",
       "      <td>0.060971</td>\n",
       "      <td>-1.542393</td>\n",
       "      <td>-0.821110</td>\n",
       "      <td>-1.599171</td>\n",
       "      <td>-2.068836</td>\n",
       "      <td>...</td>\n",
       "      <td>-1.883809</td>\n",
       "      <td>-1.314142</td>\n",
       "      <td>2.601240</td>\n",
       "      <td>-0.612552</td>\n",
       "      <td>-1.714963</td>\n",
       "      <td>1.350046</td>\n",
       "      <td>1.798990</td>\n",
       "      <td>-1.312854</td>\n",
       "      <td>0.033590</td>\n",
       "      <td>-0.220208</td>\n",
       "    </tr>\n",
       "    <tr>\n",
       "      <th>9</th>\n",
       "      <td>-0.308472</td>\n",
       "      <td>-0.842066</td>\n",
       "      <td>-0.831162</td>\n",
       "      <td>-0.493941</td>\n",
       "      <td>0.552794</td>\n",
       "      <td>-0.190511</td>\n",
       "      <td>0.231609</td>\n",
       "      <td>0.155412</td>\n",
       "      <td>-0.195703</td>\n",
       "      <td>-0.652119</td>\n",
       "      <td>...</td>\n",
       "      <td>-1.194699</td>\n",
       "      <td>-0.145231</td>\n",
       "      <td>0.013519</td>\n",
       "      <td>-2.156488</td>\n",
       "      <td>-0.494917</td>\n",
       "      <td>0.071770</td>\n",
       "      <td>-1.291559</td>\n",
       "      <td>1.001002</td>\n",
       "      <td>1.669011</td>\n",
       "      <td>1.480148</td>\n",
       "    </tr>\n",
       "  </tbody>\n",
       "</table>\n",
       "<p>10 rows × 40 columns</p>\n",
       "</div>"
      ],
      "text/plain": [
       "         0         1         2         3         4         5         6   \\\n",
       "0  2.706850  0.628133  0.907969  0.503826  0.651118 -0.319318 -0.848077   \n",
       "1 -0.993263  0.196800 -1.136645  0.000366  1.025984 -0.156598 -0.031579   \n",
       "2 -1.467514 -0.494095 -0.162535  0.485809  0.392489  0.221491 -0.855196   \n",
       "3  0.586847 -1.621348  0.677535  0.026105 -1.678284  0.333973 -0.532471   \n",
       "4  0.093628  1.240813 -1.097693 -1.908009 -0.380104 -1.666059 -2.736995   \n",
       "5 -0.279510  1.062710  1.752014  0.695547  0.153661  0.167638 -0.765930   \n",
       "6 -1.409126  0.870907  1.585812  0.929658 -0.550876  0.942045 -0.975349   \n",
       "7 -1.087436 -2.567767  0.661029 -0.332921 -0.928602  1.715950 -0.468756   \n",
       "8 -0.181904 -0.603235 -2.552660 -0.031927  1.407189  0.060971 -1.542393   \n",
       "9 -0.308472 -0.842066 -0.831162 -0.493941  0.552794 -0.190511  0.231609   \n",
       "\n",
       "         7         8         9   ...        30        31        32        33  \\\n",
       "0  0.605965 -2.018168  0.740122  ...  0.638787  0.329646 -0.497104 -0.754070   \n",
       "1  0.649826  2.154846 -0.610259  ...  0.187125 -0.732845 -1.382920  1.482495   \n",
       "2  1.541990  0.666319 -0.538235  ...  0.649148  0.358941 -1.080471  0.902398   \n",
       "3  2.117727  0.197524  2.302987  ... -0.971393 -1.522333  1.133703  0.528187   \n",
       "4  1.522562  0.178009 -0.626805  ... -1.235614 -0.798428  0.754121 -0.772041   \n",
       "5  0.962299  0.902826 -0.537909  ... -1.029577 -1.524856 -0.854860  1.602816   \n",
       "6 -1.054851  2.165421 -1.267240  ...  0.834355 -0.140432  0.119145  0.665715   \n",
       "7  0.860097  0.230087  0.618658  ... -0.051203 -0.439128 -1.501041  1.058357   \n",
       "8 -0.821110 -1.599171 -2.068836  ... -1.883809 -1.314142  2.601240 -0.612552   \n",
       "9  0.155412 -0.195703 -0.652119  ... -1.194699 -0.145231  0.013519 -2.156488   \n",
       "\n",
       "         34        35        36        37        38        39  \n",
       "0 -0.943406  0.484752 -0.116773  1.901755  0.238127  1.996652  \n",
       "1  0.961458 -2.141212  0.992573  1.192241 -1.046780  1.292765  \n",
       "2  0.161781  0.833029  0.975720 -0.388239  0.783316 -0.708954  \n",
       "3  0.393461 -0.630507 -1.398290 -0.219311 -0.045676  0.012421  \n",
       "4 -0.034432  0.688408  0.081523 -0.415191  0.053661 -2.115113  \n",
       "5  0.185479 -0.994018 -0.131906 -1.335092 -0.089298  0.698566  \n",
       "6  0.407586  0.807843 -2.736464 -0.985153 -0.155276 -1.013228  \n",
       "7  1.854967  0.502250  0.114581 -0.368487  0.459343  0.585513  \n",
       "8 -1.714963  1.350046  1.798990 -1.312854  0.033590 -0.220208  \n",
       "9 -0.494917  0.071770 -1.291559  1.001002  1.669011  1.480148  \n",
       "\n",
       "[10 rows x 40 columns]"
      ]
     },
     "execution_count": 159,
     "metadata": {},
     "output_type": "execute_result"
    }
   ],
   "source": [
    "df2 = df.copy()\n",
    "df2"
   ]
  },
  {
   "cell_type": "code",
   "execution_count": null,
   "id": "f6f1251e-8c4a-4471-a93d-18ee66767f9b",
   "metadata": {},
   "outputs": [],
   "source": []
  }
 ],
 "metadata": {
  "kernelspec": {
   "display_name": "Python [conda env:base] *",
   "language": "python",
   "name": "conda-base-py"
  },
  "language_info": {
   "codemirror_mode": {
    "name": "ipython",
    "version": 3
   },
   "file_extension": ".py",
   "mimetype": "text/x-python",
   "name": "python",
   "nbconvert_exporter": "python",
   "pygments_lexer": "ipython3",
   "version": "3.12.7"
  }
 },
 "nbformat": 4,
 "nbformat_minor": 5
}
