{
 "cells": [
  {
   "cell_type": "code",
   "execution_count": 5,
   "id": "7b696898-5711-4f3f-8728-13fba1441544",
   "metadata": {},
   "outputs": [],
   "source": [
    "import numpy as np"
   ]
  },
  {
   "cell_type": "markdown",
   "id": "11f5548b-868d-4929-9965-6e06546376b0",
   "metadata": {},
   "source": [
    "## np.array() - 1D"
   ]
  },
  {
   "cell_type": "code",
   "execution_count": 1,
   "id": "6254d649-4f5f-43f8-acbf-2c0c93b529ed",
   "metadata": {},
   "outputs": [
    {
     "data": {
      "text/plain": [
       "[567396, 567889, 567445, 568034]"
      ]
     },
     "execution_count": 1,
     "metadata": {},
     "output_type": "execute_result"
    }
   ],
   "source": [
    "my_list = [567396, 567889, 567445, 568034]\n",
    "my_list"
   ]
  },
  {
   "cell_type": "code",
   "execution_count": 2,
   "id": "1ba18480-e91a-4b9b-bd32-e82dc130f11c",
   "metadata": {},
   "outputs": [
    {
     "data": {
      "text/plain": [
       "list"
      ]
     },
     "execution_count": 2,
     "metadata": {},
     "output_type": "execute_result"
    }
   ],
   "source": [
    "type(my_list)"
   ]
  },
  {
   "cell_type": "code",
   "execution_count": 6,
   "id": "56ae6e57-5d54-4a4e-91c2-e3b3631131ff",
   "metadata": {},
   "outputs": [
    {
     "data": {
      "text/plain": [
       "array([567396, 567889, 567445, 568034])"
      ]
     },
     "execution_count": 6,
     "metadata": {},
     "output_type": "execute_result"
    }
   ],
   "source": [
    "arr = np.array(my_list)\n",
    "arr"
   ]
  },
  {
   "cell_type": "code",
   "execution_count": null,
   "id": "b93892e7-c76e-4cd2-8c2b-a7ea61b7bd4e",
   "metadata": {},
   "outputs": [
    {
     "data": {
      "text/plain": [
       "[19, 'female', 27.9, 0, True, 'southwest', 16884.924]"
      ]
     },
     "execution_count": 51,
     "metadata": {},
     "output_type": "execute_result"
    }
   ],
   "source": [
    "my_list = [19,'female',27.9,0,True,'southwest',16884.924]\n",
    "my_list"
   ]
  },
  {
   "cell_type": "code",
   "execution_count": null,
   "id": "2d3a7b77-7cdd-4032-9dcf-b2ffa8d665f0",
   "metadata": {},
   "outputs": [
    {
     "name": "stdout",
     "output_type": "stream",
     "text": [
      "* The index 0 is:  19, and its data type is <class 'int'>\n",
      "* The index 1 is:  female, and its data type is <class 'str'>\n"
     ]
    }
   ],
   "source": [
    "print(f\"* The index 0 is:  {my_list[0]}, and its data type is {type(my_list[0])}\")\n",
    "print(f\"* The index 1 is:  {my_list[1]}, and its data type is {type(my_list[1])}\")"
   ]
  },
  {
   "cell_type": "code",
   "execution_count": null,
   "id": "fbe82195-670b-4edb-8322-b71260546673",
   "metadata": {},
   "outputs": [
    {
     "data": {
      "text/plain": [
       "dtype('O')"
      ]
     },
     "execution_count": 53,
     "metadata": {},
     "output_type": "execute_result"
    }
   ],
   "source": [
    "arr.dtype"
   ]
  },
  {
   "cell_type": "code",
   "execution_count": null,
   "id": "46faa2bb-bf2d-4c87-b210-d8e34792cab2",
   "metadata": {},
   "outputs": [
    {
     "data": {
      "text/plain": [
       "array([19, 'female', 27.9, 0, True, 'southwest', 16884.924], dtype=object)"
      ]
     },
     "execution_count": 41,
     "metadata": {},
     "output_type": "execute_result"
    }
   ],
   "source": [
    "arr = np.array(my_list,dtype=object)\n",
    "arr"
   ]
  },
  {
   "cell_type": "code",
   "execution_count": null,
   "id": "d73215e2-0ef1-404c-ab48-89ade86bd4fe",
   "metadata": {},
   "outputs": [
    {
     "data": {
      "text/plain": [
       "dtype('O')"
      ]
     },
     "execution_count": 19,
     "metadata": {},
     "output_type": "execute_result"
    }
   ],
   "source": [
    "# now dtype give O as Object output\n",
    "arr.dtype"
   ]
  },
  {
   "cell_type": "code",
   "execution_count": null,
   "id": "5a28d079-2406-4ff7-adde-f928423e8862",
   "metadata": {},
   "outputs": [
    {
     "data": {
      "text/plain": [
       "[8, 8.5]"
      ]
     },
     "execution_count": 21,
     "metadata": {},
     "output_type": "execute_result"
    }
   ],
   "source": [
    "my_list = [8, 8.5]\n",
    "my_list"
   ]
  },
  {
   "cell_type": "code",
   "execution_count": null,
   "id": "18a3dbe2-d4ec-410a-a2ef-abef02f2d66b",
   "metadata": {},
   "outputs": [
    {
     "data": {
      "text/plain": [
       "array([8, 8.5], dtype=object)"
      ]
     },
     "execution_count": 25,
     "metadata": {},
     "output_type": "execute_result"
    }
   ],
   "source": [
    "arr = np.array(my_list, dtype=object)\n",
    "arr"
   ]
  },
  {
   "cell_type": "code",
   "execution_count": null,
   "id": "04c3883b-e543-4178-a32c-a013d344adef",
   "metadata": {},
   "outputs": [
    {
     "name": "stdout",
     "output_type": "stream",
     "text": [
      "object\n"
     ]
    }
   ],
   "source": [
    "print(arr.dtype)"
   ]
  },
  {
   "cell_type": "code",
   "execution_count": null,
   "id": "52bbe8eb-374b-4f1e-a5dd-8acf6291c97d",
   "metadata": {},
   "outputs": [
    {
     "data": {
      "text/plain": [
       "dtype('O')"
      ]
     },
     "execution_count": 31,
     "metadata": {},
     "output_type": "execute_result"
    }
   ],
   "source": [
    "arr.dtype"
   ]
  },
  {
   "cell_type": "markdown",
   "id": "e18e43fb-0c6d-4cbf-b295-f0d9a0057f6e",
   "metadata": {},
   "source": [
    "## np.array()-2D"
   ]
  },
  {
   "cell_type": "code",
   "execution_count": null,
   "id": "12288731-75eb-463a-817f-58d1f105eff2",
   "metadata": {},
   "outputs": [
    {
     "data": {
      "text/plain": [
       "[[536365, 17850, 6], [536366, 17850, 6], [536367, 13047, 32]]"
      ]
     },
     "execution_count": 5,
     "metadata": {},
     "output_type": "execute_result"
    }
   ],
   "source": [
    "my_list = [ [536365,  17850,  6], [536366,  17850,  6], [536367, 13047, 32] ]\n",
    "my_list"
   ]
  },
  {
   "cell_type": "code",
   "execution_count": null,
   "id": "4dd9e88e-aaa7-4563-a867-f1d76d9e3e03",
   "metadata": {},
   "outputs": [
    {
     "data": {
      "text/plain": [
       "array([[536365,  17850,      6],\n",
       "       [536366,  17850,      6],\n",
       "       [536367,  13047,     32]])"
      ]
     },
     "execution_count": 7,
     "metadata": {},
     "output_type": "execute_result"
    }
   ],
   "source": [
    "arr = np.array(my_list)\n",
    "arr"
   ]
  },
  {
   "cell_type": "code",
   "execution_count": null,
   "id": "f12fede7-6dc2-4a3f-9680-d4c9d5cac7de",
   "metadata": {},
   "outputs": [
    {
     "data": {
      "text/plain": [
       "array([['A', 'B'],\n",
       "       ['C', 'D']], dtype='<U1')"
      ]
     },
     "execution_count": 9,
     "metadata": {},
     "output_type": "execute_result"
    }
   ],
   "source": [
    "my_2dlist = [['A','B'],['C','D']]\n",
    "arr = np.array(my_2dlist)\n",
    "arr"
   ]
  },
  {
   "cell_type": "markdown",
   "id": "5778cf15-9143-4972-ba2d-59313a50c65a",
   "metadata": {},
   "source": []
  },
  {
   "cell_type": "markdown",
   "id": "e33655f8-69d7-4349-8bed-e8cde3ca60ff",
   "metadata": {},
   "source": [
    "## np.arange()"
   ]
  },
  {
   "cell_type": "code",
   "execution_count": null,
   "id": "3b9909f5-02c3-4482-82bf-181dddabbe92",
   "metadata": {},
   "outputs": [
    {
     "data": {
      "text/plain": [
       "array([1, 2, 3, 4, 5, 6, 7, 8, 9])"
      ]
     },
     "execution_count": 5,
     "metadata": {},
     "output_type": "execute_result"
    }
   ],
   "source": [
    "arr = np.arange(start=1, stop=10, step=1)\n",
    "arr"
   ]
  },
  {
   "cell_type": "code",
   "execution_count": null,
   "id": "6fb3b4f1-beca-43be-8db2-dc2e556a8255",
   "metadata": {},
   "outputs": [
    {
     "data": {
      "text/plain": [
       "array([1. , 1.5, 2. , 2.5, 3. , 3.5, 4. , 4.5, 5. , 5.5, 6. , 6.5, 7. ,\n",
       "       7.5, 8. , 8.5, 9. , 9.5])"
      ]
     },
     "execution_count": 7,
     "metadata": {},
     "output_type": "execute_result"
    }
   ],
   "source": [
    "arr = np.arange(start=1, stop=10, step=.5)\n",
    "arr"
   ]
  },
  {
   "cell_type": "code",
   "execution_count": null,
   "id": "176197a3-11d5-4f2a-8b09-a0bf54a0114c",
   "metadata": {},
   "outputs": [],
   "source": []
  },
  {
   "cell_type": "markdown",
   "id": "95962408-52df-424e-aded-3b824ceb9bd1",
   "metadata": {},
   "source": [
    "## np.zeros() - 2D and 3D"
   ]
  },
  {
   "cell_type": "code",
   "execution_count": null,
   "id": "b6119a65-70b2-47ff-9097-9d87e13247bc",
   "metadata": {},
   "outputs": [
    {
     "data": {
      "text/plain": [
       "array([[0., 0., 0.],\n",
       "       [0., 0., 0.]])"
      ]
     },
     "execution_count": 11,
     "metadata": {},
     "output_type": "execute_result"
    }
   ],
   "source": [
    "arr = np.zeros(shape=(2,3))\n",
    "arr"
   ]
  },
  {
   "cell_type": "code",
   "execution_count": null,
   "id": "6d7b632d-3425-44b8-be65-33d68409e8e3",
   "metadata": {},
   "outputs": [
    {
     "data": {
      "text/plain": [
       "array([[[0., 0., 0., 0.],\n",
       "        [0., 0., 0., 0.],\n",
       "        [0., 0., 0., 0.]],\n",
       "\n",
       "       [[0., 0., 0., 0.],\n",
       "        [0., 0., 0., 0.],\n",
       "        [0., 0., 0., 0.]]])"
      ]
     },
     "execution_count": 13,
     "metadata": {},
     "output_type": "execute_result"
    }
   ],
   "source": [
    "arr = np.zeros(shape=(2,3,4))\n",
    "arr"
   ]
  },
  {
   "cell_type": "code",
   "execution_count": null,
   "id": "9cbb26d3-2464-4f39-b090-0e253ee4d290",
   "metadata": {},
   "outputs": [],
   "source": []
  },
  {
   "cell_type": "markdown",
   "id": "301d2d31-f958-4881-a178-15299efa46d9",
   "metadata": {},
   "source": [
    "## np.ones()"
   ]
  },
  {
   "cell_type": "code",
   "execution_count": null,
   "id": "2e55444c-2584-4db9-9637-aee692712ed3",
   "metadata": {},
   "outputs": [
    {
     "data": {
      "text/plain": [
       "array([1., 1., 1.])"
      ]
     },
     "execution_count": 145,
     "metadata": {},
     "output_type": "execute_result"
    }
   ],
   "source": [
    "# 1-D\n",
    "\n",
    "arry = np.ones(shape=3)\n",
    "arry"
   ]
  },
  {
   "cell_type": "code",
   "execution_count": null,
   "id": "50ae4cec-f2fe-43c1-810a-9733fcfb6341",
   "metadata": {},
   "outputs": [
    {
     "data": {
      "text/plain": [
       "array([[1., 1., 1., 1., 1.],\n",
       "       [1., 1., 1., 1., 1.]])"
      ]
     },
     "execution_count": 147,
     "metadata": {},
     "output_type": "execute_result"
    }
   ],
   "source": [
    "# 2-D\n",
    "\n",
    "arry = np.ones(shape=(2,5))\n",
    "arry"
   ]
  },
  {
   "cell_type": "code",
   "execution_count": null,
   "id": "01953a47-daf0-4be7-ba0b-abd9afcb6229",
   "metadata": {},
   "outputs": [],
   "source": []
  },
  {
   "cell_type": "markdown",
   "id": "bfa8c0ee-6822-4e2a-ab16-d71548df5d14",
   "metadata": {},
   "source": [
    "## np.linspace(start=1,stop=1,num=1)"
   ]
  },
  {
   "cell_type": "code",
   "execution_count": null,
   "id": "9c490bee-25f8-48c2-9c33-3470b3892b9f",
   "metadata": {},
   "outputs": [
    {
     "data": {
      "text/plain": [
       "array([1., 3., 5.])"
      ]
     },
     "execution_count": 70,
     "metadata": {},
     "output_type": "execute_result"
    }
   ],
   "source": [
    "arr = np.linspace(start=1,stop=5,num=3)\n",
    "arr"
   ]
  },
  {
   "cell_type": "code",
   "execution_count": null,
   "id": "3b70ba14-beb5-4049-8719-f40d13ad6a48",
   "metadata": {},
   "outputs": [
    {
     "data": {
      "text/plain": [
       "array([10.        , 14.44444444, 18.88888889, 23.33333333, 27.77777778,\n",
       "       32.22222222, 36.66666667, 41.11111111, 45.55555556, 50.        ])"
      ]
     },
     "execution_count": 75,
     "metadata": {},
     "output_type": "execute_result"
    }
   ],
   "source": [
    "arr = np.linspace(start=10,stop=50,num=10)\n",
    "arr"
   ]
  },
  {
   "cell_type": "code",
   "execution_count": null,
   "id": "312d7c28-7e5b-4557-96d1-ddb73c0ca182",
   "metadata": {},
   "outputs": [
    {
     "data": {
      "text/plain": [
       "array([-3., -2., -1.,  0.,  1.,  2.,  3.,  4.,  5.])"
      ]
     },
     "execution_count": 83,
     "metadata": {},
     "output_type": "execute_result"
    }
   ],
   "source": [
    "arr = np.linspace(start=-3,stop=5,num=9)\n",
    "arr"
   ]
  },
  {
   "cell_type": "markdown",
   "id": "8411ca9b-80cc-4c63-8f7a-85bed9c434cf",
   "metadata": {},
   "source": [
    "## np.random.rand()"
   ]
  },
  {
   "cell_type": "code",
   "execution_count": null,
   "id": "e5846993-2252-4560-9709-4ae3d21b1dc3",
   "metadata": {},
   "outputs": [
    {
     "data": {
      "text/plain": [
       "array([[0.75542376, 0.91190398],\n",
       "       [0.42912552, 0.3984285 ]])"
      ]
     },
     "execution_count": 85,
     "metadata": {},
     "output_type": "execute_result"
    }
   ],
   "source": [
    "# 2-D array\n",
    "\n",
    "arr = np.random.rand(2,2)\n",
    "arr"
   ]
  },
  {
   "cell_type": "code",
   "execution_count": null,
   "id": "d8d33472-0f83-4c8a-b2e8-5b24b3d369a7",
   "metadata": {},
   "outputs": [
    {
     "data": {
      "text/plain": [
       "array([[[0.74358142, 0.25692186, 0.55351127],\n",
       "        [0.48130684, 0.01651571, 0.29623486]],\n",
       "\n",
       "       [[0.6613945 , 0.47040983, 0.76355758],\n",
       "        [0.49799413, 0.50123969, 0.01913725]]])"
      ]
     },
     "execution_count": 87,
     "metadata": {},
     "output_type": "execute_result"
    }
   ],
   "source": [
    "# 3-D array\n",
    "\n",
    "arr = np.random.rand(2,2,3)\n",
    "arr"
   ]
  },
  {
   "cell_type": "code",
   "execution_count": null,
   "id": "4fc50b64-dd0e-44fc-9c43-86f739a63f51",
   "metadata": {},
   "outputs": [
    {
     "data": {
      "text/plain": [
       "array([[0.87898671, 0.58539125],\n",
       "       [0.66197951, 0.98229199],\n",
       "       [0.0019391 , 0.97754318],\n",
       "       [0.54315783, 0.03695227],\n",
       "       [0.99861477, 0.71233926],\n",
       "       [0.11602105, 0.76420349],\n",
       "       [0.80887766, 0.6100533 ],\n",
       "       [0.80077598, 0.81609283]])"
      ]
     },
     "execution_count": 89,
     "metadata": {},
     "output_type": "execute_result"
    }
   ],
   "source": [
    "# 2-D array\n",
    "\n",
    "arr = np.random.rand(8,2)\n",
    "arr"
   ]
  },
  {
   "cell_type": "code",
   "execution_count": null,
   "id": "6f1d7293-51c3-4f15-b628-9c4f9a7a643f",
   "metadata": {},
   "outputs": [
    {
     "data": {
      "text/plain": [
       "array([0.55619482, 0.20325383, 0.17871603, 0.42838724, 0.3332283 ,\n",
       "       0.84046903, 0.6832278 , 0.54251019, 0.77046564, 0.38866789,\n",
       "       0.90930097, 0.3249484 , 0.70593521, 0.35167023, 0.30191626,\n",
       "       0.36066769, 0.11260217, 0.06597185, 0.35197916, 0.43741452,\n",
       "       0.84711373, 0.625838  , 0.67715056, 0.37137288, 0.42683082])"
      ]
     },
     "execution_count": 93,
     "metadata": {},
     "output_type": "execute_result"
    }
   ],
   "source": [
    "# 1-D array\n",
    "\n",
    "arr = np.random.rand(25)\n",
    "arr"
   ]
  },
  {
   "cell_type": "markdown",
   "id": "5f075530-de11-4528-ae7f-2d8596ac6f9f",
   "metadata": {},
   "source": [
    "## np.random.randint(low = 1, high = 10, size = 5)"
   ]
  },
  {
   "cell_type": "code",
   "execution_count": null,
   "id": "31959560-6438-44d2-b5f5-a6a82a3d1f79",
   "metadata": {},
   "outputs": [
    {
     "data": {
      "text/plain": [
       "array([14, 19, 49, 32, 41])"
      ]
     },
     "execution_count": 98,
     "metadata": {},
     "output_type": "execute_result"
    }
   ],
   "source": [
    "# 1-d array, shape: 5 elements\n",
    "\n",
    "arr = np.random.randint(low=10,high=50,size=5)\n",
    "arr"
   ]
  },
  {
   "cell_type": "markdown",
   "id": "f6e94c0a-d9c3-4db6-bd5f-a47e5e6fe60a",
   "metadata": {},
   "source": [
    "# 2-d array, shape: 4 rows x 3 columns\n",
    "\n",
    "arr = np.random.randint(low=250,high=888,size=(4,3))\n",
    "arr "
   ]
  },
  {
   "cell_type": "code",
   "execution_count": null,
   "id": "335e448a-79c7-4d5a-94e1-29e72bb49583",
   "metadata": {},
   "outputs": [
    {
     "data": {
      "text/plain": [
       "array([[[284, 836],\n",
       "        [468, 543],\n",
       "        [651, 456]],\n",
       "\n",
       "       [[427, 881],\n",
       "        [276, 702],\n",
       "        [769, 571]],\n",
       "\n",
       "       [[278, 856],\n",
       "        [471, 302],\n",
       "        [402, 727]],\n",
       "\n",
       "       [[368, 342],\n",
       "        [694, 769],\n",
       "        [420, 680]]])"
      ]
     },
     "execution_count": 106,
     "metadata": {},
     "output_type": "execute_result"
    }
   ],
   "source": [
    "# 3-d array, shape: 4 sets x 3rows(in each set) x 2 columns\n",
    "\n",
    "arr = np.random.randint(low=250,high=888,size=(4,3,2))\n",
    "arr "
   ]
  },
  {
   "cell_type": "markdown",
   "id": "f34be1a8-013d-4ba6-bdd0-4ae950a52f6e",
   "metadata": {},
   "source": [
    "## np.random.seed(seed = 1)"
   ]
  },
  {
   "cell_type": "code",
   "execution_count": null,
   "id": "0c3e9c3d-fb2c-40a4-8150-ccf9dda1f6a1",
   "metadata": {},
   "outputs": [
    {
     "data": {
      "text/plain": [
       "array([47, 22, 18])"
      ]
     },
     "execution_count": 128,
     "metadata": {},
     "output_type": "execute_result"
    }
   ],
   "source": [
    "np.random.seed(seed=1)\n",
    "arr = np.random.randint(low=10,high=50,size=3) # Size is the number of samples\n",
    "arr"
   ]
  },
  {
   "cell_type": "code",
   "execution_count": null,
   "id": "5b2b8d45-c9b6-4a44-b3f5-1e1cb16e74e3",
   "metadata": {},
   "outputs": [
    {
     "data": {
      "text/plain": [
       "array([15, 11, 33, 18, 19])"
      ]
     },
     "execution_count": 120,
     "metadata": {},
     "output_type": "execute_result"
    }
   ],
   "source": [
    "np.random.seed(seed=4)\n",
    "arr = np.random.randint(low=10,high=50,size=5)\n",
    "arr"
   ]
  },
  {
   "cell_type": "code",
   "execution_count": null,
   "id": "b6b857fb-cf7c-4a65-b573-02cbb56fd71f",
   "metadata": {},
   "outputs": [
    {
     "data": {
      "text/plain": [
       "array([ 38, 141,  73, 138, 134,  80, 145, 130,  72, 135,  26,  21, 102,\n",
       "       147, 140, 143,  51,  69,  97,  87, 142, 138,   8,  64,  62,  23,\n",
       "        58,   2, 129,  61])"
      ]
     },
     "execution_count": 138,
     "metadata": {},
     "output_type": "execute_result"
    }
   ],
   "source": [
    "np.random.seed(seed=1)\n",
    "arr = np.random.randint(low=1,high=150,size=30)\n",
    "arr"
   ]
  },
  {
   "cell_type": "code",
   "execution_count": null,
   "id": "11c31971-d324-4cb1-b04d-2165944a1f09",
   "metadata": {},
   "outputs": [],
   "source": []
  },
  {
   "cell_type": "code",
   "execution_count": null,
   "id": "10f22d3b-0dd6-47db-bc13-3c1d9b908ba5",
   "metadata": {},
   "outputs": [],
   "source": []
  }
 ],
 "metadata": {
  "kernelspec": {
   "display_name": "Python [conda env:base] *",
   "language": "python",
   "name": "conda-base-py"
  },
  "language_info": {
   "codemirror_mode": {
    "name": "ipython",
    "version": 3
   },
   "file_extension": ".py",
   "mimetype": "text/x-python",
   "name": "python",
   "nbconvert_exporter": "python",
   "pygments_lexer": "ipython3",
   "version": "3.12.7"
  }
 },
 "nbformat": 4,
 "nbformat_minor": 5
}
