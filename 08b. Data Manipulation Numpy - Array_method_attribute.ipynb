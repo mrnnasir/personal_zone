{
 "cells": [
  {
   "cell_type": "code",
   "execution_count": 2,
   "id": "c1ae4aa0-1741-4071-8500-9d127038d77e",
   "metadata": {},
   "outputs": [],
   "source": [
    "import numpy as np"
   ]
  },
  {
   "cell_type": "code",
   "execution_count": 3,
   "id": "a99f3d3c-6bd8-4a71-b1df-e2dacc31827a",
   "metadata": {},
   "outputs": [
    {
     "data": {
      "text/plain": [
       "array([ 48, 118,  68, 104,  10,  22,  37,  88,  71,  89, 141,  59,  40,\n",
       "        88,  89,  82,  26,  78,  73,  10, 149, 116,  80,  83, 100,  30,\n",
       "       148, 148, 143,  33])"
      ]
     },
     "execution_count": 3,
     "metadata": {},
     "output_type": "execute_result"
    }
   ],
   "source": [
    "np.random.seed(seed=0)\n",
    "arr = np.random.randint(low=1,high=150,size=30) # size is the number of samples in the output.\n",
    "arr"
   ]
  },
  {
   "cell_type": "code",
   "execution_count": 6,
   "id": "9aa83e98-1b44-4a0d-b30e-a7bd39d374a7",
   "metadata": {},
   "outputs": [
    {
     "data": {
      "text/plain": [
       "array([[ 48, 118,  68, 104,  10,  22],\n",
       "       [ 37,  88,  71,  89, 141,  59],\n",
       "       [ 40,  88,  89,  82,  26,  78],\n",
       "       [ 73,  10, 149, 116,  80,  83],\n",
       "       [100,  30, 148, 148, 143,  33]])"
      ]
     },
     "execution_count": 6,
     "metadata": {},
     "output_type": "execute_result"
    }
   ],
   "source": [
    "arr_reshaped = arr.reshape(5,6)  # 2-d array, 3 x 10\n",
    "arr_reshaped"
   ]
  },
  {
   "cell_type": "code",
   "execution_count": 7,
   "id": "2438e04a-dafd-495b-9026-971aceb8b68d",
   "metadata": {},
   "outputs": [
    {
     "ename": "ValueError",
     "evalue": "cannot reshape array of size 30 into shape (3,15)",
     "output_type": "error",
     "traceback": [
      "\u001b[31m---------------------------------------------------------------------------\u001b[39m",
      "\u001b[31mValueError\u001b[39m                                Traceback (most recent call last)",
      "\u001b[36mCell\u001b[39m\u001b[36m \u001b[39m\u001b[32mIn[7]\u001b[39m\u001b[32m, line 1\u001b[39m\n\u001b[32m----> \u001b[39m\u001b[32m1\u001b[39m arr_reshaped = \u001b[43marr\u001b[49m\u001b[43m.\u001b[49m\u001b[43mreshape\u001b[49m\u001b[43m(\u001b[49m\u001b[32;43m3\u001b[39;49m\u001b[43m,\u001b[49m\u001b[32;43m15\u001b[39;49m\u001b[43m)\u001b[49m  \u001b[38;5;66;03m# 2-d array, 3 x 15. Need to change seed\u001b[39;00m\n\u001b[32m      2\u001b[39m arr_reshaped\n",
      "\u001b[31mValueError\u001b[39m: cannot reshape array of size 30 into shape (3,15)"
     ]
    }
   ],
   "source": [
    "arr_reshaped = arr.reshape(3,15)  # 2-d array, 3 x 15. Need to change seed\n",
    "arr_reshaped"
   ]
  },
  {
   "cell_type": "code",
   "execution_count": 109,
   "id": "6c4a9a63-799f-4379-83bf-1cd30aa5db62",
   "metadata": {},
   "outputs": [
    {
     "data": {
      "text/plain": [
       "array([[[ 48, 118],\n",
       "        [ 68, 104],\n",
       "        [ 10,  22],\n",
       "        [ 37,  88],\n",
       "        [ 71,  89]],\n",
       "\n",
       "       [[141,  59],\n",
       "        [ 40,  88],\n",
       "        [ 89,  82],\n",
       "        [ 26,  78],\n",
       "        [ 73,  10]],\n",
       "\n",
       "       [[149, 116],\n",
       "        [ 80,  83],\n",
       "        [100,  30],\n",
       "        [148, 148],\n",
       "        [143,  33]]])"
      ]
     },
     "execution_count": 109,
     "metadata": {},
     "output_type": "execute_result"
    }
   ],
   "source": [
    "arr_reshaped = arr.reshape(3,5,2)  # 3-d array, 3x5x2\n",
    "arr_reshaped"
   ]
  },
  {
   "cell_type": "code",
   "execution_count": 111,
   "id": "e352d031-5dc5-4d17-a9f0-19723a11d5dd",
   "metadata": {},
   "outputs": [
    {
     "name": "stdout",
     "output_type": "stream",
     "text": [
      "array: \n",
      " [1 2 3 4 5 6 7 8] \n",
      "\n",
      "array shape: (8,)\n"
     ]
    }
   ],
   "source": [
    "arr = np.arange(start=1,stop=9,step=1)\n",
    "print(f\"array: \\n {arr} \\n\\n\"\n",
    "      f\"array shape: {arr.shape}\")"
   ]
  },
  {
   "cell_type": "code",
   "execution_count": 113,
   "id": "66e5aaa7-6a69-454e-8479-51d93369213e",
   "metadata": {},
   "outputs": [
    {
     "name": "stdout",
     "output_type": "stream",
     "text": [
      "array: \n",
      " [[1]\n",
      " [2]\n",
      " [3]\n",
      " [4]\n",
      " [5]\n",
      " [6]\n",
      " [7]\n",
      " [8]] \n",
      "\n",
      "array shape: (8, 1)\n"
     ]
    }
   ],
   "source": [
    "arr_reshape = arr.reshape(-1,1)  \n",
    "\n",
    "# it is a 2-D array because you passed a tuple with 2 items\n",
    "# the -1 means 'unknown', so you don't know how many rows this 2-D array will have\n",
    "# the 1 means you want a single column\n",
    "\n",
    "print(f\"array: \\n {arr_reshape} \\n\\n\"\n",
    "      f\"array shape: {arr_reshape.shape}\")"
   ]
  },
  {
   "cell_type": "code",
   "execution_count": 115,
   "id": "467e91be-f73f-4087-8a5b-500c8ee79b8f",
   "metadata": {},
   "outputs": [
    {
     "name": "stdout",
     "output_type": "stream",
     "text": [
      "array: \n",
      " [[1 2]\n",
      " [3 4]\n",
      " [5 6]\n",
      " [7 8]]array shape: (4, 2)\n"
     ]
    }
   ],
   "source": [
    "arr_reshape = arr.reshape(-1,2)\n",
    "print(f'array: \\n {arr_reshape}'\n",
    "        f'array shape: {arr_reshape.shape}')"
   ]
  },
  {
   "cell_type": "markdown",
   "id": "e67b534e-6dca-4329-a1e6-7179bfada4d8",
   "metadata": {},
   "source": [
    "## .flatten(), this transform multidimensional array to 1-D array"
   ]
  },
  {
   "cell_type": "code",
   "execution_count": 117,
   "id": "29c5c074-e4d3-4af3-b8b2-00bf6189e381",
   "metadata": {},
   "outputs": [
    {
     "data": {
      "text/plain": [
       "array([[ 48, 118,  68, 104,  10],\n",
       "       [ 22,  37,  88,  71,  89]])"
      ]
     },
     "execution_count": 117,
     "metadata": {},
     "output_type": "execute_result"
    }
   ],
   "source": [
    "np.random.seed(seed=0)\n",
    "arr = np.random.randint(low=1,high=150,size=(2,5))\n",
    "arr"
   ]
  },
  {
   "cell_type": "code",
   "execution_count": 120,
   "id": "6fc5a513-e744-4c14-be62-44298e7d40d8",
   "metadata": {},
   "outputs": [
    {
     "data": {
      "text/plain": [
       "array([ 48, 118,  68, 104,  10,  22,  37,  88,  71,  89])"
      ]
     },
     "execution_count": 120,
     "metadata": {},
     "output_type": "execute_result"
    }
   ],
   "source": [
    "arr_flatten = arr.flatten()\n",
    "arr_flatten"
   ]
  },
  {
   "cell_type": "code",
   "execution_count": 126,
   "id": "349b3b79-7cd3-4464-bc59-a527c90c9379",
   "metadata": {},
   "outputs": [
    {
     "data": {
      "text/plain": [
       "array([ 48, 118,  68, 104,  10,  22,  37,  88,  71,  89])"
      ]
     },
     "execution_count": 126,
     "metadata": {},
     "output_type": "execute_result"
    }
   ],
   "source": [
    "# .reshape(-1) can also work as .flatten()\n",
    "\n",
    "arr_reshape = arr.reshape(-1)\n",
    "arr_reshape"
   ]
  },
  {
   "cell_type": "code",
   "execution_count": 128,
   "id": "e4bd8270-9b2b-40cd-98f9-dd139960ae89",
   "metadata": {},
   "outputs": [
    {
     "data": {
      "text/plain": [
       "array([[ 48, 118,  68, 104,  10],\n",
       "       [ 22,  37,  88,  71,  89]])"
      ]
     },
     "execution_count": 128,
     "metadata": {},
     "output_type": "execute_result"
    }
   ],
   "source": [
    "arr"
   ]
  },
  {
   "cell_type": "code",
   "execution_count": 130,
   "id": "165e7861-0b5a-49c6-92d5-3c5741785a31",
   "metadata": {},
   "outputs": [
    {
     "data": {
      "text/plain": [
       "10"
      ]
     },
     "execution_count": 130,
     "metadata": {},
     "output_type": "execute_result"
    }
   ],
   "source": [
    "arr.min()"
   ]
  },
  {
   "cell_type": "code",
   "execution_count": 132,
   "id": "93cbb2c0-a813-4621-b2cd-b4be5c734a42",
   "metadata": {},
   "outputs": [
    {
     "data": {
      "text/plain": [
       "118"
      ]
     },
     "execution_count": 132,
     "metadata": {},
     "output_type": "execute_result"
    }
   ],
   "source": [
    "arr.max()"
   ]
  },
  {
   "cell_type": "code",
   "execution_count": 134,
   "id": "f2b12caf-6e94-4362-a5c1-180d8992815a",
   "metadata": {},
   "outputs": [
    {
     "data": {
      "text/plain": [
       "65.5"
      ]
     },
     "execution_count": 134,
     "metadata": {},
     "output_type": "execute_result"
    }
   ],
   "source": [
    "arr.mean()"
   ]
  },
  {
   "cell_type": "code",
   "execution_count": 142,
   "id": "69361366-0f07-4a42-b515-e3ddcc11edd6",
   "metadata": {},
   "outputs": [
    {
     "data": {
      "text/plain": [
       "4"
      ]
     },
     "execution_count": 142,
     "metadata": {},
     "output_type": "execute_result"
    }
   ],
   "source": [
    "# .argmin() gives min value Index position\n",
    "\n",
    "arr.argmin()"
   ]
  },
  {
   "cell_type": "code",
   "execution_count": 144,
   "id": "3b4427ee-0d11-4f77-8fa4-f7f11477231b",
   "metadata": {},
   "outputs": [
    {
     "data": {
      "text/plain": [
       "1"
      ]
     },
     "execution_count": 144,
     "metadata": {},
     "output_type": "execute_result"
    }
   ],
   "source": [
    "# .argmax() gives max value Index position\n",
    "\n",
    "arr.argmax()"
   ]
  },
  {
   "cell_type": "code",
   "execution_count": 156,
   "id": "5d16941d-36f4-479b-9d57-08d130995c78",
   "metadata": {},
   "outputs": [
    {
     "data": {
      "text/plain": [
       "array([1, 1, 0, 1, 0])"
      ]
     },
     "execution_count": 156,
     "metadata": {},
     "output_type": "execute_result"
    }
   ],
   "source": [
    "# If you want the index position for the minimum value, per column, you just add axis=0 to .argmin()\n",
    "arr.argmin(axis=0)"
   ]
  },
  {
   "cell_type": "code",
   "execution_count": 154,
   "id": "9dfd0481-de62-47a7-b81b-8f9b0b088a96",
   "metadata": {},
   "outputs": [
    {
     "data": {
      "text/plain": [
       "array([4, 0])"
      ]
     },
     "execution_count": 154,
     "metadata": {},
     "output_type": "execute_result"
    }
   ],
   "source": [
    "# If you want the index position for the minimum value, per row, you just add axis=1 to .argmin().\n",
    "\n",
    "arr.argmin(axis=1)"
   ]
  },
  {
   "cell_type": "code",
   "execution_count": 158,
   "id": "82390d18-395d-4ae3-823b-dee98ca507b4",
   "metadata": {},
   "outputs": [
    {
     "data": {
      "text/plain": [
       "array([[ 1,  2],\n",
       "       [ 3,  4],\n",
       "       [ 5,  6],\n",
       "       [ 7,  8],\n",
       "       [ 9, 10]])"
      ]
     },
     "execution_count": 158,
     "metadata": {},
     "output_type": "execute_result"
    }
   ],
   "source": [
    "arr = np.arange(start=1,stop=11,step=1).reshape(5,2)\n",
    "arr"
   ]
  },
  {
   "cell_type": "code",
   "execution_count": 160,
   "id": "78c49791-538a-4830-bbb2-1b826432e571",
   "metadata": {},
   "outputs": [
    {
     "name": "stdout",
     "output_type": "stream",
     "text": [
      "* Array:\n",
      " [[ 1  2]\n",
      " [ 3  4]\n",
      " [ 5  6]\n",
      " [ 7  8]\n",
      " [ 9 10]] \n",
      "\n",
      "* Array shape: \n",
      " (5, 2) \n",
      "\n",
      "* Array type: \n",
      " int64\n"
     ]
    }
   ],
   "source": [
    "print(\n",
    "    f\"* Array:\\n {arr} \\n\\n\"\n",
    "    f\"* Array shape: \\n {arr.shape} \\n\\n\"\n",
    "    f\"* Array type: \\n {arr.dtype}\"\n",
    "    )"
   ]
  },
  {
   "cell_type": "code",
   "execution_count": 6,
   "id": "bd9ea37a-1491-4963-b4c4-882c14c8c7e7",
   "metadata": {},
   "outputs": [
    {
     "data": {
      "text/plain": [
       "array([[ 1.76405235,  0.40015721,  0.97873798,  2.2408932 ],\n",
       "       [ 1.86755799, -0.97727788,  0.95008842, -0.15135721]])"
      ]
     },
     "execution_count": 6,
     "metadata": {},
     "output_type": "execute_result"
    }
   ],
   "source": [
    "np.random.seed(seed=0)\n",
    "arr = np.random.randn(2,4)\n",
    "arr"
   ]
  },
  {
   "cell_type": "code",
   "execution_count": 164,
   "id": "49a7ff2b-f0c3-4045-a71a-f30e0add9097",
   "metadata": {},
   "outputs": [
    {
     "data": {
      "text/plain": [
       "dtype('float64')"
      ]
     },
     "execution_count": 164,
     "metadata": {},
     "output_type": "execute_result"
    }
   ],
   "source": [
    "arr.dtype"
   ]
  },
  {
   "cell_type": "code",
   "execution_count": 166,
   "id": "b55cbfef-4682-4a2b-8851-084fbf6953ba",
   "metadata": {},
   "outputs": [
    {
     "name": "stdout",
     "output_type": "stream",
     "text": [
      "* Array:\n",
      " [[ 1.76405235  0.40015721  0.97873798  2.2408932 ]\n",
      " [ 1.86755799 -0.97727788  0.95008842 -0.15135721]] \n",
      "\n",
      "* Array shape: \n",
      " (2, 4) \n",
      "\n",
      "* Array type: \n",
      " float64\n"
     ]
    }
   ],
   "source": [
    "print(\n",
    "    f\"* Array:\\n {arr} \\n\\n\"\n",
    "    f\"* Array shape: \\n {arr.shape} \\n\\n\"\n",
    "    f\"* Array type: \\n {arr.dtype}\"\n",
    "    )"
   ]
  },
  {
   "cell_type": "code",
   "execution_count": null,
   "id": "93b91e80-17ce-4466-9953-7f2ca613f68e",
   "metadata": {},
   "outputs": [],
   "source": []
  }
 ],
 "metadata": {
  "kernelspec": {
   "display_name": ".venv",
   "language": "python",
   "name": "python3"
  },
  "language_info": {
   "codemirror_mode": {
    "name": "ipython",
    "version": 3
   },
   "file_extension": ".py",
   "mimetype": "text/x-python",
   "name": "python",
   "nbconvert_exporter": "python",
   "pygments_lexer": "ipython3",
   "version": "3.12.8"
  }
 },
 "nbformat": 4,
 "nbformat_minor": 5
}
