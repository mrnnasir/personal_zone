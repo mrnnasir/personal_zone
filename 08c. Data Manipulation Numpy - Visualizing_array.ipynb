{
 "cells": [
  {
   "cell_type": "code",
   "execution_count": 1,
   "id": "46859e26-05d9-405a-b43d-32b1ef38b755",
   "metadata": {},
   "outputs": [],
   "source": [
    "import numpy as np"
   ]
  },
  {
   "cell_type": "code",
   "execution_count": 17,
   "id": "792cfb06-32bf-4890-8bc1-5bb731cfb63b",
   "metadata": {},
   "outputs": [
    {
     "data": {
      "text/plain": [
       "array([47, 22, 18, 19, 21, 15, 25, 10])"
      ]
     },
     "execution_count": 17,
     "metadata": {},
     "output_type": "execute_result"
    }
   ],
   "source": [
    "np.random.seed(seed=1)\n",
    "np.random.randint(low=10,high=50,size=8)"
   ]
  },
  {
   "cell_type": "code",
   "execution_count": 21,
   "id": "7e35b93a-82db-4686-b6fe-9fa5eff76f9d",
   "metadata": {},
   "outputs": [
    {
     "data": {
      "text/plain": [
       "array([[47, 22, 18],\n",
       "       [19, 21, 15],\n",
       "       [25, 10, 26]])"
      ]
     },
     "execution_count": 21,
     "metadata": {},
     "output_type": "execute_result"
    }
   ],
   "source": [
    "np.random.seed(seed=1)\n",
    "np.random.randint(low=10,high=50,size=(3,3))"
   ]
  },
  {
   "cell_type": "code",
   "execution_count": 39,
   "id": "76d5fa98-ad9f-484d-9266-e2cfc1608fdd",
   "metadata": {},
   "outputs": [
    {
     "data": {
      "text/plain": [
       "array([[[ 0,  1,  2],\n",
       "        [ 3,  4,  5],\n",
       "        [ 6,  7,  8],\n",
       "        [ 9, 10, 11]],\n",
       "\n",
       "       [[12, 13, 14],\n",
       "        [15, 16, 17],\n",
       "        [18, 19, 20],\n",
       "        [21, 22, 23]],\n",
       "\n",
       "       [[24, 25, 26],\n",
       "        [27, 28, 29],\n",
       "        [30, 31, 32],\n",
       "        [33, 34, 35]]])"
      ]
     },
     "execution_count": 39,
     "metadata": {},
     "output_type": "execute_result"
    }
   ],
   "source": [
    "np.arange(start=0,stop=36).reshape(3,4,3)"
   ]
  },
  {
   "cell_type": "code",
   "execution_count": 46,
   "id": "c9c1ab0a-51f2-4a05-8675-d35fe613ed88",
   "metadata": {},
   "outputs": [
    {
     "data": {
      "text/plain": [
       "array([[[ 6, 12, 13],\n",
       "        [ 9, 10, 12],\n",
       "        [ 6, 16,  1]],\n",
       "\n",
       "       [[17,  2, 13],\n",
       "        [ 8, 14, 29],\n",
       "        [ 7, 26, 19]],\n",
       "\n",
       "       [[21,  6, 19],\n",
       "        [21, 12, 29],\n",
       "        [11, 29, 15]],\n",
       "\n",
       "       [[19,  5, 24],\n",
       "        [24, 10, 18],\n",
       "        [24,  1, 23]]])"
      ]
     },
     "execution_count": 46,
     "metadata": {},
     "output_type": "execute_result"
    }
   ],
   "source": [
    "np.random.seed(seed=1)\n",
    "np.random.randint(low=1,high=30,size=36).reshape(4,3,3)"
   ]
  },
  {
   "cell_type": "code",
   "execution_count": 50,
   "id": "f85dff2e-dd77-4144-9084-9b62936eac32",
   "metadata": {},
   "outputs": [
    {
     "data": {
      "text/plain": [
       "array([[[[47, 22, 18, 19, 21],\n",
       "         [15, 25, 10, 26, 11],\n",
       "         [22, 17, 16, 35, 30],\n",
       "         [47, 28, 30, 21, 38]],\n",
       "\n",
       "        [[39, 24, 14, 33, 33],\n",
       "         [40, 42, 32, 23, 19],\n",
       "         [17, 32, 11, 10, 27],\n",
       "         [18, 34, 23, 18, 40]],\n",
       "\n",
       "        [[17, 13, 16, 31, 13],\n",
       "         [14, 34, 22, 36, 26],\n",
       "         [28, 25, 10, 14, 35],\n",
       "         [44, 33, 17, 36, 35]]],\n",
       "\n",
       "\n",
       "       [[[32, 19, 13, 49, 33],\n",
       "         [46, 37, 47, 29, 48],\n",
       "         [18, 42, 44, 20, 33],\n",
       "         [25, 33, 35, 17, 38]],\n",
       "\n",
       "        [[20, 42, 34, 33, 11],\n",
       "         [23, 13, 10, 23, 16],\n",
       "         [31, 16, 12, 22, 37],\n",
       "         [31, 21, 17, 23, 18]],\n",
       "\n",
       "        [[21, 22, 30, 40, 46],\n",
       "         [49, 17, 14, 28, 42],\n",
       "         [23, 20, 33, 27, 17],\n",
       "         [34, 20, 38, 30, 42]]]])"
      ]
     },
     "execution_count": 50,
     "metadata": {},
     "output_type": "execute_result"
    }
   ],
   "source": [
    "# 4-D array\n",
    "\n",
    "np.random.seed(seed=1)\n",
    "np.random.randint(low=10,high=50,size=(2,3,4,5))"
   ]
  },
  {
   "cell_type": "code",
   "execution_count": 52,
   "id": "21c7cc08-632d-426c-874d-35526c6e9091",
   "metadata": {},
   "outputs": [
    {
     "data": {
      "text/plain": [
       "array([[[[[47, 22, 18, 19, 21],\n",
       "          [15, 25, 10, 26, 11],\n",
       "          [22, 17, 16, 35, 30],\n",
       "          [47, 28, 30, 21, 38]],\n",
       "\n",
       "         [[39, 24, 14, 33, 33],\n",
       "          [40, 42, 32, 23, 19],\n",
       "          [17, 32, 11, 10, 27],\n",
       "          [18, 34, 23, 18, 40]],\n",
       "\n",
       "         [[17, 13, 16, 31, 13],\n",
       "          [14, 34, 22, 36, 26],\n",
       "          [28, 25, 10, 14, 35],\n",
       "          [44, 33, 17, 36, 35]]],\n",
       "\n",
       "\n",
       "        [[[32, 19, 13, 49, 33],\n",
       "          [46, 37, 47, 29, 48],\n",
       "          [18, 42, 44, 20, 33],\n",
       "          [25, 33, 35, 17, 38]],\n",
       "\n",
       "         [[20, 42, 34, 33, 11],\n",
       "          [23, 13, 10, 23, 16],\n",
       "          [31, 16, 12, 22, 37],\n",
       "          [31, 21, 17, 23, 18]],\n",
       "\n",
       "         [[21, 22, 30, 40, 46],\n",
       "          [49, 17, 14, 28, 42],\n",
       "          [23, 20, 33, 27, 17],\n",
       "          [34, 20, 38, 30, 42]]]],\n",
       "\n",
       "\n",
       "\n",
       "       [[[[22, 11, 40, 34, 28],\n",
       "          [43, 12, 38, 49, 44],\n",
       "          [20, 42, 28, 32, 16],\n",
       "          [12, 17, 49, 25, 15]],\n",
       "\n",
       "         [[27, 30, 32, 47, 23],\n",
       "          [43, 30, 20, 42, 35],\n",
       "          [31, 49, 42, 29, 35],\n",
       "          [24, 23, 30, 16, 23]],\n",
       "\n",
       "         [[25, 34, 19, 12, 17],\n",
       "          [15, 46, 47, 31, 23],\n",
       "          [37, 23, 24, 33, 26],\n",
       "          [38, 13, 12, 24, 10]]],\n",
       "\n",
       "\n",
       "        [[[39, 21, 45, 39, 43],\n",
       "          [12, 30, 29, 42, 38],\n",
       "          [28, 41, 38, 40, 20],\n",
       "          [18, 45, 42, 18, 30]],\n",
       "\n",
       "         [[23, 25, 10, 29, 34],\n",
       "          [30, 25, 40, 37, 24],\n",
       "          [29, 36, 32, 17, 45],\n",
       "          [44, 46, 46, 42, 29]],\n",
       "\n",
       "         [[13, 34, 29, 47, 40],\n",
       "          [48, 49, 15, 25, 33],\n",
       "          [42, 20, 12, 34, 44],\n",
       "          [40, 27, 14, 10, 24]]]]])"
      ]
     },
     "execution_count": 52,
     "metadata": {},
     "output_type": "execute_result"
    }
   ],
   "source": [
    "np.random.seed(seed=1)\n",
    "np.random.randint(low=10,high=50,size=(2,2,3,4,5))"
   ]
  },
  {
   "cell_type": "code",
   "execution_count": null,
   "id": "750a63e5-d579-41a5-bcc7-7539571f223e",
   "metadata": {},
   "outputs": [],
   "source": []
  }
 ],
 "metadata": {
  "kernelspec": {
   "display_name": "Python [conda env:base] *",
   "language": "python",
   "name": "conda-base-py"
  },
  "language_info": {
   "codemirror_mode": {
    "name": "ipython",
    "version": 3
   },
   "file_extension": ".py",
   "mimetype": "text/x-python",
   "name": "python",
   "nbconvert_exporter": "python",
   "pygments_lexer": "ipython3",
   "version": "3.12.7"
  }
 },
 "nbformat": 4,
 "nbformat_minor": 5
}
