{
 "cells": [
  {
   "cell_type": "code",
   "execution_count": 3,
   "id": "793ab1ce-eab1-4e10-9a99-0ac9e8e117a9",
   "metadata": {},
   "outputs": [],
   "source": [
    "import numpy as np"
   ]
  },
  {
   "cell_type": "markdown",
   "id": "c0aa961e-339c-430a-a950-d1fb0b4512a1",
   "metadata": {},
   "source": [
    "## 1D arrays"
   ]
  },
  {
   "cell_type": "code",
   "execution_count": 6,
   "id": "c160fae7-b060-4193-b3a3-363f6574e5a5",
   "metadata": {},
   "outputs": [
    {
     "data": {
      "text/plain": [
       "array([ 0,  2,  4,  6,  8, 10, 12, 14, 16, 18, 20, 22, 24])"
      ]
     },
     "execution_count": 6,
     "metadata": {},
     "output_type": "execute_result"
    }
   ],
   "source": [
    "arr = np.arange(start=0,stop=26,step=2)\n",
    "arr"
   ]
  },
  {
   "cell_type": "code",
   "execution_count": 8,
   "id": "8effb82b-26e8-4d11-a551-18774b9adb8f",
   "metadata": {},
   "outputs": [
    {
     "data": {
      "text/plain": [
       "16"
      ]
     },
     "execution_count": 8,
     "metadata": {},
     "output_type": "execute_result"
    }
   ],
   "source": [
    "arr[8]"
   ]
  },
  {
   "cell_type": "code",
   "execution_count": 10,
   "id": "d754118e-257c-4beb-9e6c-3c29634f27ac",
   "metadata": {},
   "outputs": [
    {
     "data": {
      "text/plain": [
       "0"
      ]
     },
     "execution_count": 10,
     "metadata": {},
     "output_type": "execute_result"
    }
   ],
   "source": [
    "arr[0]"
   ]
  },
  {
   "cell_type": "code",
   "execution_count": 12,
   "id": "b6599e3b-57bb-4fd8-96b7-3d685c3c5e64",
   "metadata": {},
   "outputs": [
    {
     "data": {
      "text/plain": [
       "array([2, 4, 6, 8])"
      ]
     },
     "execution_count": 12,
     "metadata": {},
     "output_type": "execute_result"
    }
   ],
   "source": [
    "arr[1:5]"
   ]
  },
  {
   "cell_type": "code",
   "execution_count": 14,
   "id": "e73d58a0-fdd7-44a7-803d-aa6e35b09cbd",
   "metadata": {},
   "outputs": [
    {
     "data": {
      "text/plain": [
       "array([0, 2, 4, 6, 8])"
      ]
     },
     "execution_count": 14,
     "metadata": {},
     "output_type": "execute_result"
    }
   ],
   "source": [
    "arr[0:5]"
   ]
  },
  {
   "cell_type": "code",
   "execution_count": 16,
   "id": "e7d98a33-f398-45b1-8f27-021525368547",
   "metadata": {},
   "outputs": [
    {
     "data": {
      "text/plain": [
       "array([0, 2, 4, 6, 8])"
      ]
     },
     "execution_count": 16,
     "metadata": {},
     "output_type": "execute_result"
    }
   ],
   "source": [
    "arr[:5]"
   ]
  },
  {
   "cell_type": "code",
   "execution_count": 18,
   "id": "024616b7-3f48-403e-ba23-64634e25a200",
   "metadata": {},
   "outputs": [
    {
     "data": {
      "text/plain": [
       "array([14, 16, 18, 20, 22, 24])"
      ]
     },
     "execution_count": 18,
     "metadata": {},
     "output_type": "execute_result"
    }
   ],
   "source": [
    "arr[7:]"
   ]
  },
  {
   "cell_type": "markdown",
   "id": "725b6077-5930-46f0-9051-ef6df8356355",
   "metadata": {},
   "source": [
    "## 2D arrays"
   ]
  },
  {
   "cell_type": "code",
   "execution_count": 14,
   "id": "d6b44cf9-bc16-4e80-8730-dc1de784b147",
   "metadata": {},
   "outputs": [
    {
     "data": {
      "text/plain": [
       "array([[41, 21, 27, 16, 33],\n",
       "       [21, 19, 23, 14, 38],\n",
       "       [10, 15, 22, 39, 29]])"
      ]
     },
     "execution_count": 14,
     "metadata": {},
     "output_type": "execute_result"
    }
   ],
   "source": [
    "np.random.seed(seed=101)\n",
    "arr = np.random.randint(low=10,high=50,size=(3,5))\n",
    "arr"
   ]
  },
  {
   "cell_type": "markdown",
   "id": "a67bec70-7ec2-4db9-aea6-c455f5fe91ea",
   "metadata": {},
   "source": [
    "### Indexing full row"
   ]
  },
  {
   "cell_type": "code",
   "execution_count": 16,
   "id": "828df23e-5b9c-4e8b-be95-338ec5bb62de",
   "metadata": {},
   "outputs": [
    {
     "data": {
      "text/plain": [
       "array([21, 19, 23, 14, 38])"
      ]
     },
     "execution_count": 16,
     "metadata": {},
     "output_type": "execute_result"
    }
   ],
   "source": [
    "#  The row is at index 1, and the column is at index 0\n",
    "\n",
    "arr[1, ] # it is not \"arr[1:0]\""
   ]
  },
  {
   "cell_type": "code",
   "execution_count": 22,
   "id": "d3b9cb01-b4a0-4be1-ad24-aa8b17e9e19a",
   "metadata": {},
   "outputs": [
    {
     "data": {
      "text/plain": [
       "array([21, 19])"
      ]
     },
     "execution_count": 22,
     "metadata": {},
     "output_type": "execute_result"
    }
   ],
   "source": [
    "# 1 is row index, ',:1' is 0 to 1 column index (1 is exclusive)\n",
    "\n",
    "arr[1,:1]"
   ]
  },
  {
   "cell_type": "code",
   "execution_count": 11,
   "id": "14f44b82-5b1c-460d-ae8f-8bf19eeb5628",
   "metadata": {},
   "outputs": [
    {
     "data": {
      "text/plain": [
       "array([19, 23, 14, 38])"
      ]
     },
     "execution_count": 11,
     "metadata": {},
     "output_type": "execute_result"
    }
   ],
   "source": [
    "arr[1,1:]"
   ]
  },
  {
   "cell_type": "code",
   "execution_count": 11,
   "id": "c7a25c56-3047-4f34-90d0-747d1619331f",
   "metadata": {},
   "outputs": [
    {
     "data": {
      "text/plain": [
       "array([16, 14, 39])"
      ]
     },
     "execution_count": 11,
     "metadata": {},
     "output_type": "execute_result"
    }
   ],
   "source": [
    "arr[:,3]"
   ]
  },
  {
   "cell_type": "code",
   "execution_count": 15,
   "id": "9925737c-1688-4130-8558-bc036dddddb9",
   "metadata": {},
   "outputs": [
    {
     "data": {
      "text/plain": [
       "array([[41, 21, 27, 16, 33],\n",
       "       [21, 19, 23, 14, 38],\n",
       "       [10, 15, 22, 39, 29]])"
      ]
     },
     "execution_count": 15,
     "metadata": {},
     "output_type": "execute_result"
    }
   ],
   "source": [
    "arr"
   ]
  },
  {
   "cell_type": "code",
   "execution_count": 17,
   "id": "c8428689-ad55-49dc-8aca-8245dae8aaeb",
   "metadata": {},
   "outputs": [
    {
     "data": {
      "text/plain": [
       "array([[21, 27, 16, 33],\n",
       "       [19, 23, 14, 38]])"
      ]
     },
     "execution_count": 17,
     "metadata": {},
     "output_type": "execute_result"
    }
   ],
   "source": [
    "arr[:2,1:]"
   ]
  },
  {
   "cell_type": "markdown",
   "id": "0a51ee22-aac5-44c1-89a7-b998fbe55efb",
   "metadata": {},
   "source": [
    "### Slice ranges"
   ]
  },
  {
   "cell_type": "code",
   "execution_count": 22,
   "id": "4c0ae5ac-4304-47be-ae68-4b06cde5c9fd",
   "metadata": {},
   "outputs": [
    {
     "data": {
      "text/plain": [
       "array([[41, 21, 27, 16, 33],\n",
       "       [21, 19, 23, 14, 38],\n",
       "       [10, 15, 22, 39, 29]])"
      ]
     },
     "execution_count": 22,
     "metadata": {},
     "output_type": "execute_result"
    }
   ],
   "source": [
    "arr"
   ]
  },
  {
   "cell_type": "code",
   "execution_count": 24,
   "id": "1b5cc148-27af-4136-80ac-f3dbf044be0c",
   "metadata": {},
   "outputs": [
    {
     "data": {
      "text/plain": [
       "array([[21, 27, 16, 33],\n",
       "       [19, 23, 14, 38]])"
      ]
     },
     "execution_count": 24,
     "metadata": {},
     "output_type": "execute_result"
    }
   ],
   "source": [
    "arr[:2,1:]"
   ]
  },
  {
   "cell_type": "code",
   "execution_count": 26,
   "id": "adc81f8e-9568-4351-81d3-10a3fc8521cc",
   "metadata": {},
   "outputs": [
    {
     "data": {
      "text/plain": [
       "array([[14, 38],\n",
       "       [39, 29]])"
      ]
     },
     "execution_count": 26,
     "metadata": {},
     "output_type": "execute_result"
    }
   ],
   "source": [
    "arr[1:4,3:]"
   ]
  },
  {
   "cell_type": "markdown",
   "id": "0d438d7c-930f-4490-b7ae-031d4cc78e4d",
   "metadata": {},
   "source": [
    "## 3D arrays"
   ]
  },
  {
   "cell_type": "code",
   "execution_count": 28,
   "id": "1a33614e-6544-4014-af48-7ea6308befbb",
   "metadata": {},
   "outputs": [
    {
     "data": {
      "text/plain": [
       "array([[[41, 21, 27, 16],\n",
       "        [33, 21, 19, 23],\n",
       "        [14, 38, 10, 15]],\n",
       "\n",
       "       [[22, 39, 29, 18],\n",
       "        [39, 44, 18, 29],\n",
       "        [20, 22, 41, 33]],\n",
       "\n",
       "       [[10, 19, 18, 46],\n",
       "        [29, 45, 38, 17],\n",
       "        [20, 49, 48, 19]]])"
      ]
     },
     "execution_count": 28,
     "metadata": {},
     "output_type": "execute_result"
    }
   ],
   "source": [
    "np.random.seed(seed=101)\n",
    "arr = np.random.randint(low=10,high=50,size=(3,3,4))  # 3-d array: in this case, 3 arrays of 3x4\n",
    "arr"
   ]
  },
  {
   "cell_type": "code",
   "execution_count": 34,
   "id": "b7a8e36c-466f-44e4-92d6-1d570f09a257",
   "metadata": {},
   "outputs": [
    {
     "data": {
      "text/plain": [
       "22"
      ]
     },
     "execution_count": 34,
     "metadata": {},
     "output_type": "execute_result"
    }
   ],
   "source": [
    "# Retrieving a single element\n",
    "# Index 1 (second array), the row is at index 0, and the column is at index 0\n",
    "arr[1,0,0]"
   ]
  },
  {
   "cell_type": "code",
   "execution_count": 38,
   "id": "36bfbedc-97ae-434a-a9cb-a309cae6c556",
   "metadata": {},
   "outputs": [
    {
     "data": {
      "text/plain": [
       "array([29, 45, 38, 17])"
      ]
     },
     "execution_count": 38,
     "metadata": {},
     "output_type": "execute_result"
    }
   ],
   "source": [
    "# Retrieve a row\n",
    "# Index 2 (last array), the row is at index 1, and all columns\n",
    "\n",
    "arr[2,1,:]"
   ]
  },
  {
   "cell_type": "code",
   "execution_count": 46,
   "id": "cda555c1-ef5f-43af-bdb4-2b8e2068e53d",
   "metadata": {},
   "outputs": [
    {
     "data": {
      "text/plain": [
       "array([27, 19, 10])"
      ]
     },
     "execution_count": 46,
     "metadata": {},
     "output_type": "execute_result"
    }
   ],
   "source": [
    "arr[0,0:,2]"
   ]
  },
  {
   "cell_type": "code",
   "execution_count": 48,
   "id": "4f5eb7de-e4af-484f-b427-8f910fd91f5c",
   "metadata": {},
   "outputs": [
    {
     "data": {
      "text/plain": [
       "array([[41, 21, 27],\n",
       "       [33, 21, 19]])"
      ]
     },
     "execution_count": 48,
     "metadata": {},
     "output_type": "execute_result"
    }
   ],
   "source": [
    "# The concept is very similar to a 2-D array\n",
    "# Pick the array at index 0 (first array), rows from index 0 to index 2 (exclusive) and columns from index 0 to index 3 (exclusive)\n",
    "# The output is a 2-D array since you are grabbing a range\n",
    "\n",
    "arr[0,:2,:3]"
   ]
  },
  {
   "cell_type": "code",
   "execution_count": 50,
   "id": "611c4f24-80ff-46fd-886c-86e9dfed3f1f",
   "metadata": {},
   "outputs": [
    {
     "data": {
      "text/plain": [
       "array([[[41, 21, 27],\n",
       "        [33, 21, 19]],\n",
       "\n",
       "       [[22, 39, 29],\n",
       "        [39, 44, 18]]])"
      ]
     },
     "execution_count": 50,
     "metadata": {},
     "output_type": "execute_result"
    }
   ],
   "source": [
    "arr[0:2,:2,:3]"
   ]
  },
  {
   "cell_type": "code",
   "execution_count": 52,
   "id": "f3a9fff4-1a5a-4842-a04e-cddc760b493b",
   "metadata": {},
   "outputs": [
    {
     "data": {
      "text/plain": [
       "array([[[39, 29],\n",
       "        [44, 18],\n",
       "        [22, 41]],\n",
       "\n",
       "       [[19, 18],\n",
       "        [45, 38],\n",
       "        [49, 48]]])"
      ]
     },
     "execution_count": 52,
     "metadata": {},
     "output_type": "execute_result"
    }
   ],
   "source": [
    "arr[1:,0:,1:3]"
   ]
  },
  {
   "cell_type": "code",
   "execution_count": 33,
   "id": "c0e39ba4-0c8d-4a46-bf5a-8f07027fb9b7",
   "metadata": {},
   "outputs": [
    {
     "data": {
      "text/plain": [
       "(3, 3, 4)"
      ]
     },
     "execution_count": 33,
     "metadata": {},
     "output_type": "execute_result"
    }
   ],
   "source": [
    "arr.shape"
   ]
  },
  {
   "cell_type": "code",
   "execution_count": null,
   "id": "0285b093-0f3e-4255-b3af-e2494f7030e1",
   "metadata": {},
   "outputs": [],
   "source": []
  }
 ],
 "metadata": {
  "kernelspec": {
   "display_name": "Python [conda env:base] *",
   "language": "python",
   "name": "conda-base-py"
  },
  "language_info": {
   "codemirror_mode": {
    "name": "ipython",
    "version": 3
   },
   "file_extension": ".py",
   "mimetype": "text/x-python",
   "name": "python",
   "nbconvert_exporter": "python",
   "pygments_lexer": "ipython3",
   "version": "3.12.7"
  }
 },
 "nbformat": 4,
 "nbformat_minor": 5
}
