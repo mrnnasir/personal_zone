{
 "cells": [
  {
   "cell_type": "code",
   "execution_count": 1,
   "id": "8abdb470-2731-4172-a35f-76d406b311cc",
   "metadata": {},
   "outputs": [],
   "source": [
    "import numpy as np"
   ]
  },
  {
   "cell_type": "code",
   "execution_count": 5,
   "id": "2ab2fbf3-9ef0-4b56-a9f8-356c569a20d6",
   "metadata": {},
   "outputs": [
    {
     "data": {
      "text/plain": [
       "array([41, 21, 27, 16, 33, 21, 19, 23, 14])"
      ]
     },
     "execution_count": 5,
     "metadata": {},
     "output_type": "execute_result"
    }
   ],
   "source": [
    "# 1D array\n",
    "\n",
    "np.random.seed(seed=101)\n",
    "arr = np.random.randint(low=10, high=50, size=9)\n",
    "arr"
   ]
  },
  {
   "cell_type": "code",
   "execution_count": 13,
   "id": "61d64c37-aaf9-4475-90e2-f02dd7136bf5",
   "metadata": {},
   "outputs": [
    {
     "data": {
      "text/plain": [
       "array([19, 23, 14])"
      ]
     },
     "execution_count": 13,
     "metadata": {},
     "output_type": "execute_result"
    }
   ],
   "source": [
    "arr[-3:]"
   ]
  },
  {
   "cell_type": "code",
   "execution_count": 15,
   "id": "d2ff4c5a-dbfd-4cc4-8158-95e1c08cd891",
   "metadata": {},
   "outputs": [
    {
     "data": {
      "text/plain": [
       "array([19, 23])"
      ]
     },
     "execution_count": 15,
     "metadata": {},
     "output_type": "execute_result"
    }
   ],
   "source": [
    "arr[-3:-1]"
   ]
  },
  {
   "cell_type": "code",
   "execution_count": 23,
   "id": "aaa2c028-544e-4656-a3d6-830493d0f34b",
   "metadata": {},
   "outputs": [
    {
     "data": {
      "text/plain": [
       "array([[41, 21, 27, 16, 33],\n",
       "       [21, 19, 23, 14, 38],\n",
       "       [10, 15, 22, 39, 29]])"
      ]
     },
     "execution_count": 23,
     "metadata": {},
     "output_type": "execute_result"
    }
   ],
   "source": [
    "# 2D array\n",
    "\n",
    "np.random.seed(seed=101)\n",
    "arr = np.random.randint(low=10,high=50,size=(3,5))\n",
    "arr"
   ]
  },
  {
   "cell_type": "code",
   "execution_count": 43,
   "id": "bb2f2e3c-b391-4281-90f0-dae6bc008c89",
   "metadata": {},
   "outputs": [
    {
     "data": {
      "text/plain": [
       "array([[16, 33],\n",
       "       [14, 38],\n",
       "       [39, 29]])"
      ]
     },
     "execution_count": 43,
     "metadata": {},
     "output_type": "execute_result"
    }
   ],
   "source": [
    "# Rows: You will get all rows due to the first \":\"\n",
    "# Columns: \"-2:\" means: count 2 index positions (inclusive) from the end. \n",
    "# You will start moving to the right and continue until the end since there is no number after \":\"\n",
    "\n",
    "arr[:,-2:]"
   ]
  },
  {
   "cell_type": "code",
   "execution_count": 39,
   "id": "6a86d052-8732-4e24-86bf-61b2d4f3c89d",
   "metadata": {},
   "outputs": [
    {
     "data": {
      "text/plain": [
       "array([], shape=(0, 3), dtype=int64)"
      ]
     },
     "execution_count": 39,
     "metadata": {},
     "output_type": "execute_result"
    }
   ],
   "source": [
    "arr[-2:,-3:-2]"
   ]
  },
  {
   "cell_type": "code",
   "execution_count": 45,
   "id": "a0f52095-ba89-456c-895b-577712688e80",
   "metadata": {},
   "outputs": [
    {
     "data": {
      "text/plain": [
       "array([[[41, 21, 27, 16],\n",
       "        [33, 21, 19, 23],\n",
       "        [14, 38, 10, 15],\n",
       "        [22, 39, 29, 18],\n",
       "        [39, 44, 18, 29]],\n",
       "\n",
       "       [[20, 22, 41, 33],\n",
       "        [10, 19, 18, 46],\n",
       "        [29, 45, 38, 17],\n",
       "        [20, 49, 48, 19],\n",
       "        [28, 17, 49, 25]],\n",
       "\n",
       "       [[10, 22, 27, 21],\n",
       "        [25, 43, 39, 34],\n",
       "        [46, 29, 45, 40],\n",
       "        [20, 49, 30, 37],\n",
       "        [18, 32, 36, 33]]])"
      ]
     },
     "execution_count": 45,
     "metadata": {},
     "output_type": "execute_result"
    }
   ],
   "source": [
    "# 3D array\n",
    "\n",
    "np.random.seed(seed=101)\n",
    "arr = np.random.randint(low=10,high=50,size=(3,5,4))\n",
    "arr"
   ]
  },
  {
   "cell_type": "code",
   "execution_count": 103,
   "id": "1a70ef97-13a6-4c5a-b20b-cf460068a2f0",
   "metadata": {},
   "outputs": [
    {
     "data": {
      "text/plain": [
       "array([[45, 38, 17],\n",
       "       [49, 48, 19]])"
      ]
     },
     "execution_count": 103,
     "metadata": {},
     "output_type": "execute_result"
    }
   ],
   "source": [
    "arr[-2, -3:-1, -3:]"
   ]
  },
  {
   "cell_type": "code",
   "execution_count": null,
   "id": "a1febd1d-c3b0-4ba7-a14d-45ee44791fbd",
   "metadata": {},
   "outputs": [],
   "source": []
  }
 ],
 "metadata": {
  "kernelspec": {
   "display_name": "Python [conda env:base] *",
   "language": "python",
   "name": "conda-base-py"
  },
  "language_info": {
   "codemirror_mode": {
    "name": "ipython",
    "version": 3
   },
   "file_extension": ".py",
   "mimetype": "text/x-python",
   "name": "python",
   "nbconvert_exporter": "python",
   "pygments_lexer": "ipython3",
   "version": "3.12.7"
  }
 },
 "nbformat": 4,
 "nbformat_minor": 5
}
