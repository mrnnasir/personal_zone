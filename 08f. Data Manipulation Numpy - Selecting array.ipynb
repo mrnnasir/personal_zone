{
 "cells": [
  {
   "cell_type": "code",
   "execution_count": 1,
   "id": "4f4ea42a-eaa9-4c59-a2f6-b244455709b7",
   "metadata": {},
   "outputs": [],
   "source": [
    "import numpy as np"
   ]
  },
  {
   "cell_type": "code",
   "execution_count": 3,
   "id": "b337ec33-6050-4753-a3af-d01aa34d7bbd",
   "metadata": {},
   "outputs": [
    {
     "data": {
      "text/plain": [
       "array([[10,  5, 16,  1, 18],\n",
       "       [17, 18,  9, 10,  1],\n",
       "       [11,  9, 23,  5, 20]])"
      ]
     },
     "execution_count": 3,
     "metadata": {},
     "output_type": "execute_result"
    }
   ],
   "source": [
    "np.random.seed(seed=10)\n",
    "arr = np.random.randint(low = 1,high = 25, size = (3,5))\n",
    "arr"
   ]
  },
  {
   "cell_type": "code",
   "execution_count": 13,
   "id": "a301ed23-0e21-4c08-8dae-709e080750e7",
   "metadata": {},
   "outputs": [
    {
     "data": {
      "text/plain": [
       "array([[False, False,  True, False,  True],\n",
       "       [ True,  True, False, False, False],\n",
       "       [ True, False,  True, False,  True]])"
      ]
     },
     "execution_count": 13,
     "metadata": {},
     "output_type": "execute_result"
    }
   ],
   "source": [
    "# Returns Boolean output\n",
    "\n",
    "arr > 10"
   ]
  },
  {
   "cell_type": "code",
   "execution_count": 15,
   "id": "d2966d9e-1cbf-4cec-b76b-887521c1e31b",
   "metadata": {},
   "outputs": [
    {
     "data": {
      "text/plain": [
       "array([16, 18, 17, 18, 11, 23, 20])"
      ]
     },
     "execution_count": 15,
     "metadata": {},
     "output_type": "execute_result"
    }
   ],
   "source": [
    "# Return in list format\n",
    "\n",
    "arr[arr>10]"
   ]
  },
  {
   "cell_type": "code",
   "execution_count": 19,
   "id": "bf2b74e7-4338-4bf5-8c18-fe8db99d3fe3",
   "metadata": {},
   "outputs": [
    {
     "data": {
      "text/plain": [
       "array([5, 1, 1, 5])"
      ]
     },
     "execution_count": 19,
     "metadata": {},
     "output_type": "execute_result"
    }
   ],
   "source": [
    "arr[arr<7]"
   ]
  },
  {
   "cell_type": "code",
   "execution_count": 27,
   "id": "25307206-4200-4f52-9fa9-0b4536ed529e",
   "metadata": {},
   "outputs": [
    {
     "data": {
      "text/plain": [
       "array([10, 16, 18, 17, 18,  9, 10, 11,  9])"
      ]
     },
     "execution_count": 27,
     "metadata": {},
     "output_type": "execute_result"
    }
   ],
   "source": [
    "arr[(arr>7) & (arr<20)]"
   ]
  },
  {
   "cell_type": "code",
   "execution_count": 29,
   "id": "a5b38608-42d1-495a-893b-a19147b9b68b",
   "metadata": {},
   "outputs": [
    {
     "data": {
      "text/plain": [
       "array([ 5, 16,  1, 18, 17, 18,  1, 23,  5, 20])"
      ]
     },
     "execution_count": 29,
     "metadata": {},
     "output_type": "execute_result"
    }
   ],
   "source": [
    "arr[(arr<=5) | (arr>15)]"
   ]
  },
  {
   "cell_type": "code",
   "execution_count": 31,
   "id": "ddc9bc94-37f0-45a5-a6bf-92d3a8078cf9",
   "metadata": {},
   "outputs": [
    {
     "data": {
      "text/plain": [
       "array([[10,  5, 16,  1, 18],\n",
       "       [17, 18,  9, 10,  1],\n",
       "       [11,  9, 23,  5, 20]])"
      ]
     },
     "execution_count": 31,
     "metadata": {},
     "output_type": "execute_result"
    }
   ],
   "source": [
    "arr"
   ]
  },
  {
   "cell_type": "code",
   "execution_count": 33,
   "id": "4fa3ef8c-ab0a-443d-a6a2-e1a57fcd5ba5",
   "metadata": {},
   "outputs": [
    {
     "data": {
      "text/plain": [
       "array([ 1,  9,  1,  9, 23, 20])"
      ]
     },
     "execution_count": 33,
     "metadata": {},
     "output_type": "execute_result"
    }
   ],
   "source": [
    "# Values less than 2 (including 2) or greater than 18 and also want values that are equal to 9\n",
    "\n",
    "arr[ ((arr<=2) | (arr > 18)) | (arr == 9) ]"
   ]
  },
  {
   "cell_type": "code",
   "execution_count": 35,
   "id": "cc39ab8e-1569-4c5e-921c-ddf1d4cc52b2",
   "metadata": {},
   "outputs": [
    {
     "data": {
      "text/plain": [
       "array([[0.9  , 0.1  ],\n",
       "       [2.1  , 0.1  ],\n",
       "       [2.7  , 0.1  ],\n",
       "       [4.4  , 0.25 ],\n",
       "       [5.5  , 0.625],\n",
       "       [7.9  , 1.125],\n",
       "       [8.7  , 2.   ],\n",
       "       [9.4  , 3.25 ]])"
      ]
     },
     "execution_count": 35,
     "metadata": {},
     "output_type": "execute_result"
    }
   ],
   "source": [
    "macro_arr=np.array([[0.9,0.1],[2.1,0.1],[2.7,0.1],[4.4,0.25],[5.5,0.625],[7.9,1.125],[8.7,2],[9.4,3.25]])\n",
    "macro_arr"
   ]
  },
  {
   "cell_type": "code",
   "execution_count": 41,
   "id": "2c058777-bad4-4e00-89f3-fae7d9a79093",
   "metadata": {},
   "outputs": [
    {
     "data": {
      "text/plain": [
       "array([0.9  , 0.1  , 0.1  , 0.1  , 0.25 , 0.625, 9.4  ])"
      ]
     },
     "execution_count": 41,
     "metadata": {},
     "output_type": "execute_result"
    }
   ],
   "source": [
    "macro_arr [ ((macro_arr==.1) | (macro_arr<=.9)) | (macro_arr>9)]"
   ]
  },
  {
   "cell_type": "code",
   "execution_count": null,
   "id": "f7117ecb-f5d2-4cb6-a3a2-6a699be68c1a",
   "metadata": {},
   "outputs": [],
   "source": []
  }
 ],
 "metadata": {
  "kernelspec": {
   "display_name": "Python [conda env:base] *",
   "language": "python",
   "name": "conda-base-py"
  },
  "language_info": {
   "codemirror_mode": {
    "name": "ipython",
    "version": 3
   },
   "file_extension": ".py",
   "mimetype": "text/x-python",
   "name": "python",
   "nbconvert_exporter": "python",
   "pygments_lexer": "ipython3",
   "version": "3.12.7"
  }
 },
 "nbformat": 4,
 "nbformat_minor": 5
}
