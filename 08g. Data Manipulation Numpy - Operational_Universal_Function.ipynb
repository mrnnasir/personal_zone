{
 "cells": [
  {
   "cell_type": "code",
   "execution_count": 1,
   "id": "621c5180-79fb-4335-b36f-e682ab6869d6",
   "metadata": {},
   "outputs": [],
   "source": [
    "import numpy as np"
   ]
  },
  {
   "cell_type": "code",
   "execution_count": 5,
   "id": "cef49ba0-cc8f-40e6-8745-e6d7dd6645aa",
   "metadata": {},
   "outputs": [
    {
     "data": {
      "text/plain": [
       "[6, 9, 12]"
      ]
     },
     "execution_count": 5,
     "metadata": {},
     "output_type": "execute_result"
    }
   ],
   "source": [
    "# Python list comprehension to multiply each element by 3\n",
    "\n",
    "[3*x for x in [2, 3, 4]]"
   ]
  },
  {
   "cell_type": "code",
   "execution_count": 7,
   "id": "73bda474-5205-468f-8dff-78905acf8303",
   "metadata": {},
   "outputs": [
    {
     "name": "stdout",
     "output_type": "stream",
     "text": [
      "[6, 9, 12]\n"
     ]
    }
   ],
   "source": [
    "list = []\n",
    "for x in [2,3,4]:\n",
    "    list.append(3*x)\n",
    "print(list)"
   ]
  },
  {
   "cell_type": "code",
   "execution_count": 9,
   "id": "a6653301-7697-4bf2-8a13-90bdc98188e2",
   "metadata": {},
   "outputs": [
    {
     "data": {
      "text/plain": [
       "array([ 6,  9, 12])"
      ]
     },
     "execution_count": 9,
     "metadata": {},
     "output_type": "execute_result"
    }
   ],
   "source": [
    "# Create a NumPy array from the same Python list and assign it to variable a\n",
    "a = np.array([2,3,4])\n",
    "# Multiply the variable by 3\n",
    "a * 3"
   ]
  },
  {
   "cell_type": "code",
   "execution_count": 11,
   "id": "f2455a39-972a-44a5-9b03-2e9c37ede30c",
   "metadata": {},
   "outputs": [
    {
     "data": {
      "text/plain": [
       "array([[0, 7, 5, 0, 6],\n",
       "       [3, 2, 3, 0, 7],\n",
       "       [2, 1, 7, 3, 5]])"
      ]
     },
     "execution_count": 11,
     "metadata": {},
     "output_type": "execute_result"
    }
   ],
   "source": [
    "np.random.seed(seed=2)\n",
    "arr1 = np.random.randint(low=0,high=8,size=(3,5))\n",
    "arr1"
   ]
  },
  {
   "cell_type": "code",
   "execution_count": 13,
   "id": "fa62e165-d920-4086-96cf-87f0b47a9646",
   "metadata": {},
   "outputs": [
    {
     "data": {
      "text/plain": [
       "array([[37, 43, 12,  8,  9],\n",
       "       [11,  5, 15,  0, 16],\n",
       "       [ 1, 12,  7, 45,  6]])"
      ]
     },
     "execution_count": 13,
     "metadata": {},
     "output_type": "execute_result"
    }
   ],
   "source": [
    "np.random.seed(seed=1)\n",
    "arr2 = np.random.randint(low=0,high=50,size=(3,5))\n",
    "arr2"
   ]
  },
  {
   "cell_type": "code",
   "execution_count": 19,
   "id": "ba8f46d1-cefe-48c9-90b0-636c87d29ab4",
   "metadata": {},
   "outputs": [
    {
     "data": {
      "text/plain": [
       "array([[39, 45, 14, 10, 11],\n",
       "       [13,  7, 17,  2, 18],\n",
       "       [ 3, 14,  9, 47,  8]])"
      ]
     },
     "execution_count": 19,
     "metadata": {},
     "output_type": "execute_result"
    }
   ],
   "source": [
    "# You can sum a constant to a numeric array\n",
    "\n",
    "arr2 + 2"
   ]
  },
  {
   "cell_type": "code",
   "execution_count": 97,
   "id": "ec15a48c-1fae-486c-8e34-7ad41452acfd",
   "metadata": {},
   "outputs": [
    {
     "data": {
      "text/plain": [
       "array([[0.        , 1.        , 0.71428571, 0.        , 0.85714286],\n",
       "       [0.42857143, 0.28571429, 0.42857143, 0.        , 1.        ],\n",
       "       [0.28571429, 0.14285714, 1.        , 0.42857143, 0.71428571]])"
      ]
     },
     "execution_count": 97,
     "metadata": {},
     "output_type": "execute_result"
    }
   ],
   "source": [
    "# You can divide the array by a constant\n",
    "\n",
    "arr1 / 7"
   ]
  },
  {
   "cell_type": "code",
   "execution_count": 31,
   "id": "a7e87a06-bb71-45ca-8369-a5f0a55fbaf8",
   "metadata": {},
   "outputs": [
    {
     "data": {
      "text/plain": [
       "array([[0.  , 9.87, 7.05, 0.  , 8.46],\n",
       "       [4.23, 2.82, 4.23, 0.  , 9.87],\n",
       "       [2.82, 1.41, 9.87, 4.23, 7.05]])"
      ]
     },
     "execution_count": 31,
     "metadata": {},
     "output_type": "execute_result"
    }
   ],
   "source": [
    "arr1 * 1.41"
   ]
  },
  {
   "cell_type": "code",
   "execution_count": 33,
   "id": "e198029f-4f79-4dd4-bf59-dc8eac0659e7",
   "metadata": {},
   "outputs": [
    {
     "data": {
      "text/plain": [
       "array([[-1.41,  5.59,  3.59, -1.41,  4.59],\n",
       "       [ 1.59,  0.59,  1.59, -1.41,  5.59],\n",
       "       [ 0.59, -0.41,  5.59,  1.59,  3.59]])"
      ]
     },
     "execution_count": 33,
     "metadata": {},
     "output_type": "execute_result"
    }
   ],
   "source": [
    "arr1 - 1.41"
   ]
  },
  {
   "cell_type": "code",
   "execution_count": 35,
   "id": "6c7dd121-4bc2-467b-ad44-2276ab0f210d",
   "metadata": {},
   "outputs": [
    {
     "data": {
      "text/plain": [
       "array([[  0, 343, 125,   0, 216],\n",
       "       [ 27,   8,  27,   0, 343],\n",
       "       [  8,   1, 343,  27, 125]])"
      ]
     },
     "execution_count": 35,
     "metadata": {},
     "output_type": "execute_result"
    }
   ],
   "source": [
    "arr1 ** 3"
   ]
  },
  {
   "cell_type": "code",
   "execution_count": 37,
   "id": "92ed56e7-2908-402e-b61d-e3a2834790bd",
   "metadata": {},
   "outputs": [
    {
     "data": {
      "text/plain": [
       "array([[37, 50, 17,  8, 15],\n",
       "       [14,  7, 18,  0, 23],\n",
       "       [ 3, 13, 14, 48, 11]])"
      ]
     },
     "execution_count": 37,
     "metadata": {},
     "output_type": "execute_result"
    }
   ],
   "source": [
    "arr1 + arr2"
   ]
  },
  {
   "cell_type": "code",
   "execution_count": 39,
   "id": "3440b11b-1e73-4a4a-8395-5c4d3217d796",
   "metadata": {},
   "outputs": [
    {
     "data": {
      "text/plain": [
       "array([[  0, 301,  60,   0,  54],\n",
       "       [ 33,  10,  45,   0, 112],\n",
       "       [  2,  12,  49, 135,  30]])"
      ]
     },
     "execution_count": 39,
     "metadata": {},
     "output_type": "execute_result"
    }
   ],
   "source": [
    "arr1 * arr2"
   ]
  },
  {
   "cell_type": "code",
   "execution_count": 41,
   "id": "49ea4d17-f6d1-42af-af46-8d8e2609a342",
   "metadata": {},
   "outputs": [
    {
     "data": {
      "text/plain": [
       "array([[37, 36,  7,  8,  3],\n",
       "       [ 8,  3, 12,  0,  9],\n",
       "       [-1, 11,  0, 42,  1]])"
      ]
     },
     "execution_count": 41,
     "metadata": {},
     "output_type": "execute_result"
    }
   ],
   "source": [
    "arr2 - arr1"
   ]
  },
  {
   "cell_type": "code",
   "execution_count": 43,
   "id": "759d1e59-666c-42d2-bef1-3327136d5fd8",
   "metadata": {},
   "outputs": [
    {
     "name": "stderr",
     "output_type": "stream",
     "text": [
      "/var/folders/2h/2zcs8h612kxcwf4_nb9dj5dm0000gn/T/ipykernel_28912/3936148295.py:3: RuntimeWarning: invalid value encountered in divide\n",
      "  arr1/arr2\n"
     ]
    },
    {
     "data": {
      "text/plain": [
       "array([[0.        , 0.1627907 , 0.41666667, 0.        , 0.66666667],\n",
       "       [0.27272727, 0.4       , 0.2       ,        nan, 0.4375    ],\n",
       "       [2.        , 0.08333333, 1.        , 0.06666667, 0.83333333]])"
      ]
     },
     "execution_count": 43,
     "metadata": {},
     "output_type": "execute_result"
    }
   ],
   "source": [
    "# In this case, when the numerator and denominator elements are zero, the operation's result for that element is nan (not a number).\n",
    "\n",
    "arr1/arr2"
   ]
  },
  {
   "cell_type": "code",
   "execution_count": 47,
   "id": "09aa8b1a-26d5-4c99-8c10-cc4b16510680",
   "metadata": {},
   "outputs": [
    {
     "name": "stderr",
     "output_type": "stream",
     "text": [
      "/var/folders/2h/2zcs8h612kxcwf4_nb9dj5dm0000gn/T/ipykernel_28912/1278033217.py:3: RuntimeWarning: divide by zero encountered in divide\n",
      "  1/arr2\n"
     ]
    },
    {
     "data": {
      "text/plain": [
       "array([[0.02702703, 0.02325581, 0.08333333, 0.125     , 0.11111111],\n",
       "       [0.09090909, 0.2       , 0.06666667,        inf, 0.0625    ],\n",
       "       [1.        , 0.08333333, 0.14285714, 0.02222222, 0.16666667]])"
      ]
     },
     "execution_count": 47,
     "metadata": {},
     "output_type": "execute_result"
    }
   ],
   "source": [
    "# Another use case is when the denominator element is zero, the operation's result for that element is inf (infinite).\n",
    "\n",
    "1/arr2"
   ]
  },
  {
   "cell_type": "code",
   "execution_count": 83,
   "id": "4993dd55-4806-4279-a6bd-19823c9eab2b",
   "metadata": {},
   "outputs": [
    {
     "data": {
      "text/plain": [
       "array([[ 21,   1,   7,  -4,  13],\n",
       "       [  1,  -1,   3,  -6,  18],\n",
       "       [-10,  -5,   2,  19,   9]])"
      ]
     },
     "execution_count": 83,
     "metadata": {},
     "output_type": "execute_result"
    }
   ],
   "source": [
    "np.random.seed(seed=101)\n",
    "arr = np.random.randint(low=-10,high=25,size=(3,5))\n",
    "arr"
   ]
  },
  {
   "cell_type": "code",
   "execution_count": 53,
   "id": "037bd648-23ea-43ad-9eda-1b18acbaa406",
   "metadata": {},
   "outputs": [
    {
     "name": "stderr",
     "output_type": "stream",
     "text": [
      "/var/folders/2h/2zcs8h612kxcwf4_nb9dj5dm0000gn/T/ipykernel_28912/1604984372.py:3: RuntimeWarning: invalid value encountered in sqrt\n",
      "  np.sqrt(arr)\n"
     ]
    },
    {
     "data": {
      "text/plain": [
       "array([[4.58257569, 1.        , 2.64575131,        nan, 3.60555128],\n",
       "       [1.        ,        nan, 1.73205081,        nan, 4.24264069],\n",
       "       [       nan,        nan, 1.41421356, 4.35889894, 3.        ]])"
      ]
     },
     "execution_count": 53,
     "metadata": {},
     "output_type": "execute_result"
    }
   ],
   "source": [
    "# When the element is negative, the square root is nan (not a number), considering the \"land of the real numbers\".\n",
    "\n",
    "np.sqrt(arr)"
   ]
  },
  {
   "cell_type": "code",
   "execution_count": 57,
   "id": "01063314-40ec-47fa-8950-ca3904b0b737",
   "metadata": {},
   "outputs": [
    {
     "data": {
      "text/plain": [
       "array([[21,  1,  7,  4, 13],\n",
       "       [ 1,  1,  3,  6, 18],\n",
       "       [10,  5,  2, 19,  9]])"
      ]
     },
     "execution_count": 57,
     "metadata": {},
     "output_type": "execute_result"
    }
   ],
   "source": [
    "# The absolute value of each element with np.abs()\n",
    "\n",
    "np.abs(arr)"
   ]
  },
  {
   "cell_type": "code",
   "execution_count": 63,
   "id": "592744dd-d926-4a5f-8709-b93ecee2ba45",
   "metadata": {},
   "outputs": [
    {
     "data": {
      "text/plain": [
       "array([[2.097152e+06, 2.000000e+00, 1.280000e+02, 6.250000e-02,\n",
       "        8.192000e+03],\n",
       "       [2.000000e+00, 5.000000e-01, 8.000000e+00, 1.562500e-02,\n",
       "        2.621440e+05],\n",
       "       [9.765625e-04, 3.125000e-02, 4.000000e+00, 5.242880e+05,\n",
       "        5.120000e+02]])"
      ]
     },
     "execution_count": 63,
     "metadata": {},
     "output_type": "execute_result"
    }
   ],
   "source": [
    "# calculate the exponential in base 2 (2 ** x) of all elements\n",
    "\n",
    "np.exp2(arr)"
   ]
  },
  {
   "cell_type": "code",
   "execution_count": 67,
   "id": "cb63c7e5-c7f1-4163-b189-b305f7dadf95",
   "metadata": {},
   "outputs": [
    {
     "name": "stderr",
     "output_type": "stream",
     "text": [
      "/var/folders/2h/2zcs8h612kxcwf4_nb9dj5dm0000gn/T/ipykernel_28912/2861197341.py:3: RuntimeWarning: invalid value encountered in log\n",
      "  np.log(arr)\n"
     ]
    },
    {
     "data": {
      "text/plain": [
       "array([[3.04452244, 0.        , 1.94591015,        nan, 2.56494936],\n",
       "       [0.        ,        nan, 1.09861229,        nan, 2.89037176],\n",
       "       [       nan,        nan, 0.69314718, 2.94443898, 2.19722458]])"
      ]
     },
     "execution_count": 67,
     "metadata": {},
     "output_type": "execute_result"
    }
   ],
   "source": [
    "# Natural logarithm for each element using np.log()\n",
    "\n",
    "np.log(arr)"
   ]
  },
  {
   "cell_type": "code",
   "execution_count": 69,
   "id": "6eafd87e-aad5-4498-9fa7-e5df2fcd6ee8",
   "metadata": {},
   "outputs": [
    {
     "name": "stderr",
     "output_type": "stream",
     "text": [
      "/var/folders/2h/2zcs8h612kxcwf4_nb9dj5dm0000gn/T/ipykernel_28912/1180703931.py:3: RuntimeWarning: invalid value encountered in log2\n",
      "  np.log2(arr)\n"
     ]
    },
    {
     "data": {
      "text/plain": [
       "array([[4.39231742, 0.        , 2.80735492,        nan, 3.70043972],\n",
       "       [0.        ,        nan, 1.5849625 ,        nan, 4.169925  ],\n",
       "       [       nan,        nan, 1.        , 4.24792751, 3.169925  ]])"
      ]
     },
     "execution_count": 69,
     "metadata": {},
     "output_type": "execute_result"
    }
   ],
   "source": [
    "# base-2 logarithm for each element using np.log2()\n",
    "\n",
    "np.log2(arr)"
   ]
  },
  {
   "cell_type": "code",
   "execution_count": 71,
   "id": "dfd391cd-c566-4641-b0ae-1585776215df",
   "metadata": {},
   "outputs": [
    {
     "name": "stderr",
     "output_type": "stream",
     "text": [
      "/var/folders/2h/2zcs8h612kxcwf4_nb9dj5dm0000gn/T/ipykernel_28912/1496859976.py:3: RuntimeWarning: invalid value encountered in log10\n",
      "  np.log10(arr)\n"
     ]
    },
    {
     "data": {
      "text/plain": [
       "array([[1.32221929, 0.        , 0.84509804,        nan, 1.11394335],\n",
       "       [0.        ,        nan, 0.47712125,        nan, 1.25527251],\n",
       "       [       nan,        nan, 0.30103   , 1.2787536 , 0.95424251]])"
      ]
     },
     "execution_count": 71,
     "metadata": {},
     "output_type": "execute_result"
    }
   ],
   "source": [
    "#  base-10 logarithm for each element using np.log10()\n",
    "\n",
    "np.log10(arr)"
   ]
  },
  {
   "cell_type": "code",
   "execution_count": 75,
   "id": "6aa5fd80-caca-4718-b078-38b5fff7689e",
   "metadata": {},
   "outputs": [
    {
     "data": {
      "text/plain": [
       "9.344279295673667"
      ]
     },
     "execution_count": 75,
     "metadata": {},
     "output_type": "execute_result"
    }
   ],
   "source": [
    "# Standard Deviation\n",
    "\n",
    "np.std(arr)"
   ]
  },
  {
   "cell_type": "code",
   "execution_count": 81,
   "id": "71d47153-d03f-42ea-b4d5-57af090dde5d",
   "metadata": {},
   "outputs": [
    {
     "data": {
      "text/plain": [
       "array([[ 21,   1,   7,  -4,  13],\n",
       "       [  1,  -1,   3,  -6,  18],\n",
       "       [-10,  -5,   2,  19,   9]])"
      ]
     },
     "execution_count": 81,
     "metadata": {},
     "output_type": "execute_result"
    }
   ],
   "source": [
    "arr"
   ]
  },
  {
   "cell_type": "code",
   "execution_count": 77,
   "id": "3b8a1fea-caa7-4f20-bc46-a37fffd543af",
   "metadata": {},
   "outputs": [
    {
     "data": {
      "text/plain": [
       "21"
      ]
     },
     "execution_count": 77,
     "metadata": {},
     "output_type": "execute_result"
    }
   ],
   "source": [
    "# Max value of the array\n",
    "\n",
    "np.max(arr)"
   ]
  },
  {
   "cell_type": "code",
   "execution_count": 85,
   "id": "7179c557-713f-4934-88c3-97c70484a962",
   "metadata": {},
   "outputs": [
    {
     "data": {
      "text/plain": [
       "10"
      ]
     },
     "execution_count": 85,
     "metadata": {},
     "output_type": "execute_result"
    }
   ],
   "source": [
    "np.argmin(arr)"
   ]
  },
  {
   "cell_type": "code",
   "execution_count": 87,
   "id": "a5e60bb2-fcb5-40a7-a5cc-22d75503cf05",
   "metadata": {},
   "outputs": [
    {
     "data": {
      "text/plain": [
       "array([[ 21,   1,   7,  -4,  13],\n",
       "       [  1,  -1,   3,  -6,  18],\n",
       "       [-10,  -5,   2,  19,   9]])"
      ]
     },
     "execution_count": 87,
     "metadata": {},
     "output_type": "execute_result"
    }
   ],
   "source": [
    "arr"
   ]
  },
  {
   "cell_type": "code",
   "execution_count": 89,
   "id": "00efa008-6be7-47a9-ab23-a6bfef79bdbc",
   "metadata": {},
   "outputs": [
    {
     "data": {
      "text/plain": [
       "array([12, -5, 12,  9, 40])"
      ]
     },
     "execution_count": 89,
     "metadata": {},
     "output_type": "execute_result"
    }
   ],
   "source": [
    "#Think of the axis parameter as telling NumPy which direction you want to sum along:\n",
    "\n",
    "# axis=0: Sum vertically (down the columns). This collapses the first dimension (stacks of arrays).\n",
    "# axis=1: Sum horizontally (across rows). This collapses the second dimension (rows).\n",
    "# axis=2: Sum along the last axis (across columns), collapsing the third dimension.\n",
    "\n",
    "np.sum(arr, axis=0)"
   ]
  },
  {
   "cell_type": "code",
   "execution_count": 93,
   "id": "bfb92d60-6c49-4ba8-92bb-845350ce41d2",
   "metadata": {},
   "outputs": [
    {
     "data": {
      "text/plain": [
       "array([[5.13850e+05, 4.00000e-01, 5.00000e-01],\n",
       "       [5.16876e+05, 3.00000e-01, 5.00000e-01],\n",
       "       [5.18915e+05, 4.00000e-01, 5.00000e-01],\n",
       "       [5.21920e+05, 4.00000e-01, 5.00000e-01],\n",
       "       [5.23813e+05, 7.00000e-01, 5.00000e-01],\n",
       "       [5.26750e+05, 7.00000e-01, 5.00000e-01],\n",
       "       [5.28712e+05, 1.00000e+00, 2.50000e-01],\n",
       "       [5.32082e+05, 1.50000e+00, 2.50000e-01]])"
      ]
     },
     "execution_count": 93,
     "metadata": {},
     "output_type": "execute_result"
    }
   ],
   "source": [
    "macro_arr=np.array([[513850, 0.4, 0.5],[516876, 0.3, 0.5],[518915, 0.4, 0.5],[521920, 0.4, 0.5],[523813, 0.7, 0.5],[526750, 0.7, 0.5],[528712, 1.0, 0.25],[532082, 1.5, 0.25]])\n",
    "macro_arr"
   ]
  },
  {
   "cell_type": "code",
   "execution_count": 99,
   "id": "e63a2428-48c6-4d1e-8b46-5de399628330",
   "metadata": {},
   "outputs": [
    {
     "data": {
      "text/plain": [
       "array([513850., 516876., 518915., 521920., 523813., 526750., 528712.,\n",
       "       532082.])"
      ]
     },
     "execution_count": 99,
     "metadata": {},
     "output_type": "execute_result"
    }
   ],
   "source": [
    "macro_arr[:,0]"
   ]
  },
  {
   "cell_type": "code",
   "execution_count": 103,
   "id": "0750b712-e831-4824-8045-2c42836a567c",
   "metadata": {},
   "outputs": [
    {
     "data": {
      "text/plain": [
       "2071561.0"
      ]
     },
     "execution_count": 103,
     "metadata": {},
     "output_type": "execute_result"
    }
   ],
   "source": [
    "np.sum(macro_arr[:4,0])"
   ]
  },
  {
   "cell_type": "code",
   "execution_count": 105,
   "id": "fe166f28-4cd1-4ee2-9047-7e1c50aec5b3",
   "metadata": {},
   "outputs": [
    {
     "data": {
      "text/plain": [
       "array([ 0.1 ,  0.2 ,  0.1 ,  0.1 , -0.2 , -0.2 , -0.75, -1.25])"
      ]
     },
     "execution_count": 105,
     "metadata": {},
     "output_type": "execute_result"
    }
   ],
   "source": [
    "macro_arr[:,2] - macro_arr[:,1]"
   ]
  },
  {
   "cell_type": "code",
   "execution_count": 107,
   "id": "8529694f-c2ab-41a8-b422-1ed62aa221b7",
   "metadata": {},
   "outputs": [
    {
     "data": {
      "text/plain": [
       "array([0.675 , 0.4375])"
      ]
     },
     "execution_count": 107,
     "metadata": {},
     "output_type": "execute_result"
    }
   ],
   "source": [
    "np.mean((macro_arr[:,1:]),axis=0)"
   ]
  },
  {
   "cell_type": "code",
   "execution_count": 109,
   "id": "a6c457af-d27a-4788-94e5-a79ac4756c86",
   "metadata": {},
   "outputs": [
    {
     "data": {
      "text/plain": [
       "array([0.3799671 , 0.10825318])"
      ]
     },
     "execution_count": 109,
     "metadata": {},
     "output_type": "execute_result"
    }
   ],
   "source": [
    "np.std((macro_arr[:,1:]),axis=0)"
   ]
  },
  {
   "cell_type": "code",
   "execution_count": null,
   "id": "a0428df0-eba7-4443-9474-ce91ae06347d",
   "metadata": {},
   "outputs": [],
   "source": []
  }
 ],
 "metadata": {
  "kernelspec": {
   "display_name": "Python [conda env:base] *",
   "language": "python",
   "name": "conda-base-py"
  },
  "language_info": {
   "codemirror_mode": {
    "name": "ipython",
    "version": 3
   },
   "file_extension": ".py",
   "mimetype": "text/x-python",
   "name": "python",
   "nbconvert_exporter": "python",
   "pygments_lexer": "ipython3",
   "version": "3.12.7"
  }
 },
 "nbformat": 4,
 "nbformat_minor": 5
}
