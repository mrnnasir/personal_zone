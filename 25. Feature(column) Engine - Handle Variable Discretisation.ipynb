{
 "cells": [
  {
   "cell_type": "markdown",
   "id": "b5995817-9724-4552-b54a-d0c5dee7e222",
   "metadata": {},
   "source": [
    "### Handle Variable Discretisation using Equal Frequency discretiser, Equal Width discretiser or Arbitrary discretiser"
   ]
  },
  {
   "cell_type": "code",
   "execution_count": 3,
   "id": "5af4ac40-d29c-4e28-bc07-048c0972215b",
   "metadata": {},
   "outputs": [],
   "source": [
    "import numpy as np\n",
    "import pandas as pd\n",
    "import matplotlib.pyplot as plt\n",
    "import seaborn as sns\n",
    "sns.set_style('whitegrid')\n",
    "from sklearn.pipeline import Pipeline\n",
    "from feature_engine.imputation import DropMissingData"
   ]
  },
  {
   "cell_type": "markdown",
   "id": "2dddd454-6218-418a-9846-7c8216eb4642",
   "metadata": {},
   "source": [
    "## Handle Variable Discretization\n",
    "\n",
    "This technique consists of `transforming continuous numerical variables into discrete variables`. The discrete variables will contain intervals related to the numerical distribution. The interval will be decided based on the frequency or width. We will study:\n",
    "* EqualFrequencyDiscretiser\n",
    "* EqualWidthDiscretiser\n",
    "* ArbitraryDiscretiser\n",
    "\n",
    "When should I consider using them? We can consider these use cases:\n",
    "* When your feature has an abnormal or weird numerical distribution, and by discretizing this variable, the categorical distribution is better understood by the model\n",
    "* You have a continuous target variable, and you are not successful in fitting a model to the dataset. Then, you can discretize the target variable and convert the ML task to classification since your target variable is now categorical. The expectation is that we will create more conditions to find a model that fits the data.\n"
   ]
  },
  {
   "cell_type": "markdown",
   "id": "f02c7f56-1ce1-41cb-9de9-825b141fde1b",
   "metadata": {
    "jp-MarkdownHeadingCollapsed": true
   },
   "source": [
    "### Equal Frequency\n",
    "\n",
    "**Also known as: Quantile Binning**\n",
    "\n",
    "**What it does:**\n",
    "* Divides the data into bins such that each bin has (approximately) the same number of data points.\n",
    "\n",
    "**How it works:**\n",
    "* Sort the data.\n",
    "* Divide it into n bins where each bin contains the same number of records.\n",
    "* Bin boundaries are based on quantiles (e.g., quartiles, deciles).\n",
    "**Example:** If you have 1000 data points and want 4 bins:\n",
    "- Each bin will contain ~250 data points.\n",
    "\n",
    "**Pros:**\n",
    "Balances bin sizes (useful for models sensitive to distribution).\n",
    "Good when data is skewed.\n",
    "\n",
    "**Cons:**\n",
    "Bin widths can vary a lot.\n",
    "Outliers might distort bins.\n",
    "\n",
    "\n",
    "It divides continuous numerical variables into contiguous equal frequency intervals, intervals containing approximately the same proportion of observations. The function documentation is found [here](https://feature-engine.trainindata.com/en/latest/user_guide/discretisation/EqualFrequencyDiscretiser.html)\n",
    "* The arguments are `variables` to apply the method; if you don't specify a variable, it will select all numerical variables. And `q` (for quantiles), which is the desired number of equal frequency intervals (or quantiles).\n"
   ]
  },
  {
   "cell_type": "code",
   "execution_count": 6,
   "id": "044dbeac-c5e8-472e-8943-574fc53c29cf",
   "metadata": {},
   "outputs": [],
   "source": [
    "from feature_engine.discretisation import EqualFrequencyDiscretiser"
   ]
  },
  {
   "cell_type": "code",
   "execution_count": 7,
   "id": "5b1667fb-5c00-477d-8eb5-d71352c90f59",
   "metadata": {},
   "outputs": [
    {
     "data": {
      "text/html": [
       "<div>\n",
       "<style scoped>\n",
       "    .dataframe tbody tr th:only-of-type {\n",
       "        vertical-align: middle;\n",
       "    }\n",
       "\n",
       "    .dataframe tbody tr th {\n",
       "        vertical-align: top;\n",
       "    }\n",
       "\n",
       "    .dataframe thead th {\n",
       "        text-align: right;\n",
       "    }\n",
       "</style>\n",
       "<table border=\"1\" class=\"dataframe\">\n",
       "  <thead>\n",
       "    <tr style=\"text-align: right;\">\n",
       "      <th></th>\n",
       "      <th>target</th>\n",
       "    </tr>\n",
       "  </thead>\n",
       "  <tbody>\n",
       "    <tr>\n",
       "      <th>0</th>\n",
       "      <td>24.0</td>\n",
       "    </tr>\n",
       "    <tr>\n",
       "      <th>1</th>\n",
       "      <td>21.6</td>\n",
       "    </tr>\n",
       "    <tr>\n",
       "      <th>2</th>\n",
       "      <td>34.7</td>\n",
       "    </tr>\n",
       "    <tr>\n",
       "      <th>3</th>\n",
       "      <td>33.4</td>\n",
       "    </tr>\n",
       "    <tr>\n",
       "      <th>4</th>\n",
       "      <td>36.2</td>\n",
       "    </tr>\n",
       "  </tbody>\n",
       "</table>\n",
       "</div>"
      ],
      "text/plain": [
       "   target\n",
       "0    24.0\n",
       "1    21.6\n",
       "2    34.7\n",
       "3    33.4\n",
       "4    36.2"
      ]
     },
     "execution_count": 7,
     "metadata": {},
     "output_type": "execute_result"
    }
   ],
   "source": [
    "boston_data = pd.read_csv('housing.csv')\n",
    "df = pd.DataFrame(data=boston_data)\n",
    "df = pd.DataFrame(boston_data.target)\n",
    "\n",
    "df.head()"
   ]
  },
  {
   "cell_type": "markdown",
   "id": "5b460a99-b5ce-4bf1-809a-4bf29db2ae2b",
   "metadata": {},
   "source": [
    "We assess the distribution with `sns.histplot()`"
   ]
  },
  {
   "cell_type": "code",
   "execution_count": 10,
   "id": "ab5fd610-70a5-4d1c-bbda-37acdf6cea0d",
   "metadata": {},
   "outputs": [
    {
     "data": {
      "image/png": "[encoded data removed]",
      "text/plain": [
       "<Figure size 640x480 with 1 Axes>"
      ]
     },
     "metadata": {},
     "output_type": "display_data"
    }
   ],
   "source": [
    "sns.histplot(data=df, x='target', kde=True)\n",
    "plt.show()"
   ]
  },
  {
   "cell_type": "markdown",
   "id": "2bc24f43-b1ba-4b00-ba4b-73cd7926c7fe",
   "metadata": {},
   "source": [
    "We create a pipeline with `EqualFrequencyDiscretiser()` on the target variable and look for five bins. We then `.fit_transform()` the data\n",
    "* In the workplace, you will consider criteria to select a number for ``q``. Typically, it will make sense to have 3 or 6. At the same time, you can run multiple simulations and assess the results for numerous ``q``\n"
   ]
  },
  {
   "cell_type": "code",
   "execution_count": 14,
   "id": "d59c122c-f54f-4258-ba06-9021c7a3c130",
   "metadata": {},
   "outputs": [
    {
     "data": {
      "text/html": [
       "<div>\n",
       "<style scoped>\n",
       "    .dataframe tbody tr th:only-of-type {\n",
       "        vertical-align: middle;\n",
       "    }\n",
       "\n",
       "    .dataframe tbody tr th {\n",
       "        vertical-align: top;\n",
       "    }\n",
       "\n",
       "    .dataframe thead th {\n",
       "        text-align: right;\n",
       "    }\n",
       "</style>\n",
       "<table border=\"1\" class=\"dataframe\">\n",
       "  <thead>\n",
       "    <tr style=\"text-align: right;\">\n",
       "      <th></th>\n",
       "      <th>target</th>\n",
       "    </tr>\n",
       "  </thead>\n",
       "  <tbody>\n",
       "    <tr>\n",
       "      <th>0</th>\n",
       "      <td>3</td>\n",
       "    </tr>\n",
       "    <tr>\n",
       "      <th>1</th>\n",
       "      <td>2</td>\n",
       "    </tr>\n",
       "    <tr>\n",
       "      <th>2</th>\n",
       "      <td>4</td>\n",
       "    </tr>\n",
       "    <tr>\n",
       "      <th>3</th>\n",
       "      <td>4</td>\n",
       "    </tr>\n",
       "    <tr>\n",
       "      <th>4</th>\n",
       "      <td>4</td>\n",
       "    </tr>\n",
       "  </tbody>\n",
       "</table>\n",
       "</div>"
      ],
      "text/plain": [
       "   target\n",
       "0       3\n",
       "1       2\n",
       "2       4\n",
       "3       4\n",
       "4       4"
      ]
     },
     "execution_count": 14,
     "metadata": {},
     "output_type": "execute_result"
    }
   ],
   "source": [
    "pipeline = Pipeline([\n",
    "    ('drop_na', DropMissingData()),\n",
    "    ('efd', EqualFrequencyDiscretiser(q=5, variables='target')) # q is like a bin, which gives number of ranges we want.\n",
    "])\n",
    "\n",
    "df_transformed = pipeline.fit_transform(df)\n",
    "df_transformed.head()"
   ]
  },
  {
   "cell_type": "markdown",
   "id": "102c6a6b-c9ef-4fe7-9908-179204e4a8b5",
   "metadata": {},
   "source": [
    "We assess the efd step and check what were the bins the transformer calculated with `.binner_dict_`"
   ]
  },
  {
   "cell_type": "code",
   "execution_count": 18,
   "id": "4af37c86-32a6-487d-b4d0-4f9fd527518f",
   "metadata": {},
   "outputs": [
    {
     "data": {
      "text/plain": [
       "{'target': [-inf, 17.419999999999998, 20.44, 23.160000000000004, 29.1, inf]}"
      ]
     },
     "execution_count": 18,
     "metadata": {},
     "output_type": "execute_result"
    }
   ],
   "source": [
    "pipeline['efd'].binner_dict_"
   ]
  },
  {
   "cell_type": "markdown",
   "id": "bd142bc2-a796-488b-8493-612c5308afe4",
   "metadata": {},
   "source": [
    "Finally, we plot the new target distribution. As we may expect, all intervals have the same frequency\n",
    "* Note in the plot the bar where the target is zero; it corresponds to the numerical interval of -inf to 15.3. You can extend this for the remaining bars\n",
    "\n",
    "The upside of using this technique, considering you are using the target variable, is that your target variable for the classification task will be already balanced, which means the labels have similar frequencies."
   ]
  },
  {
   "cell_type": "code",
   "execution_count": 21,
   "id": "0c938306-f411-4bb5-852c-35857528126e",
   "metadata": {},
   "outputs": [
    {
     "data": {
      "image/png": "[encoded data removed]",
      "text/plain": [
       "<Figure size 640x480 with 1 Axes>"
      ]
     },
     "metadata": {},
     "output_type": "display_data"
    }
   ],
   "source": [
    "sns.countplot(data=df_transformed, x='target')\n",
    "plt.show()"
   ]
  },
  {
   "cell_type": "markdown",
   "id": "52d127d9-ab4f-4e45-8cbc-6ab4df7dbb59",
   "metadata": {
    "jp-MarkdownHeadingCollapsed": true
   },
   "source": [
    "### Equal Width\n",
    "\n",
    "**Also known as: Uniform Binning**\n",
    "\n",
    "**What it does:**\n",
    "* Divides the range of the variable into equal-width intervals, regardless of how many data points fall in each bin.\n",
    "\n",
    "**How it works:**\n",
    "* Calculate the min and max of the feature.\n",
    "* Divide the range into n intervals of equal size.\n",
    "**Example:** If the data ranges from 0 to 100 and you want 5 bins:\n",
    "Bins would be: [0–20), [20–40), [40–60), [60–80), [80–100]\n",
    "\n",
    "**Pros:**\n",
    "* Simple and easy to interpret.\n",
    "* Bin ranges are consistent.\n",
    "\n",
    "**Cons:**\n",
    "* Can result in unbalanced bins (some may be empty or sparse).\n",
    "* Not ideal for skewed data.\n",
    "\n",
    "This technique divides continuous numerical variables into intervals of the same width. Note that the count of observations per interval may vary. The function documentation is found [here](https://feature-engine.trainindata.com/en/latest/user_guide/discretisation/EqualWidthDiscretiser.html).\n",
    "* The arguments are `variables` to apply the method to; if you don't parse anything, it will select all numerical variables. And `bins`, which is the number of equal-width intervals/bins you want."
   ]
  },
  {
   "cell_type": "code",
   "execution_count": 24,
   "id": "018fda79-56fa-4edd-8231-032799435b17",
   "metadata": {},
   "outputs": [],
   "source": [
    "from feature_engine.discretisation import EqualWidthDiscretiser"
   ]
  },
  {
   "cell_type": "code",
   "execution_count": 26,
   "id": "2e4b3160-d1df-4734-a3c9-2e828ed8ae6c",
   "metadata": {},
   "outputs": [
    {
     "data": {
      "text/html": [
       "<div>\n",
       "<style scoped>\n",
       "    .dataframe tbody tr th:only-of-type {\n",
       "        vertical-align: middle;\n",
       "    }\n",
       "\n",
       "    .dataframe tbody tr th {\n",
       "        vertical-align: top;\n",
       "    }\n",
       "\n",
       "    .dataframe thead th {\n",
       "        text-align: right;\n",
       "    }\n",
       "</style>\n",
       "<table border=\"1\" class=\"dataframe\">\n",
       "  <thead>\n",
       "    <tr style=\"text-align: right;\">\n",
       "      <th></th>\n",
       "      <th>target</th>\n",
       "    </tr>\n",
       "  </thead>\n",
       "  <tbody>\n",
       "    <tr>\n",
       "      <th>0</th>\n",
       "      <td>24.0</td>\n",
       "    </tr>\n",
       "    <tr>\n",
       "      <th>1</th>\n",
       "      <td>21.6</td>\n",
       "    </tr>\n",
       "    <tr>\n",
       "      <th>2</th>\n",
       "      <td>34.7</td>\n",
       "    </tr>\n",
       "    <tr>\n",
       "      <th>3</th>\n",
       "      <td>33.4</td>\n",
       "    </tr>\n",
       "    <tr>\n",
       "      <th>4</th>\n",
       "      <td>36.2</td>\n",
       "    </tr>\n",
       "  </tbody>\n",
       "</table>\n",
       "</div>"
      ],
      "text/plain": [
       "   target\n",
       "0    24.0\n",
       "1    21.6\n",
       "2    34.7\n",
       "3    33.4\n",
       "4    36.2"
      ]
     },
     "execution_count": 26,
     "metadata": {},
     "output_type": "execute_result"
    }
   ],
   "source": [
    "boston_data = pd.read_csv('housing.csv')\n",
    "df = pd.DataFrame(data=boston_data)\n",
    "df = pd.DataFrame(boston_data.target)\n",
    "\n",
    "df.head()"
   ]
  },
  {
   "cell_type": "code",
   "execution_count": 28,
   "id": "9fb2e911-1b72-4608-a7fb-58262d26eaee",
   "metadata": {},
   "outputs": [
    {
     "data": {
      "image/png": "[encoded data removed]",
      "text/plain": [
       "<Figure size 640x480 with 1 Axes>"
      ]
     },
     "metadata": {},
     "output_type": "display_data"
    }
   ],
   "source": [
    "sns.histplot(data=df, kde=True)\n",
    "plt.show()"
   ]
  },
  {
   "cell_type": "markdown",
   "id": "0bef3a0b-5d68-4374-a6e3-95ca130006df",
   "metadata": {},
   "source": [
    "We create a pipeline with `EqualWidthDiscretiser()` on the target variable and look for six bins. We then `.fit_transform()` the data\n",
    "* In the workplace, you will consider criteria to select a number of `bins`. Typically, it will make sense to have 3 or 6. But, you can run multiple simulations and assess the results for numerous `bins`"
   ]
  },
  {
   "cell_type": "code",
   "execution_count": 55,
   "id": "42fefe4d-db27-4ab0-9f20-6b331b2e2562",
   "metadata": {},
   "outputs": [
    {
     "data": {
      "text/html": [
       "<div>\n",
       "<style scoped>\n",
       "    .dataframe tbody tr th:only-of-type {\n",
       "        vertical-align: middle;\n",
       "    }\n",
       "\n",
       "    .dataframe tbody tr th {\n",
       "        vertical-align: top;\n",
       "    }\n",
       "\n",
       "    .dataframe thead th {\n",
       "        text-align: right;\n",
       "    }\n",
       "</style>\n",
       "<table border=\"1\" class=\"dataframe\">\n",
       "  <thead>\n",
       "    <tr style=\"text-align: right;\">\n",
       "      <th></th>\n",
       "      <th>target</th>\n",
       "    </tr>\n",
       "  </thead>\n",
       "  <tbody>\n",
       "    <tr>\n",
       "      <th>0</th>\n",
       "      <td>2</td>\n",
       "    </tr>\n",
       "    <tr>\n",
       "      <th>1</th>\n",
       "      <td>2</td>\n",
       "    </tr>\n",
       "    <tr>\n",
       "      <th>2</th>\n",
       "      <td>3</td>\n",
       "    </tr>\n",
       "    <tr>\n",
       "      <th>3</th>\n",
       "      <td>3</td>\n",
       "    </tr>\n",
       "    <tr>\n",
       "      <th>4</th>\n",
       "      <td>4</td>\n",
       "    </tr>\n",
       "  </tbody>\n",
       "</table>\n",
       "</div>"
      ],
      "text/plain": [
       "   target\n",
       "0       2\n",
       "1       2\n",
       "2       3\n",
       "3       3\n",
       "4       4"
      ]
     },
     "execution_count": 55,
     "metadata": {},
     "output_type": "execute_result"
    }
   ],
   "source": [
    "pipeline = Pipeline([\n",
    "    ('drop_na', DropMissingData()),\n",
    "      ('ewd', EqualWidthDiscretiser(bins=6, variables=['target']) ) # q is like a bin, which gives number of ranges we want.\n",
    "])\n",
    "\n",
    "df_transformed = pipeline.fit_transform(df)\n",
    "df_transformed.head()"
   ]
  },
  {
   "cell_type": "markdown",
   "id": "896f2ed0-c369-4197-8481-ec7c3f151c00",
   "metadata": {},
   "source": [
    "We assess the ewd step and check the bins we created with `.binner_dict_`"
   ]
  },
  {
   "cell_type": "code",
   "execution_count": 58,
   "id": "9fd9c8af-3b78-4092-86b6-c8641bbbed10",
   "metadata": {},
   "outputs": [
    {
     "data": {
      "text/plain": [
       "{'target': [-inf,\n",
       "  13.583333333333334,\n",
       "  20.866666666666667,\n",
       "  28.150000000000002,\n",
       "  35.43333333333334,\n",
       "  42.71666666666667,\n",
       "  inf]}"
      ]
     },
     "execution_count": 58,
     "metadata": {},
     "output_type": "execute_result"
    }
   ],
   "source": [
    "pipeline['ewd'].binner_dict_"
   ]
  },
  {
   "cell_type": "markdown",
   "id": "14ac994a-695b-48d4-85fa-f65d50f08f82",
   "metadata": {},
   "source": [
    "Finally, we plot the new target distribution. As expected, all intervals have the same width (7.5)\n",
    "* Note in the plot, the bar where the target is zero corresponds to the numerical interval of -inf to 12.5.  You can extend this for the remaining bars\n",
    "\n",
    "The downside of using this technique, considering you are using the target variable, is that your target variable for the classification task will likely not be balanced."
   ]
  },
  {
   "cell_type": "code",
   "execution_count": 36,
   "id": "086c09ed-618b-4b22-92df-21482bda8b18",
   "metadata": {},
   "outputs": [
    {
     "data": {
      "image/png": "[encoded data removed]",
      "text/plain": [
       "<Figure size 640x480 with 1 Axes>"
      ]
     },
     "metadata": {},
     "output_type": "display_data"
    }
   ],
   "source": [
    "sns.countplot(data=df_transformed, x='target')\n",
    "plt.show()"
   ]
  },
  {
   "cell_type": "markdown",
   "id": "9aba34ec-5566-4c7a-a182-f29c0e6c5ae1",
   "metadata": {},
   "source": [
    "### Arbitrary Discretiser\n",
    "\n",
    "**Also known as: Manual Binning or Custom Binning**\n",
    "\n",
    "**What it does:**\n",
    "* Allows you to define custom bin edges based on domain knowledge or specific criteria.\n",
    "\n",
    "**How it works:**\n",
    "* You provide the bin boundaries (e.g., age: [0, 18, 30, 60, 100]).\n",
    "* Data points are binned based on these custom intervals.\n",
    "**Example:**\n",
    "* For age: Bins: 0–17 (Teen), 18–29 (Young Adult), 30–59 (Adult), 60+ (Senior)\n",
    "\n",
    "**Pros:**\n",
    "* High control over the bins.\n",
    "* Can incorporate domain knowledge.\n",
    "\n",
    "**Cons:**\n",
    "* Requires manual input and expertise.\n",
    "* Not data-driven (unless boundaries are chosen using some heuristic).\n",
    "\n",
    "\n",
    "It divides continuous range intervals, which limits are determined by the user. The documentation is found [here](https://feature-engine.trainindata.com/en/latest/user_guide/discretisation/ArbitraryDiscretiser.html). The used argument is:\n",
    "* ``binning_dict`` is a dictionary that tells which variable you want to apply the method and the intervals.\n",
    "\n",
    "* You may use this technique when the company is comfortable with how to map the numerical values to ranges. For example, imagine if the variable is Revenue from a given purchase. The business is comfortable assuming that Revenue smaller than 100 is small, between 100 and 1000 is medium and greater than 1000 is big. You can also conduct separate analyses with other custom ranges to question current assumptions and/or look for other criteria to discretise the data."
   ]
  },
  {
   "cell_type": "code",
   "execution_count": 63,
   "id": "45aad0fe-2066-42b5-bf57-3729051aadf0",
   "metadata": {},
   "outputs": [],
   "source": [
    "from feature_engine.discretisation import ArbitraryDiscretiser"
   ]
  },
  {
   "cell_type": "code",
   "execution_count": 65,
   "id": "a687c2fd-06b9-4743-b8c3-9b2c6ed28546",
   "metadata": {},
   "outputs": [
    {
     "data": {
      "text/html": [
       "<div>\n",
       "<style scoped>\n",
       "    .dataframe tbody tr th:only-of-type {\n",
       "        vertical-align: middle;\n",
       "    }\n",
       "\n",
       "    .dataframe tbody tr th {\n",
       "        vertical-align: top;\n",
       "    }\n",
       "\n",
       "    .dataframe thead th {\n",
       "        text-align: right;\n",
       "    }\n",
       "</style>\n",
       "<table border=\"1\" class=\"dataframe\">\n",
       "  <thead>\n",
       "    <tr style=\"text-align: right;\">\n",
       "      <th></th>\n",
       "      <th>target</th>\n",
       "    </tr>\n",
       "  </thead>\n",
       "  <tbody>\n",
       "    <tr>\n",
       "      <th>0</th>\n",
       "      <td>24.0</td>\n",
       "    </tr>\n",
       "    <tr>\n",
       "      <th>1</th>\n",
       "      <td>21.6</td>\n",
       "    </tr>\n",
       "    <tr>\n",
       "      <th>2</th>\n",
       "      <td>34.7</td>\n",
       "    </tr>\n",
       "    <tr>\n",
       "      <th>3</th>\n",
       "      <td>33.4</td>\n",
       "    </tr>\n",
       "    <tr>\n",
       "      <th>4</th>\n",
       "      <td>36.2</td>\n",
       "    </tr>\n",
       "  </tbody>\n",
       "</table>\n",
       "</div>"
      ],
      "text/plain": [
       "   target\n",
       "0    24.0\n",
       "1    21.6\n",
       "2    34.7\n",
       "3    33.4\n",
       "4    36.2"
      ]
     },
     "execution_count": 65,
     "metadata": {},
     "output_type": "execute_result"
    }
   ],
   "source": [
    "boston_data = pd.read_csv('housing.csv')\n",
    "df = pd.DataFrame(data=boston_data)\n",
    "df = pd.DataFrame(boston_data.target)\n",
    "\n",
    "df.head()"
   ]
  },
  {
   "cell_type": "code",
   "execution_count": 67,
   "id": "e2569e19-d303-4cd9-832c-f06c2fcc6ed2",
   "metadata": {},
   "outputs": [
    {
     "data": {
      "image/png": "[encoded data removed]",
      "text/plain": [
       "<Figure size 640x480 with 1 Axes>"
      ]
     },
     "metadata": {},
     "output_type": "display_data"
    }
   ],
   "source": [
    "sns.histplot(data=df, x='target', kde=True)\n",
    "plt.show()"
   ]
  },
  {
   "cell_type": "markdown",
   "id": "c93baee8-91ef-4dd3-84dd-167a43721f7b",
   "metadata": {},
   "source": [
    "We create a pipeline with `ArbitraryDiscretiser()` on the target variable and look for four custom bins. We then `.fit_transform()` the data\n",
    "* In the workplace, you will consider criteria to select a number of `bins`. Typically, it will make sense to have 3 or 6. But, you can run multiple simulations and assess the results for numerous `bins`\n"
   ]
  },
  {
   "cell_type": "code",
   "execution_count": 70,
   "id": "95749700-dca4-4be9-aafe-98a146e8945c",
   "metadata": {},
   "outputs": [
    {
     "data": {
      "text/html": [
       "<div>\n",
       "<style scoped>\n",
       "    .dataframe tbody tr th:only-of-type {\n",
       "        vertical-align: middle;\n",
       "    }\n",
       "\n",
       "    .dataframe tbody tr th {\n",
       "        vertical-align: top;\n",
       "    }\n",
       "\n",
       "    .dataframe thead th {\n",
       "        text-align: right;\n",
       "    }\n",
       "</style>\n",
       "<table border=\"1\" class=\"dataframe\">\n",
       "  <thead>\n",
       "    <tr style=\"text-align: right;\">\n",
       "      <th></th>\n",
       "      <th>target</th>\n",
       "    </tr>\n",
       "  </thead>\n",
       "  <tbody>\n",
       "    <tr>\n",
       "      <th>0</th>\n",
       "      <td>2</td>\n",
       "    </tr>\n",
       "    <tr>\n",
       "      <th>1</th>\n",
       "      <td>2</td>\n",
       "    </tr>\n",
       "    <tr>\n",
       "      <th>2</th>\n",
       "      <td>2</td>\n",
       "    </tr>\n",
       "    <tr>\n",
       "      <th>3</th>\n",
       "      <td>2</td>\n",
       "    </tr>\n",
       "    <tr>\n",
       "      <th>4</th>\n",
       "      <td>2</td>\n",
       "    </tr>\n",
       "    <tr>\n",
       "      <th>...</th>\n",
       "      <td>...</td>\n",
       "    </tr>\n",
       "    <tr>\n",
       "      <th>501</th>\n",
       "      <td>2</td>\n",
       "    </tr>\n",
       "    <tr>\n",
       "      <th>502</th>\n",
       "      <td>2</td>\n",
       "    </tr>\n",
       "    <tr>\n",
       "      <th>503</th>\n",
       "      <td>2</td>\n",
       "    </tr>\n",
       "    <tr>\n",
       "      <th>504</th>\n",
       "      <td>2</td>\n",
       "    </tr>\n",
       "    <tr>\n",
       "      <th>505</th>\n",
       "      <td>1</td>\n",
       "    </tr>\n",
       "  </tbody>\n",
       "</table>\n",
       "<p>452 rows × 1 columns</p>\n",
       "</div>"
      ],
      "text/plain": [
       "     target\n",
       "0         2\n",
       "1         2\n",
       "2         2\n",
       "3         2\n",
       "4         2\n",
       "..      ...\n",
       "501       2\n",
       "502       2\n",
       "503       2\n",
       "504       2\n",
       "505       1\n",
       "\n",
       "[452 rows x 1 columns]"
      ]
     },
     "execution_count": 70,
     "metadata": {},
     "output_type": "execute_result"
    }
   ],
   "source": [
    "import numpy as np # we import NumPy to set -inf and +inf\n",
    "\n",
    "pipeline = Pipeline([\n",
    "    ('drop_na', DropMissingData()),\n",
    "    ('arbd', ArbitraryDiscretiser(binning_dict={'target':[-np.inf,10,20,40,np.inf]}) )\n",
    "])\n",
    "\n",
    "df_transformed = pipeline.fit_transform(df)\n",
    "df_transformed"
   ]
  },
  {
   "cell_type": "markdown",
   "id": "84142459-630d-4c5a-aa1f-47e332d0a846",
   "metadata": {},
   "source": [
    "We assess the arbd step and check the bins we created with `.binner_dict_`"
   ]
  },
  {
   "cell_type": "code",
   "execution_count": 73,
   "id": "63d6b418-d70e-4f36-9770-f64690261883",
   "metadata": {},
   "outputs": [
    {
     "data": {
      "text/plain": [
       "{'target': [-inf, 10, 20, 40, inf]}"
      ]
     },
     "execution_count": 73,
     "metadata": {},
     "output_type": "execute_result"
    }
   ],
   "source": [
    "pipeline['arbd'].binner_dict_"
   ]
  },
  {
   "cell_type": "markdown",
   "id": "c465fbc4-70ae-4d33-b6c7-ffa9d91d41cc",
   "metadata": {},
   "source": [
    "Finally, we plot the new target distribution.\n",
    "* Note in the plot the bar where the target is zero corresponds to the numerical interval of -inf to 10.  You can extend this for the remaining bars\n",
    "\n",
    "The upside of this technique is that we set the intervals we are comfortable with. The downside is that the categorical distribution may be imbalanced."
   ]
  },
  {
   "cell_type": "code",
   "execution_count": 76,
   "id": "6ea619fa-10aa-49e1-a8c3-350ab6cfd863",
   "metadata": {},
   "outputs": [
    {
     "data": {
      "image/png": "[encoded data removed]",
      "text/plain": [
       "<Figure size 640x480 with 1 Axes>"
      ]
     },
     "metadata": {},
     "output_type": "display_data"
    }
   ],
   "source": [
    "sns.countplot(data=df_transformed, x='target')\n",
    "plt.show()"
   ]
  },
  {
   "cell_type": "code",
   "execution_count": null,
   "id": "4dcabe78-f35f-4d00-a552-5c717ccf6f3f",
   "metadata": {},
   "outputs": [],
   "source": []
  }
 ],
 "metadata": {
  "kernelspec": {
   "display_name": "Python [conda env:base] *",
   "language": "python",
   "name": "conda-base-py"
  },
  "language_info": {
   "codemirror_mode": {
    "name": "ipython",
    "version": 3
   },
   "file_extension": ".py",
   "mimetype": "text/x-python",
   "name": "python",
   "nbconvert_exporter": "python",
   "pygments_lexer": "ipython3",
   "version": "3.12.7"
  }
 },
 "nbformat": 4,
 "nbformat_minor": 5
}
