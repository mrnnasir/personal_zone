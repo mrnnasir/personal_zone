{
 "cells": [
  {
   "cell_type": "code",
   "execution_count": 1,
   "id": "5ce791fe-fa73-428a-8556-aafd081c18c4",
   "metadata": {},
   "outputs": [],
   "source": [
    "import numpy as np\n",
    "import pandas as pd\n",
    "import matplotlib.pyplot as plt\n",
    "import seaborn as sns # used for loading datasets"
   ]
  },
  {
   "cell_type": "markdown",
   "id": "05a7f46d-806f-460b-89a9-5d354af37108",
   "metadata": {},
   "source": [
    "In our last topic, we learned how to use `plt.plot()` to plot data in the x and y-axis.\n",
    "* We will study more examples within this topic.\n",
    "  * However we will not study these examples in detail, such as setting and customising plot parameters, like title, axis, grid, colour. We will leave such details until the next topic.\n",
    "  * However, there will be cases in this topic where we will introduce a little customisation to present the examples better\n",
    "\n",
    "* We will study the following plot types in this topic:\n",
    "  * Line Plot\n",
    "  * Histogram\n",
    "  * Boxplot\n",
    "  * Scatter Plot\n",
    "  * Areaplot\n",
    "  * Bar plot\n",
    "  * Pie chart\n",
    "  * 3D Plot\n",
    "  * Images\n",
    "\n",
    "* The matplotlib gallery with documented use cases can be found [here](https://matplotlib.org/stable/gallery/index.html)"
   ]
  },
  {
   "cell_type": "code",
   "execution_count": 3,
   "id": "f1be9876-f6cb-4557-93ec-dc3a918bc4ca",
   "metadata": {},
   "outputs": [
    {
     "data": {
      "text/plain": [
       "['anagrams',\n",
       " 'anscombe',\n",
       " 'attention',\n",
       " 'brain_networks',\n",
       " 'car_crashes',\n",
       " 'diamonds',\n",
       " 'dots',\n",
       " 'dowjones',\n",
       " 'exercise',\n",
       " 'flights',\n",
       " 'fmri',\n",
       " 'geyser',\n",
       " 'glue',\n",
       " 'healthexp',\n",
       " 'iris',\n",
       " 'mpg',\n",
       " 'penguins',\n",
       " 'planets',\n",
       " 'seaice',\n",
       " 'taxis',\n",
       " 'tips',\n",
       " 'titanic']"
      ]
     },
     "execution_count": 3,
     "metadata": {},
     "output_type": "execute_result"
    }
   ],
   "source": [
    "import seaborn as sns\n",
    "sns.get_dataset_names()"
   ]
  },
  {
   "cell_type": "markdown",
   "id": "30cfdec4-2f78-4782-a091-25867b645919",
   "metadata": {},
   "source": [
    "## Line Plot\n",
    "\n",
    "In the previous topic, we showed an example using `plt.plot() ` with NumPy array data. Matplotlib handles data structure either with NumPy or Pandas. The next example will consider Pandas.\n",
    "  * Consider the `flights` dataset"
   ]
  },
  {
   "cell_type": "code",
   "execution_count": 5,
   "id": "037a3cc1-1e5e-4502-979a-a457a128ce1b",
   "metadata": {},
   "outputs": [
    {
     "name": "stdout",
     "output_type": "stream",
     "text": [
      "(32, 5)\n"
     ]
    },
    {
     "data": {
      "text/html": [
       "<div>\n",
       "<style scoped>\n",
       "    .dataframe tbody tr th:only-of-type {\n",
       "        vertical-align: middle;\n",
       "    }\n",
       "\n",
       "    .dataframe tbody tr th {\n",
       "        vertical-align: top;\n",
       "    }\n",
       "\n",
       "    .dataframe thead th {\n",
       "        text-align: right;\n",
       "    }\n",
       "</style>\n",
       "<table border=\"1\" class=\"dataframe\">\n",
       "  <thead>\n",
       "    <tr style=\"text-align: right;\">\n",
       "      <th></th>\n",
       "      <th>Date</th>\n",
       "      <th>GDP (£ m)</th>\n",
       "      <th>CPI</th>\n",
       "      <th>Bank Rate</th>\n",
       "      <th>Gross Fixed Capital Formation (Investments)</th>\n",
       "    </tr>\n",
       "  </thead>\n",
       "  <tbody>\n",
       "    <tr>\n",
       "      <th>0</th>\n",
       "      <td>2000 Q1</td>\n",
       "      <td>401242</td>\n",
       "      <td>1.1</td>\n",
       "      <td>5.875</td>\n",
       "      <td>69114.0</td>\n",
       "    </tr>\n",
       "    <tr>\n",
       "      <th>1</th>\n",
       "      <td>2000 Q2</td>\n",
       "      <td>404196</td>\n",
       "      <td>1.0</td>\n",
       "      <td>6.000</td>\n",
       "      <td>73074.0</td>\n",
       "    </tr>\n",
       "    <tr>\n",
       "      <th>2</th>\n",
       "      <td>2000 Q3</td>\n",
       "      <td>406795</td>\n",
       "      <td>1.2</td>\n",
       "      <td>6.000</td>\n",
       "      <td>68011.0</td>\n",
       "    </tr>\n",
       "    <tr>\n",
       "      <th>3</th>\n",
       "      <td>2000 Q4</td>\n",
       "      <td>409411</td>\n",
       "      <td>1.4</td>\n",
       "      <td>6.000</td>\n",
       "      <td>70115.0</td>\n",
       "    </tr>\n",
       "    <tr>\n",
       "      <th>4</th>\n",
       "      <td>2001 Q1</td>\n",
       "      <td>413054</td>\n",
       "      <td>1.3</td>\n",
       "      <td>5.750</td>\n",
       "      <td>70186.0</td>\n",
       "    </tr>\n",
       "  </tbody>\n",
       "</table>\n",
       "</div>"
      ],
      "text/plain": [
       "      Date  GDP (£ m)  CPI  Bank Rate  \\\n",
       "0  2000 Q1     401242  1.1      5.875   \n",
       "1  2000 Q2     404196  1.0      6.000   \n",
       "2  2000 Q3     406795  1.2      6.000   \n",
       "3  2000 Q4     409411  1.4      6.000   \n",
       "4  2001 Q1     413054  1.3      5.750   \n",
       "\n",
       "   Gross Fixed Capital Formation (Investments)  \n",
       "0                                      69114.0  \n",
       "1                                      73074.0  \n",
       "2                                      68011.0  \n",
       "3                                      70115.0  \n",
       "4                                      70186.0  "
      ]
     },
     "execution_count": 5,
     "metadata": {},
     "output_type": "execute_result"
    }
   ],
   "source": [
    "df = pd.read_csv('UK_MacroData.csv').head(32)\n",
    "print(df.shape)\n",
    "df.head()"
   ]
  },
  {
   "cell_type": "code",
   "execution_count": 6,
   "id": "6a4aae94-1df0-4e0b-9c60-eae735d65bfe",
   "metadata": {},
   "outputs": [
    {
     "name": "stderr",
     "output_type": "stream",
     "text": [
      "/var/folders/2h/2zcs8h612kxcwf4_nb9dj5dm0000gn/T/ipykernel_31426/1902054566.py:3: UserWarning: Could not infer format, so each element will be parsed individually, falling back to `dateutil`. To ensure parsing is consistent and as-expected, please specify a format.\n",
      "  df['Date'] = pd.to_datetime(df['year'] + '-' + df['quarter'] )\n"
     ]
    },
    {
     "data": {
      "text/html": [
       "<div>\n",
       "<style scoped>\n",
       "    .dataframe tbody tr th:only-of-type {\n",
       "        vertical-align: middle;\n",
       "    }\n",
       "\n",
       "    .dataframe tbody tr th {\n",
       "        vertical-align: top;\n",
       "    }\n",
       "\n",
       "    .dataframe thead th {\n",
       "        text-align: right;\n",
       "    }\n",
       "</style>\n",
       "<table border=\"1\" class=\"dataframe\">\n",
       "  <thead>\n",
       "    <tr style=\"text-align: right;\">\n",
       "      <th></th>\n",
       "      <th>GDP (£ m)</th>\n",
       "      <th>CPI</th>\n",
       "      <th>Bank Rate</th>\n",
       "      <th>Gross Fixed Capital Formation (Investments)</th>\n",
       "      <th>year</th>\n",
       "      <th>quarter</th>\n",
       "    </tr>\n",
       "    <tr>\n",
       "      <th>Date</th>\n",
       "      <th></th>\n",
       "      <th></th>\n",
       "      <th></th>\n",
       "      <th></th>\n",
       "      <th></th>\n",
       "      <th></th>\n",
       "    </tr>\n",
       "  </thead>\n",
       "  <tbody>\n",
       "    <tr>\n",
       "      <th>2000-01-01</th>\n",
       "      <td>401242</td>\n",
       "      <td>1.1</td>\n",
       "      <td>5.875</td>\n",
       "      <td>69114.0</td>\n",
       "      <td>2000</td>\n",
       "      <td>Q1</td>\n",
       "    </tr>\n",
       "    <tr>\n",
       "      <th>2000-04-01</th>\n",
       "      <td>404196</td>\n",
       "      <td>1.0</td>\n",
       "      <td>6.000</td>\n",
       "      <td>73074.0</td>\n",
       "      <td>2000</td>\n",
       "      <td>Q2</td>\n",
       "    </tr>\n",
       "    <tr>\n",
       "      <th>2000-07-01</th>\n",
       "      <td>406795</td>\n",
       "      <td>1.2</td>\n",
       "      <td>6.000</td>\n",
       "      <td>68011.0</td>\n",
       "      <td>2000</td>\n",
       "      <td>Q3</td>\n",
       "    </tr>\n",
       "    <tr>\n",
       "      <th>2000-10-01</th>\n",
       "      <td>409411</td>\n",
       "      <td>1.4</td>\n",
       "      <td>6.000</td>\n",
       "      <td>70115.0</td>\n",
       "      <td>2000</td>\n",
       "      <td>Q4</td>\n",
       "    </tr>\n",
       "    <tr>\n",
       "      <th>2001-01-01</th>\n",
       "      <td>413054</td>\n",
       "      <td>1.3</td>\n",
       "      <td>5.750</td>\n",
       "      <td>70186.0</td>\n",
       "      <td>2001</td>\n",
       "      <td>Q1</td>\n",
       "    </tr>\n",
       "  </tbody>\n",
       "</table>\n",
       "</div>"
      ],
      "text/plain": [
       "            GDP (£ m)  CPI  Bank Rate  \\\n",
       "Date                                    \n",
       "2000-01-01     401242  1.1      5.875   \n",
       "2000-04-01     404196  1.0      6.000   \n",
       "2000-07-01     406795  1.2      6.000   \n",
       "2000-10-01     409411  1.4      6.000   \n",
       "2001-01-01     413054  1.3      5.750   \n",
       "\n",
       "            Gross Fixed Capital Formation (Investments)  year quarter  \n",
       "Date                                                                   \n",
       "2000-01-01                                      69114.0  2000      Q1  \n",
       "2000-04-01                                      73074.0  2000      Q2  \n",
       "2000-07-01                                      68011.0  2000      Q3  \n",
       "2000-10-01                                      70115.0  2000      Q4  \n",
       "2001-01-01                                      70186.0  2001      Q1  "
      ]
     },
     "execution_count": 6,
     "metadata": {},
     "output_type": "execute_result"
    }
   ],
   "source": [
    "df['year'] = df['Date'].str[:4]\n",
    "df['quarter'] = df['Date'].str[-2:]\n",
    "df['Date'] = pd.to_datetime(df['year'] + '-' + df['quarter'] )\n",
    "df.set_index('Date',inplace=True)\n",
    "df.head()"
   ]
  },
  {
   "cell_type": "markdown",
   "id": "5f72eae2-24ee-4751-8f7e-0e329b46d2c9",
   "metadata": {},
   "source": [
    "We plot the Investments' value. The x-axis, when not stated explicitly, is the index."
   ]
  },
  {
   "cell_type": "code",
   "execution_count": 8,
   "id": "bf2d6d16-1ef5-4327-8dd6-e3782af54b67",
   "metadata": {},
   "outputs": [
    {
     "data": {
      "image/png": "[encoded data removed]",
      "text/plain": [
       "<Figure size 640x480 with 1 Axes>"
      ]
     },
     "metadata": {},
     "output_type": "display_data"
    }
   ],
   "source": [
    "plt.plot(df['Gross Fixed Capital Formation (Investments)'])\n",
    "plt.show()"
   ]
  },
  {
   "cell_type": "markdown",
   "id": "4725badc-57e2-4fe4-b1eb-47a492377bf9",
   "metadata": {},
   "source": [
    "We plot the Investments' value. The x-axis, when not stated explicitly, is the index.\n",
    "\n",
    "Using `plt.plot()`, we subset both variables.\n",
    "  * In this case bracket notation was used, but you could use any approach you learned so far (like `.filter()`).\n",
    "  * Run this code and you will see GDP plotted on the same chart as the Investments data. "
   ]
  },
  {
   "cell_type": "code",
   "execution_count": 10,
   "id": "af55e63f-8719-4110-9e0a-291684e01dd3",
   "metadata": {},
   "outputs": [
    {
     "data": {
      "image/png": "[encoded data removed]",
      "text/plain": [
       "<Figure size 640x480 with 1 Axes>"
      ]
     },
     "metadata": {},
     "output_type": "display_data"
    }
   ],
   "source": [
    "plt.plot(df[['Gross Fixed Capital Formation (Investments)','GDP (£ m)']])\n",
    "plt.show()"
   ]
  },
  {
   "cell_type": "markdown",
   "id": "5d78bfb9-2aa1-425f-bb6d-d3c7935e3994",
   "metadata": {},
   "source": [
    "## Histograms\n",
    "\n",
    "We use `plt.hist()` to plot histograms in Matplotlib. The documentation can be found [here](https://matplotlib.org/stable/api/_as_gen/matplotlib.pyplot.hist.html)\n",
    "* A histogram is a bar graph where the bar height on the y-axis is a count of occurrences in the data of the classes on the horizontal axis. \n",
    "* Sometimes, the data is said to be ordered into buckets along the x-axis. \n",
    "* Let's consider the Online_Retail dataset. It has records of transactions made by customers through an online retail platform. The dataset includes data on the products that were purchased, the quantity of each product, the date and time of each transaction, the price of each product, the unique identifier for each customer who made a purchase, and the country where each customer is located."
   ]
  },
  {
   "cell_type": "code",
   "execution_count": 24,
   "id": "9ef4a3e0-5da9-431d-80bb-a3a634d4ed28",
   "metadata": {},
   "outputs": [
    {
     "ename": "UnicodeDecodeError",
     "evalue": "'utf-8' codec can't decode byte 0xa3 in position 79782: invalid start byte",
     "output_type": "error",
     "traceback": [
      "\u001b[0;31m---------------------------------------------------------------------------\u001b[0m",
      "\u001b[0;31mUnicodeDecodeError\u001b[0m                        Traceback (most recent call last)",
      "Cell \u001b[0;32mIn[24], line 1\u001b[0m\n\u001b[0;32m----> 1\u001b[0m df \u001b[38;5;241m=\u001b[39m pd\u001b[38;5;241m.\u001b[39mread_csv(\u001b[38;5;124m'\u001b[39m\u001b[38;5;124mOnlineRetail.csv\u001b[39m\u001b[38;5;124m'\u001b[39m)\n\u001b[1;32m      2\u001b[0m df \u001b[38;5;241m=\u001b[39m df\u001b[38;5;241m.\u001b[39msample(n\u001b[38;5;241m=\u001b[39m\u001b[38;5;241m50\u001b[39m, random_state\u001b[38;5;241m=\u001b[39m\u001b[38;5;241m9\u001b[39m)\n\u001b[1;32m      3\u001b[0m df\u001b[38;5;241m.\u001b[39mhead(\u001b[38;5;241m3\u001b[39m)\n",
      "File \u001b[0;32m/opt/anaconda3/lib/python3.12/site-packages/pandas/io/parsers/readers.py:1026\u001b[0m, in \u001b[0;36mread_csv\u001b[0;34m(filepath_or_buffer, sep, delimiter, header, names, index_col, usecols, dtype, engine, converters, true_values, false_values, skipinitialspace, skiprows, skipfooter, nrows, na_values, keep_default_na, na_filter, verbose, skip_blank_lines, parse_dates, infer_datetime_format, keep_date_col, date_parser, date_format, dayfirst, cache_dates, iterator, chunksize, compression, thousands, decimal, lineterminator, quotechar, quoting, doublequote, escapechar, comment, encoding, encoding_errors, dialect, on_bad_lines, delim_whitespace, low_memory, memory_map, float_precision, storage_options, dtype_backend)\u001b[0m\n\u001b[1;32m   1013\u001b[0m kwds_defaults \u001b[38;5;241m=\u001b[39m _refine_defaults_read(\n\u001b[1;32m   1014\u001b[0m     dialect,\n\u001b[1;32m   1015\u001b[0m     delimiter,\n\u001b[0;32m   (...)\u001b[0m\n\u001b[1;32m   1022\u001b[0m     dtype_backend\u001b[38;5;241m=\u001b[39mdtype_backend,\n\u001b[1;32m   1023\u001b[0m )\n\u001b[1;32m   1024\u001b[0m kwds\u001b[38;5;241m.\u001b[39mupdate(kwds_defaults)\n\u001b[0;32m-> 1026\u001b[0m \u001b[38;5;28;01mreturn\u001b[39;00m _read(filepath_or_buffer, kwds)\n",
      "File \u001b[0;32m/opt/anaconda3/lib/python3.12/site-packages/pandas/io/parsers/readers.py:626\u001b[0m, in \u001b[0;36m_read\u001b[0;34m(filepath_or_buffer, kwds)\u001b[0m\n\u001b[1;32m    623\u001b[0m     \u001b[38;5;28;01mreturn\u001b[39;00m parser\n\u001b[1;32m    625\u001b[0m \u001b[38;5;28;01mwith\u001b[39;00m parser:\n\u001b[0;32m--> 626\u001b[0m     \u001b[38;5;28;01mreturn\u001b[39;00m parser\u001b[38;5;241m.\u001b[39mread(nrows)\n",
      "File \u001b[0;32m/opt/anaconda3/lib/python3.12/site-packages/pandas/io/parsers/readers.py:1923\u001b[0m, in \u001b[0;36mTextFileReader.read\u001b[0;34m(self, nrows)\u001b[0m\n\u001b[1;32m   1916\u001b[0m nrows \u001b[38;5;241m=\u001b[39m validate_integer(\u001b[38;5;124m\"\u001b[39m\u001b[38;5;124mnrows\u001b[39m\u001b[38;5;124m\"\u001b[39m, nrows)\n\u001b[1;32m   1917\u001b[0m \u001b[38;5;28;01mtry\u001b[39;00m:\n\u001b[1;32m   1918\u001b[0m     \u001b[38;5;66;03m# error: \"ParserBase\" has no attribute \"read\"\u001b[39;00m\n\u001b[1;32m   1919\u001b[0m     (\n\u001b[1;32m   1920\u001b[0m         index,\n\u001b[1;32m   1921\u001b[0m         columns,\n\u001b[1;32m   1922\u001b[0m         col_dict,\n\u001b[0;32m-> 1923\u001b[0m     ) \u001b[38;5;241m=\u001b[39m \u001b[38;5;28mself\u001b[39m\u001b[38;5;241m.\u001b[39m_engine\u001b[38;5;241m.\u001b[39mread(  \u001b[38;5;66;03m# type: ignore[attr-defined]\u001b[39;00m\n\u001b[1;32m   1924\u001b[0m         nrows\n\u001b[1;32m   1925\u001b[0m     )\n\u001b[1;32m   1926\u001b[0m \u001b[38;5;28;01mexcept\u001b[39;00m \u001b[38;5;167;01mException\u001b[39;00m:\n\u001b[1;32m   1927\u001b[0m     \u001b[38;5;28mself\u001b[39m\u001b[38;5;241m.\u001b[39mclose()\n",
      "File \u001b[0;32m/opt/anaconda3/lib/python3.12/site-packages/pandas/io/parsers/c_parser_wrapper.py:234\u001b[0m, in \u001b[0;36mCParserWrapper.read\u001b[0;34m(self, nrows)\u001b[0m\n\u001b[1;32m    232\u001b[0m \u001b[38;5;28;01mtry\u001b[39;00m:\n\u001b[1;32m    233\u001b[0m     \u001b[38;5;28;01mif\u001b[39;00m \u001b[38;5;28mself\u001b[39m\u001b[38;5;241m.\u001b[39mlow_memory:\n\u001b[0;32m--> 234\u001b[0m         chunks \u001b[38;5;241m=\u001b[39m \u001b[38;5;28mself\u001b[39m\u001b[38;5;241m.\u001b[39m_reader\u001b[38;5;241m.\u001b[39mread_low_memory(nrows)\n\u001b[1;32m    235\u001b[0m         \u001b[38;5;66;03m# destructive to chunks\u001b[39;00m\n\u001b[1;32m    236\u001b[0m         data \u001b[38;5;241m=\u001b[39m _concatenate_chunks(chunks)\n",
      "File \u001b[0;32mparsers.pyx:838\u001b[0m, in \u001b[0;36mpandas._libs.parsers.TextReader.read_low_memory\u001b[0;34m()\u001b[0m\n",
      "File \u001b[0;32mparsers.pyx:905\u001b[0m, in \u001b[0;36mpandas._libs.parsers.TextReader._read_rows\u001b[0;34m()\u001b[0m\n",
      "File \u001b[0;32mparsers.pyx:874\u001b[0m, in \u001b[0;36mpandas._libs.parsers.TextReader._tokenize_rows\u001b[0;34m()\u001b[0m\n",
      "File \u001b[0;32mparsers.pyx:891\u001b[0m, in \u001b[0;36mpandas._libs.parsers.TextReader._check_tokenize_status\u001b[0;34m()\u001b[0m\n",
      "File \u001b[0;32mparsers.pyx:2053\u001b[0m, in \u001b[0;36mpandas._libs.parsers.raise_parser_error\u001b[0;34m()\u001b[0m\n",
      "File \u001b[0;32m<frozen codecs>:322\u001b[0m, in \u001b[0;36mdecode\u001b[0;34m(self, input, final)\u001b[0m\n",
      "\u001b[0;31mUnicodeDecodeError\u001b[0m: 'utf-8' codec can't decode byte 0xa3 in position 79782: invalid start byte"
     ]
    }
   ],
   "source": [
    "df = pd.read_csv('OnlineRetail.csv')\n",
    "df = df.sample(n=50, random_state=9)\n",
    "df.head(3)"
   ]
  },
  {
   "cell_type": "markdown",
   "id": "7798c5db-c782-47a6-afda-e674855d62ce",
   "metadata": {},
   "source": [
    "* In `plt.hist()` you will parse the following arguments:\n",
    "  * `data`, which is, in this case, the DataFrame. It could be your array\n",
    "  * `x`, which is the variable\n",
    "  * `bins`, which are the buckets where your data will be grouped"
   ]
  },
  {
   "cell_type": "code",
   "execution_count": 65,
   "id": "27bf045d-cbe2-41f0-80f4-bc242fbe8ba7",
   "metadata": {},
   "outputs": [
    {
     "data": {
      "image/png": "[encoded data removed]",
      "text/plain": [
       "<Figure size 1000x500 with 2 Axes>"
      ]
     },
     "metadata": {},
     "output_type": "display_data"
    }
   ],
   "source": [
    "fig, axes = plt.subplots(nrows=1,ncols=2,figsize=(10,5))\n",
    "axes[0].hist(data=df, x='Quantity')\n",
    "axes[1].hist(data=df, x='UnitPrice', bins=50)\n",
    "plt.show()"
   ]
  },
  {
   "cell_type": "markdown",
   "id": "c293601a-18fb-4bf0-b23e-5db53f21f930",
   "metadata": {},
   "source": [
    "From this plot, you can easily see the most commonly occurring `UnitPrice` for these sale transactions. The UnitPrice values have been bucketed into fifty bins. \n",
    "In a case where you want to plot multiple variables within a Matplotlib histogram, you can loop over your variables using `plt.hist()`\n",
    "* Then you add `plt.legend()`, so a legend is added to the Figure. The function documentation is found [here](https://matplotlib.org/stable/api/_as_gen/matplotlib.pyplot.legend.html)\n",
    "* Finally, you plot the Figure with `plt.show()`"
   ]
  },
  {
   "cell_type": "code",
   "execution_count": 41,
   "id": "9de8d847-abea-4b81-ae31-1fdfa11777c4",
   "metadata": {},
   "outputs": [
    {
     "data": {
      "image/png": "[encoded data removed]",
      "text/plain": [
       "<Figure size 640x480 with 1 Axes>"
      ]
     },
     "metadata": {},
     "output_type": "display_data"
    }
   ],
   "source": [
    "for col in ['Quantity','UnitPrice']:\n",
    "  plt.hist(data=df,x=col,label=col)\n",
    "plt.legend()\n",
    "plt.show()"
   ]
  },
  {
   "cell_type": "markdown",
   "id": "6010199f-186d-4466-9a06-2ff6590064ae",
   "metadata": {},
   "source": [
    "## Box Plot\n",
    "\n",
    "A boxplot is a useful chart to show the distribution or spread of data visually. It is sometimes known as a box and whisker plot. The box extends from the first to the third quartile with the centre line showing the median. The whiskers' overall length is 1.5 times longer than the box. The circles show any data outside the whiskers and are called fliers or outliers. Do not worry about what any of these terms mean as you will learn about statistics in an upcoming lesson."
   ]
  },
  {
   "cell_type": "code",
   "execution_count": null,
   "id": "17b0b4c6-bd67-4f23-9817-97a1c25a6b3d",
   "metadata": {},
   "outputs": [],
   "source": [
    "df = pd.read_csv('Online_Retail.csv')\n",
    "df = df.sample(n=50, random_state=9)\n",
    "df.head(3)"
   ]
  },
  {
   "cell_type": "markdown",
   "id": "ea271997-b261-4800-b118-5f7a98b01a67",
   "metadata": {},
   "source": [
    "We will use `plt.boxplot()`. The documentation can be found [here](https://matplotlib.org/stable/api/_as_gen/matplotlib.pyplot.boxplot.html)\n",
    "* The arguments are data, where you parse the dataset, and x, where you inform the variable you want the boxplot."
   ]
  },
  {
   "cell_type": "code",
   "execution_count": null,
   "id": "ed3e6d2c-1820-458e-9fb2-5fcc2045603b",
   "metadata": {},
   "outputs": [],
   "source": [
    "plt.boxplot(data=df,x='UnitPrice')\n",
    "plt.show()"
   ]
  },
  {
   "cell_type": "markdown",
   "id": "57f1cf6a-61f4-4d6c-82ec-f81c370f8260",
   "metadata": {},
   "source": [
    "You can use `plt.xticks()` to set the ticks on the x-axis. The documentation is found [here](https://matplotlib.org/stable/api/_as_gen/matplotlib.pyplot.xticks.html)\n",
    "* In the cell below, we are plotting multiple variables; we set them in a list col_boxplot.\n",
    "* In a loop, we append the content of each variable to another list. This list will be used to plot the data in a boxplot.\n",
    "* Finally we set the variables name in the x axis with `plt.xticks()` "
   ]
  },
  {
   "cell_type": "code",
   "execution_count": null,
   "id": "f707b46c-01c9-4769-b131-cd1117c4b3a4",
   "metadata": {},
   "outputs": [],
   "source": [
    "list_of_data = []\n",
    "col_boxplot = ['Quantity','UnitPrice']\n",
    "for col in col_boxplot:\n",
    "  list_of_data.append(df[col])\n",
    "\n",
    "plt.boxplot(x=list_of_data)\n",
    "plt.xticks(np.arange(1,len(col_boxplot)+1), col_boxplot)\n",
    "plt.show()"
   ]
  },
  {
   "cell_type": "markdown",
   "id": "78aa4477-1444-4726-8e39-f749c88d6667",
   "metadata": {},
   "source": [
    "At first, this code may look too difficult to plot a boxplot using multiple variables. And you are right; there are alternative ways to do this task. The idea here is to present the numerous existing alternatives when deciding to pick your tool for a particular use case in the workplace.\n",
    "\n",
    " What the above plot tells us about the Online_Retail transactions data is that UnitPrice is tightly distributed about the 0-10 range, but Quantity varies a lot and is skewed towards the high end of its distribution. "
   ]
  },
  {
   "cell_type": "markdown",
   "id": "5ffc9e67-3ede-42f3-872d-b5172e965cc6",
   "metadata": {},
   "source": [
    "## Scatter Plot\n",
    "\n",
    "A scatter plot is one that uses dots to plot two different numeric variables. They are useful to see if there is a relationship between two variables. In the above plot, you can see that a transaction with a higher price tends to be smaller in terms of quantity."
   ]
  },
  {
   "cell_type": "code",
   "execution_count": null,
   "id": "52af47e9-1ded-4d2c-9cae-1ab29b068167",
   "metadata": {},
   "outputs": [],
   "source": [
    "df = pd.read_csv('Online_Retail.csv')\n",
    "df = df.sample(n=50, random_state=9)\n",
    "df.head()"
   ]
  },
  {
   "cell_type": "markdown",
   "id": "2cdf05e4-8812-47e3-ac98-fa793f202895",
   "metadata": {},
   "source": [
    "We use `plt.scatter()` to plot a scatter plot in Matplotlib. The documentation is found [here](https://matplotlib.org/stable/api/_as_gen/matplotlib.pyplot.scatter.html)\n",
    "\n",
    "Let's plot a scattor plot setting `kind='scatter'`, `x='UnitPrice'` and `y='Quantity'`"
   ]
  },
  {
   "cell_type": "code",
   "execution_count": null,
   "id": "fd72a644-7ada-4e22-b261-4c4dfdf44513",
   "metadata": {},
   "outputs": [],
   "source": [
    "x, y = 'UnitPrice' , 'Quantity'\n",
    "plt.scatter(data=df, x=x, y=y)\n",
    "plt.ylabel(y)\n",
    "plt.xlabel(x)\n",
    "plt.show()"
   ]
  },
  {
   "cell_type": "markdown",
   "id": "1b62826f-e535-4ffa-b9d6-53f2c31513cc",
   "metadata": {},
   "source": [
    "You can add the parameter **`c`**, for **colouring** the plot based on another variable. The colourmap options are found [here](https://matplotlib.org/stable/tutorials/colors/colormaps.html). In this case, we set `c='Quantity'`"
   ]
  },
  {
   "cell_type": "code",
   "execution_count": null,
   "id": "6225345a-2b44-4347-a206-9fa8700cdaf0",
   "metadata": {},
   "outputs": [],
   "source": [
    "x, y = 'UnitPrice' , 'Quantity'\n",
    "plt.scatter(data=df, x=x, y=y, c=y)\n",
    "plt.ylabel(y)\n",
    "plt.xlabel(x)\n",
    "plt.show()"
   ]
  },
  {
   "cell_type": "markdown",
   "id": "8a051d69-62f1-44aa-8465-bb0ab717420c",
   "metadata": {},
   "source": [
    "Noe we added the parameter **`s`**, for **size**. The dots' size will be defined according to `Quantity` levels."
   ]
  },
  {
   "cell_type": "code",
   "execution_count": null,
   "id": "7e708afe-6ea0-4900-a4a4-d30da619630a",
   "metadata": {},
   "outputs": [],
   "source": [
    "x, y = 'UnitPrice' , 'Quantity'\n",
    "plt.scatter(data=df, x=x, y=y, c=y, s=y)\n",
    "plt.ylabel(y)\n",
    "plt.xlabel(x)\n",
    "plt.show()"
   ]
  },
  {
   "cell_type": "markdown",
   "id": "854bf81e-ee8d-4a5c-8a03-d451862665ce",
   "metadata": {},
   "source": [
    "You can rescale the dot's size. If you parse `s=y*10`, the code will not work, since it is a string (y) multiplied by a number. In this case, you should parse the array df[y], then multiply by a number for scaling. (In case of huge dot size we can use dividing operation for scaling)."
   ]
  },
  {
   "cell_type": "code",
   "execution_count": null,
   "id": "c69ce230-3e1b-452e-9d5d-479205f6541b",
   "metadata": {},
   "outputs": [],
   "source": [
    "x, y = 'UnitPrice' , 'Quantity'\n",
    "plt.scatter(data=df, x=x, y=y, c=y, s=df[y]*10)\n",
    "plt.ylabel(y)\n",
    "plt.xlabel(x)\n",
    "plt.show()"
   ]
  },
  {
   "cell_type": "code",
   "execution_count": 61,
   "id": "ba77c75d-258b-4533-89be-1447e9ecf9ef",
   "metadata": {},
   "outputs": [
    {
     "data": {
      "text/html": [
       "<div>\n",
       "<style scoped>\n",
       "    .dataframe tbody tr th:only-of-type {\n",
       "        vertical-align: middle;\n",
       "    }\n",
       "\n",
       "    .dataframe tbody tr th {\n",
       "        vertical-align: top;\n",
       "    }\n",
       "\n",
       "    .dataframe thead th {\n",
       "        text-align: right;\n",
       "    }\n",
       "</style>\n",
       "<table border=\"1\" class=\"dataframe\">\n",
       "  <thead>\n",
       "    <tr style=\"text-align: right;\">\n",
       "      <th></th>\n",
       "      <th>total_bill</th>\n",
       "      <th>tip</th>\n",
       "      <th>sex</th>\n",
       "      <th>smoker</th>\n",
       "      <th>day</th>\n",
       "      <th>time</th>\n",
       "      <th>size</th>\n",
       "    </tr>\n",
       "  </thead>\n",
       "  <tbody>\n",
       "    <tr>\n",
       "      <th>67</th>\n",
       "      <td>3.07</td>\n",
       "      <td>1.00</td>\n",
       "      <td>Female</td>\n",
       "      <td>Yes</td>\n",
       "      <td>Sat</td>\n",
       "      <td>Dinner</td>\n",
       "      <td>1</td>\n",
       "    </tr>\n",
       "    <tr>\n",
       "      <th>243</th>\n",
       "      <td>18.78</td>\n",
       "      <td>3.00</td>\n",
       "      <td>Female</td>\n",
       "      <td>No</td>\n",
       "      <td>Thur</td>\n",
       "      <td>Dinner</td>\n",
       "      <td>2</td>\n",
       "    </tr>\n",
       "    <tr>\n",
       "      <th>206</th>\n",
       "      <td>26.59</td>\n",
       "      <td>3.41</td>\n",
       "      <td>Male</td>\n",
       "      <td>Yes</td>\n",
       "      <td>Sat</td>\n",
       "      <td>Dinner</td>\n",
       "      <td>3</td>\n",
       "    </tr>\n",
       "    <tr>\n",
       "      <th>122</th>\n",
       "      <td>14.26</td>\n",
       "      <td>2.50</td>\n",
       "      <td>Male</td>\n",
       "      <td>No</td>\n",
       "      <td>Thur</td>\n",
       "      <td>Lunch</td>\n",
       "      <td>2</td>\n",
       "    </tr>\n",
       "    <tr>\n",
       "      <th>89</th>\n",
       "      <td>21.16</td>\n",
       "      <td>3.00</td>\n",
       "      <td>Male</td>\n",
       "      <td>No</td>\n",
       "      <td>Thur</td>\n",
       "      <td>Lunch</td>\n",
       "      <td>2</td>\n",
       "    </tr>\n",
       "    <tr>\n",
       "      <th>218</th>\n",
       "      <td>7.74</td>\n",
       "      <td>1.44</td>\n",
       "      <td>Male</td>\n",
       "      <td>Yes</td>\n",
       "      <td>Sat</td>\n",
       "      <td>Dinner</td>\n",
       "      <td>2</td>\n",
       "    </tr>\n",
       "    <tr>\n",
       "      <th>58</th>\n",
       "      <td>11.24</td>\n",
       "      <td>1.76</td>\n",
       "      <td>Male</td>\n",
       "      <td>Yes</td>\n",
       "      <td>Sat</td>\n",
       "      <td>Dinner</td>\n",
       "      <td>2</td>\n",
       "    </tr>\n",
       "    <tr>\n",
       "      <th>186</th>\n",
       "      <td>20.90</td>\n",
       "      <td>3.50</td>\n",
       "      <td>Female</td>\n",
       "      <td>Yes</td>\n",
       "      <td>Sun</td>\n",
       "      <td>Dinner</td>\n",
       "      <td>3</td>\n",
       "    </tr>\n",
       "    <tr>\n",
       "      <th>177</th>\n",
       "      <td>14.48</td>\n",
       "      <td>2.00</td>\n",
       "      <td>Male</td>\n",
       "      <td>Yes</td>\n",
       "      <td>Sun</td>\n",
       "      <td>Dinner</td>\n",
       "      <td>2</td>\n",
       "    </tr>\n",
       "    <tr>\n",
       "      <th>4</th>\n",
       "      <td>24.59</td>\n",
       "      <td>3.61</td>\n",
       "      <td>Female</td>\n",
       "      <td>No</td>\n",
       "      <td>Sun</td>\n",
       "      <td>Dinner</td>\n",
       "      <td>4</td>\n",
       "    </tr>\n",
       "  </tbody>\n",
       "</table>\n",
       "</div>"
      ],
      "text/plain": [
       "     total_bill   tip     sex smoker   day    time  size\n",
       "67         3.07  1.00  Female    Yes   Sat  Dinner     1\n",
       "243       18.78  3.00  Female     No  Thur  Dinner     2\n",
       "206       26.59  3.41    Male    Yes   Sat  Dinner     3\n",
       "122       14.26  2.50    Male     No  Thur   Lunch     2\n",
       "89        21.16  3.00    Male     No  Thur   Lunch     2\n",
       "218        7.74  1.44    Male    Yes   Sat  Dinner     2\n",
       "58        11.24  1.76    Male    Yes   Sat  Dinner     2\n",
       "186       20.90  3.50  Female    Yes   Sun  Dinner     3\n",
       "177       14.48  2.00    Male    Yes   Sun  Dinner     2\n",
       "4         24.59  3.61  Female     No   Sun  Dinner     4"
      ]
     },
     "execution_count": 61,
     "metadata": {},
     "output_type": "execute_result"
    }
   ],
   "source": [
    "df_practice = sns.load_dataset('tips')\n",
    "df_practice = df_practice.sample(n=50, random_state=1)\n",
    "df_practice.head(10)"
   ]
  },
  {
   "cell_type": "code",
   "execution_count": 63,
   "id": "651919b3-5c4c-4225-811d-dc89ad07946c",
   "metadata": {},
   "outputs": [
    {
     "data": {
      "text/plain": [
       "Text(0.5, 0, 'total_bill')"
      ]
     },
     "execution_count": 63,
     "metadata": {},
     "output_type": "execute_result"
    },
    {
     "data": {
      "image/png": "[encoded data removed]",
      "text/plain": [
       "<Figure size 640x480 with 2 Axes>"
      ]
     },
     "metadata": {},
     "output_type": "display_data"
    }
   ],
   "source": [
    "x, y = 'total_bill','tip'\n",
    "plt.scatter (data=df_practice, x=x, y=y, c=y, s=x)\n",
    "plt.colorbar()\n",
    "plt.ylabel(y)\n",
    "plt.xlabel(x)"
   ]
  },
  {
   "cell_type": "code",
   "execution_count": 67,
   "id": "d0e25176-35b9-4c8d-b17d-cf76afde249a",
   "metadata": {},
   "outputs": [
    {
     "data": {
      "image/png": "[encoded data removed]",
      "text/plain": [
       "<Figure size 640x480 with 1 Axes>"
      ]
     },
     "metadata": {},
     "output_type": "display_data"
    }
   ],
   "source": [
    "for col in ['total_bill','tip']:\n",
    "    plt.hist(data=df_practice, x=col, label=col, bins=10)\n",
    "plt.legend()\n",
    "plt.show()"
   ]
  },
  {
   "cell_type": "code",
   "execution_count": null,
   "id": "15399fe8-a5c9-42a8-9152-10d2fc5abad6",
   "metadata": {},
   "outputs": [],
   "source": []
  }
 ],
 "metadata": {
  "kernelspec": {
   "display_name": "Python [conda env:base] *",
   "language": "python",
   "name": "conda-base-py"
  },
  "language_info": {
   "codemirror_mode": {
    "name": "ipython",
    "version": 3
   },
   "file_extension": ".py",
   "mimetype": "text/x-python",
   "name": "python",
   "nbconvert_exporter": "python",
   "pygments_lexer": "ipython3",
   "version": "3.12.7"
  }
 },
 "nbformat": 4,
 "nbformat_minor": 5
}
