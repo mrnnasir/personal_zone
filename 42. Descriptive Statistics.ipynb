{
 "cells": [
  {
   "attachments": {},
   "cell_type": "markdown",
   "id": "7e8a2687-82d5-45b5-a8ee-5f4806b6008a",
   "metadata": {},
   "source": [
    "* **Descriptive statistics Lesson consists of four topics.**\n",
    "* By the end of this lesson, you should be able to:\n",
    "  * Describe the concepts around descriptive statistics, including outliers\n",
    "  * Identify the concepts of Central tendency and Variability\n",
    "  * Visualise your data to understand better Descriptive Statistics in Numerical and Categorical Data"
   ]
  },
  {
   "cell_type": "markdown",
   "id": "4c2a3e5b-2dcd-464d-9a30-c7449542cbff",
   "metadata": {},
   "source": [
    "### Topic Objectives\n",
    "\n",
    "We will mainly use Pandas for this lesson. We will use Pingouin (an open-source statistical package based mostly on Pandas and NumPy) for Q-Q plots(quantile–quantile plots).\n",
    "\n",
    "* Descriptive statistics provide a simple **summary** of the sample. It can be either quantitative or visual. \n",
    "  *  It provides the basis for analysis and enables additional and more extensive investigations.\n",
    "\n",
    "**Why do we study Descriptive statistics?**\n",
    "* Because Data Analytics is based on statistical models, so understanding your data profile is critical to select the appropriate test that best fits your data."
   ]
  },
  {
   "cell_type": "markdown",
   "id": "0b4ad4eb-0f38-4d92-98dc-5189ebc9e44d",
   "metadata": {},
   "source": [
    "### Additional Context for Learning\n",
    "\n",
    "* We encourage you to:\n",
    "  * Add **code cells and try out** other techniques, play around with parameter values in a function/method, or consider additional function parameters etc.\n",
    "  * Also, **add your own comments** to the cells. It can help you to consolidate your learning. \n",
    "\n",
    "\n",
    "* Parameters within given function/method\n",
    "  * A given function in a package may contain multiple parameters. \n",
    "  * Some of them are mandatory to declare, some have pre-defined values, and some are optional. We will cover the most common parameters used/employed in Data Analytics for a particular function/method. \n",
    "  * However, you should view the respective package documentation, where you will find instructions on how to use a given function/method. The studied packages are open source, so this documentation is public.\n",
    "  * **For Pandas, the link is [here](https://pandas.pydata.org/)**"
   ]
  },
  {
   "cell_type": "markdown",
   "id": "da3bf7d3-000e-4fc1-9865-63eab6e96f69",
   "metadata": {},
   "source": [
    "### Descriptive Statistics Overview\n",
    "\n",
    "* Distribution\n",
    "* Data type\n",
    "* Descriptive Statistics\n",
    "* Population and sample\n",
    "* Outlier"
   ]
  },
  {
   "cell_type": "markdown",
   "id": "380d0d02-be22-4e6a-bc2f-909b8eb8c529",
   "metadata": {},
   "source": [
    "### Distribution\n",
    "\n",
    "Let’s start by understanding what exactly distribution means. The term “distribution ” in data analytics or statistics usually means a probability distribution. You can think of a distribution as the spread of the values across a range.\n",
    "\n",
    "Distribution is simply a function that provides the possible value of a variable and how often they occur. A probability distribution is a mathematical function that provides the possibilities of occurrence of various outcomes that can occur in an experiment."
   ]
  },
  {
   "cell_type": "code",
   "execution_count": 6,
   "id": "c72f78eb-8a4f-4ef4-ace0-b0781f78bfad",
   "metadata": {},
   "outputs": [
    {
     "data": {
      "text/html": [
       "<div>\n",
       "<style scoped>\n",
       "    .dataframe tbody tr th:only-of-type {\n",
       "        vertical-align: middle;\n",
       "    }\n",
       "\n",
       "    .dataframe tbody tr th {\n",
       "        vertical-align: top;\n",
       "    }\n",
       "\n",
       "    .dataframe thead th {\n",
       "        text-align: right;\n",
       "    }\n",
       "</style>\n",
       "<table border=\"1\" class=\"dataframe\">\n",
       "  <thead>\n",
       "    <tr style=\"text-align: right;\">\n",
       "      <th></th>\n",
       "      <th>A</th>\n",
       "      <th>B</th>\n",
       "    </tr>\n",
       "  </thead>\n",
       "  <tbody>\n",
       "    <tr>\n",
       "      <th>0</th>\n",
       "      <td>1</td>\n",
       "      <td>5</td>\n",
       "    </tr>\n",
       "    <tr>\n",
       "      <th>1</th>\n",
       "      <td>5</td>\n",
       "      <td>8</td>\n",
       "    </tr>\n",
       "    <tr>\n",
       "      <th>2</th>\n",
       "      <td>3</td>\n",
       "      <td>6</td>\n",
       "    </tr>\n",
       "    <tr>\n",
       "      <th>3</th>\n",
       "      <td>4</td>\n",
       "      <td>5</td>\n",
       "    </tr>\n",
       "    <tr>\n",
       "      <th>4</th>\n",
       "      <td>2</td>\n",
       "      <td>7</td>\n",
       "    </tr>\n",
       "  </tbody>\n",
       "</table>\n",
       "</div>"
      ],
      "text/plain": [
       "   A  B\n",
       "0  1  5\n",
       "1  5  8\n",
       "2  3  6\n",
       "3  4  5\n",
       "4  2  7"
      ]
     },
     "execution_count": 6,
     "metadata": {},
     "output_type": "execute_result"
    },
    {
     "data": {
      "image/png": "[encoded data removed]",
      "text/plain": [
       "<Figure size 640x480 with 1 Axes>"
      ]
     },
     "metadata": {},
     "output_type": "display_data"
    }
   ],
   "source": [
    "import pandas as pd\n",
    "import numpy as np\n",
    "\n",
    "# Create a DataFrame with column A of random integers\n",
    "df = pd.DataFrame(np.random.randint(1, 7, 6000), columns=['A'])\n",
    "\n",
    "# Add a column B to the DataFrame\n",
    "df['B'] = df['A'] + np.random.randint(1, 7, 6000)\n",
    "\n",
    "#Plot a histogram of the frequency of each integer in columns A and B\n",
    "ax = df.plot.hist(bins=12, alpha=0.5)\n",
    "df.head()"
   ]
  },
  {
   "cell_type": "markdown",
   "id": "79f8442b-ed50-4ded-a293-ea3470753ec0",
   "metadata": {},
   "source": [
    "### Data Type\n",
    "\n",
    "A variable is any characteristic, behaviour, category, or number that can be measured or counted. Here are the types we are most interested in this lesson\n",
    "* Numerical\n",
    "* Categorical"
   ]
  },
  {
   "cell_type": "markdown",
   "id": "845c1399-5b78-48df-9a78-5f482de9f1ea",
   "metadata": {},
   "source": [
    "#### Numerical\n",
    "\n",
    "Numerical variables where values are numbers can be discrete or continuous. The difference between these relies on the following:\n",
    "* A continuous variable may contain any value in a range. For example, how much you spent in the market this week, the price of your mobile phone or the time, in seconds, you spent today in this lesson. These values can be a fraction; you may have spent 52.34 euros this week in the market.\n",
    "* Discrete means that there are only particular valid values, for example:\n",
    " - Number of times you went to the market this week (in this case, the values are not fractions)\n",
    " - Shoe size, like 6, 6.5, 7, 7.5, 8, 8.5 (note the values are fractions, but the values are not in a continuous range, only particular values are allowed)"
   ]
  },
  {
   "cell_type": "markdown",
   "id": "345a08cc-09b3-4a30-bd9e-f80ec8f6e9ec",
   "metadata": {},
   "source": [
    "#### Categorical\n",
    "\n",
    "Categorical variables are selected from a group of labels. For example, a coin toss can be heads or tails. Marital status can be single, married, divorced or other. Colour can be yellow, red, purple or blue.\n",
    "* The cardinality is the number of different labels it can have. In our previous examples, a coin toss had two, marital status four, and colour four.\n",
    "\n",
    "They can be broken down into **ordinal** or **nominal**.\n",
    "* An ordinal variable can be related to an order, like days of the week or student grade (fail, pass, pass with honours). \n",
    "* On the other hand, nominal variables don’t relate to a specific order, like preferred colour: which can be either blue, green, or yellow, and in this case, there is no specific order or rank.\n",
    "\n",
    "In your career, you might be in a situation where a categorical variable will be encoded as a number. For example, a test result can be encoded as 0 for fail and 1 for pass. \n",
    "* The data practitioner should consider the context and realise that, in this case, it is not a discrete variable but a categorical variable that was encoded\n",
    "* The other edge case is for IDs. Typically when you subscribe to a service, say a mobile phone, the company may generate a unique ID for you. This ID may be a set of numbers, but that doesn’t mean it makes sense to perform calculations with it. It is better framed as a categorical variable"
   ]
  },
  {
   "cell_type": "code",
   "execution_count": 18,
   "id": "2b5be13a-22cc-45e1-b237-865704b2cd65",
   "metadata": {},
   "outputs": [
    {
     "data": {
      "text/plain": [
       "Price                                     float64\n",
       "Number of times you went to the market      int64\n",
       "Colour                                     object\n",
       "dtype: object"
      ]
     },
     "execution_count": 18,
     "metadata": {},
     "output_type": "execute_result"
    }
   ],
   "source": [
    "df = pd.DataFrame({'Price': [52.34],\n",
    "                   'Number of times you went to the market': [1],\n",
    "                   'Colour': ['red']})\n",
    "df.dtypes"
   ]
  },
  {
   "cell_type": "markdown",
   "id": "0f270658-8591-414c-901c-a200ef0e37a9",
   "metadata": {},
   "source": [
    "### Descriptive statistics\n",
    "\n",
    "Descriptive statistics is about describing and summarising the data:\n",
    "  * via a **quantitative approach** (numerical summary) and \n",
    "  * using a **graphical representation** (plots).\n",
    "\n",
    "We are interested in **summarising the dataset's variables**. \n",
    "  * If you describe one variable, that is univariate analysis.\n",
    "  * If you study two variables at once, bivariate. \n",
    "  * If you study more than 2, multivariate.\n",
    "\n",
    "We typically break down descriptive statistics into two major studies:\n",
    "  * **Central tendency**\n",
    "  * **Variability** "
   ]
  },
  {
   "cell_type": "markdown",
   "id": "c132d68a-c89c-4999-b97b-0779c4dc7bc8",
   "metadata": {},
   "source": [
    "### Population and Sample\n",
    "\n",
    "We should be aware of the **population and sample** concept when analysing data.\n",
    "  * Population is all existing elements from that particular variable. In practical terms, a population has many elements, making it hard to collect all. \n",
    "    * Imagine if you want to collect people's preferences on pizza, hot dogs or barbecue in your country. That will likely be a lot of people. Collecting data from a lot of people means a lot of energy, time and money.\n",
    "  * On the other hand, a sample is a part of a population, which ideally preserves the statistical characteristics if the sample size is statistically significant. That allows us to draw inferences about the population based on relevant samples. The larger the sample, the smaller the error when compared to the whole population."
   ]
  },
  {
   "cell_type": "markdown",
   "id": "bf587b93-9c2a-4484-a0d6-cf72a56d0ced",
   "metadata": {},
   "source": [
    "### Outliers\n",
    "\n",
    "In the workplace, you will face outliers, data points that differ from most of the data.\n",
    "\n",
    "* To understand outliers, we would have to come back to the data collection moment and make sense of its context and conditions. Maybe an error occured for that given data point. Maybe that data point is the first observation of new behaviour. However, sometimes it is difficult to observe the data collection moment.\n",
    "\n",
    "* There may be multiple reasons for outliers, like a new natural behaviour of the data, an error in the data collection process,  human error or bias, equipment not being calibrated etc.\n",
    "\n",
    "* There is a separate section in this lesson to make sense of outliers. A future lesson will dive further into handling outliers. For now, Just remember that outliers can exist."
   ]
  },
  {
   "cell_type": "code",
   "execution_count": null,
   "id": "923090db-b142-4f7d-88ae-bf7d02775d72",
   "metadata": {},
   "outputs": [],
   "source": []
  }
 ],
 "metadata": {
  "kernelspec": {
   "display_name": "Python [conda env:base] *",
   "language": "python",
   "name": "conda-base-py"
  },
  "language_info": {
   "codemirror_mode": {
    "name": "ipython",
    "version": 3
   },
   "file_extension": ".py",
   "mimetype": "text/x-python",
   "name": "python",
   "nbconvert_exporter": "python",
   "pygments_lexer": "ipython3",
   "version": "3.12.7"
  }
 },
 "nbformat": 4,
 "nbformat_minor": 5
}
