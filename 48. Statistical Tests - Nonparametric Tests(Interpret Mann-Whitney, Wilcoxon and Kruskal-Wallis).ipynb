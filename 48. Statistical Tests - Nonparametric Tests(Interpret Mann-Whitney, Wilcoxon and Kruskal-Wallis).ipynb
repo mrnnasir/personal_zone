{
 "cells": [
  {
   "cell_type": "code",
   "execution_count": 1,
   "id": "5027c507-893b-40e8-8739-7162e306dce2",
   "metadata": {},
   "outputs": [],
   "source": [
    "import numpy as np\n",
    "import pandas as pd\n",
    "import matplotlib.pyplot as plt\n",
    "import seaborn as sns\n",
    "sns.set_style('whitegrid')\n",
    "import pingouin as pg\n",
    "import scipy"
   ]
  },
  {
   "cell_type": "markdown",
   "id": "20ee3e86-4a2f-4aff-bce9-7d9ba47f1478",
   "metadata": {},
   "source": [
    "There are parametric and nonparametric statistical tests.\n",
    "* Depending on the normality of your data (meaning if it is a normal distribution or not), you may use a parametric test or a nonparametric test\n",
    "\n",
    "  * If it is normally distributed, we use a parametric test.\n",
    "  * If it is not, we use a nonparametric test.\n",
    "\n",
    "**In this topic, we will cover nonparametric tests**"
   ]
  },
  {
   "cell_type": "markdown",
   "id": "a414b8df-0781-4e8c-8a74-13b02ea3c052",
   "metadata": {},
   "source": [
    "### Mann-Whitney U Test\n",
    "\n",
    "A Mann-Whitney U Test is a nonparametric test used to determine if there are differences between two groups where at least one group is not normally distributed.\n",
    "* The samples should be independent (or unpaired).\n",
    "* It is a nonparametric version of the independent t-test we saw in the previous unit\n",
    "\n",
    "Let's consider a DataFrame that has Col1 and Col2 columns generated with a NumPy function to create data that is not normally distributed"
   ]
  },
  {
   "cell_type": "code",
   "execution_count": 5,
   "id": "36dca9e6-bff1-4e9c-bcc3-4ac8046b284f",
   "metadata": {},
   "outputs": [
    {
     "data": {
      "text/html": [
       "<div>\n",
       "<style scoped>\n",
       "    .dataframe tbody tr th:only-of-type {\n",
       "        vertical-align: middle;\n",
       "    }\n",
       "\n",
       "    .dataframe tbody tr th {\n",
       "        vertical-align: top;\n",
       "    }\n",
       "\n",
       "    .dataframe thead th {\n",
       "        text-align: right;\n",
       "    }\n",
       "</style>\n",
       "<table border=\"1\" class=\"dataframe\">\n",
       "  <thead>\n",
       "    <tr style=\"text-align: right;\">\n",
       "      <th></th>\n",
       "      <th>Col1</th>\n",
       "      <th>Col2</th>\n",
       "    </tr>\n",
       "  </thead>\n",
       "  <tbody>\n",
       "    <tr>\n",
       "      <th>0</th>\n",
       "      <td>0.417022</td>\n",
       "      <td>0.178734</td>\n",
       "    </tr>\n",
       "    <tr>\n",
       "      <th>1</th>\n",
       "      <td>0.720324</td>\n",
       "      <td>0.304579</td>\n",
       "    </tr>\n",
       "    <tr>\n",
       "      <th>2</th>\n",
       "      <td>0.000114</td>\n",
       "      <td>0.382939</td>\n",
       "    </tr>\n",
       "    <tr>\n",
       "      <th>3</th>\n",
       "      <td>0.302333</td>\n",
       "      <td>0.257289</td>\n",
       "    </tr>\n",
       "    <tr>\n",
       "      <th>4</th>\n",
       "      <td>0.146756</td>\n",
       "      <td>0.646385</td>\n",
       "    </tr>\n",
       "  </tbody>\n",
       "</table>\n",
       "</div>"
      ],
      "text/plain": [
       "       Col1      Col2\n",
       "0  0.417022  0.178734\n",
       "1  0.720324  0.304579\n",
       "2  0.000114  0.382939\n",
       "3  0.302333  0.257289\n",
       "4  0.146756  0.646385"
      ]
     },
     "execution_count": 5,
     "metadata": {},
     "output_type": "execute_result"
    }
   ],
   "source": [
    "np.random.seed(1)\n",
    "df = pd.DataFrame(data={'Col1':np.random.uniform(low=0, high=1, size=500),\n",
    "                        \"Col2\":np.random.uniform(low=0.1, high=1, size=500)})\n",
    "df.head()"
   ]
  },
  {
   "cell_type": "markdown",
   "id": "c539af10-7622-4cf4-97ed-3b1ae858edfe",
   "metadata": {},
   "source": [
    "We check for normality. Both are not normally distributed"
   ]
  },
  {
   "cell_type": "code",
   "execution_count": 8,
   "id": "3054a911-9ef5-4ad4-bde6-e400b4f11e32",
   "metadata": {},
   "outputs": [
    {
     "data": {
      "text/html": [
       "<div>\n",
       "<style scoped>\n",
       "    .dataframe tbody tr th:only-of-type {\n",
       "        vertical-align: middle;\n",
       "    }\n",
       "\n",
       "    .dataframe tbody tr th {\n",
       "        vertical-align: top;\n",
       "    }\n",
       "\n",
       "    .dataframe thead th {\n",
       "        text-align: right;\n",
       "    }\n",
       "</style>\n",
       "<table border=\"1\" class=\"dataframe\">\n",
       "  <thead>\n",
       "    <tr style=\"text-align: right;\">\n",
       "      <th></th>\n",
       "      <th>W</th>\n",
       "      <th>pval</th>\n",
       "      <th>normal</th>\n",
       "    </tr>\n",
       "  </thead>\n",
       "  <tbody>\n",
       "    <tr>\n",
       "      <th>Col1</th>\n",
       "      <td>0.947966</td>\n",
       "      <td>2.976057e-12</td>\n",
       "      <td>False</td>\n",
       "    </tr>\n",
       "    <tr>\n",
       "      <th>Col2</th>\n",
       "      <td>0.962373</td>\n",
       "      <td>5.252833e-10</td>\n",
       "      <td>False</td>\n",
       "    </tr>\n",
       "  </tbody>\n",
       "</table>\n",
       "</div>"
      ],
      "text/plain": [
       "             W          pval  normal\n",
       "Col1  0.947966  2.976057e-12   False\n",
       "Col2  0.962373  5.252833e-10   False"
      ]
     },
     "execution_count": 8,
     "metadata": {},
     "output_type": "execute_result"
    }
   ],
   "source": [
    "pg.normality(data=df, alpha=0.05)"
   ]
  },
  {
   "cell_type": "markdown",
   "id": "1a268fdb-c522-4c55-9af5-6d32720cc2e5",
   "metadata": {},
   "source": [
    "We plot both columns in a histogram and boxplot to better understand the levels"
   ]
  },
  {
   "cell_type": "code",
   "execution_count": 11,
   "id": "3061d2db-7a0d-49ce-acb8-48f8fcc7a5f9",
   "metadata": {},
   "outputs": [
    {
     "data": {
      "image/png": "[encoded data removed]",
      "text/plain": [
       "<Figure size 1200x500 with 2 Axes>"
      ]
     },
     "metadata": {},
     "output_type": "display_data"
    },
    {
     "name": "stdout",
     "output_type": "stream",
     "text": [
      "\n",
      "\n",
      "\n"
     ]
    }
   ],
   "source": [
    "fig, axes = plt.subplots(nrows=1 ,ncols=2 ,figsize=(12,5))\n",
    "sns.histplot(data=df, kde=True, ax=axes[0])\n",
    "sns.boxplot(data=df, ax=axes[1])\n",
    "plt.show()\n",
    "print(\"\\n\\n\")"
   ]
  },
  {
   "cell_type": "markdown",
   "id": "bfe94229-2e71-4dec-906a-4c10c8f50e21",
   "metadata": {},
   "source": [
    "We use `pg.mwu()` to conduct a  Mann-Whitney U Test. The documentation link is [here](https://pingouin-stats.org/build/html/generated/pingouin.mwu.html#pingouin.mwu). The arguments we use are x and y, where we parse the numerical distribution"
   ]
  },
  {
   "cell_type": "code",
   "execution_count": 14,
   "id": "a8007563-5653-429f-b677-93b0af4a5ef9",
   "metadata": {},
   "outputs": [
    {
     "data": {
      "text/html": [
       "<div>\n",
       "<style scoped>\n",
       "    .dataframe tbody tr th:only-of-type {\n",
       "        vertical-align: middle;\n",
       "    }\n",
       "\n",
       "    .dataframe tbody tr th {\n",
       "        vertical-align: top;\n",
       "    }\n",
       "\n",
       "    .dataframe thead th {\n",
       "        text-align: right;\n",
       "    }\n",
       "</style>\n",
       "<table border=\"1\" class=\"dataframe\">\n",
       "  <thead>\n",
       "    <tr style=\"text-align: right;\">\n",
       "      <th></th>\n",
       "      <th>U-val</th>\n",
       "      <th>alternative</th>\n",
       "      <th>p-val</th>\n",
       "      <th>RBC</th>\n",
       "      <th>CLES</th>\n",
       "    </tr>\n",
       "  </thead>\n",
       "  <tbody>\n",
       "    <tr>\n",
       "      <th>MWU</th>\n",
       "      <td>116963.0</td>\n",
       "      <td>two-sided</td>\n",
       "      <td>0.078437</td>\n",
       "      <td>-0.064296</td>\n",
       "      <td>0.467852</td>\n",
       "    </tr>\n",
       "  </tbody>\n",
       "</table>\n",
       "</div>"
      ],
      "text/plain": [
       "        U-val alternative     p-val       RBC      CLES\n",
       "MWU  116963.0   two-sided  0.078437 -0.064296  0.467852"
      ]
     },
     "execution_count": 14,
     "metadata": {},
     "output_type": "execute_result"
    }
   ],
   "source": [
    "pg.mwu(x=df['Col1'], y=df['Col2'])"
   ]
  },
  {
   "cell_type": "markdown",
   "id": "f8478458-61c4-4209-822d-e51868e6cb5f",
   "metadata": {},
   "source": [
    "We are interested in p-val, which is 0.0784\n",
    "* We consider our significant level alpha = 0.05. \n",
    "* Since p-value (0.0784) is higher than the alpha, we accept the null hypothesis.\n",
    "\n",
    "* Therefore there is not enough statistical difference to conclude the levels are different."
   ]
  },
  {
   "cell_type": "markdown",
   "id": "71c7432c-c00f-4256-80ec-b8f66d9d0c74",
   "metadata": {},
   "source": [
    "### Wilcoxon Test\n",
    "\n",
    "A Wilcoxon Test is a non-parametric test used when you'd like to use the paired t–test. At least one of the samples should not be **normally distributed**.\n",
    "* The samples should be **dependent (or paired)**\n",
    "  * It should be a sample of matched pairs. \n",
    "  * For example, **imagine the same group is tested twice**. Say you want to examine the difference between people's scores on a test before and after a training \n",
    "\n",
    "Let's consider a DataFrame that has Col3 and Col4 columns made with a Python list"
   ]
  },
  {
   "cell_type": "code",
   "execution_count": 18,
   "id": "42d83bb7-8bef-4692-b7e4-a3cfc9d6d300",
   "metadata": {},
   "outputs": [
    {
     "data": {
      "text/html": [
       "<div>\n",
       "<style scoped>\n",
       "    .dataframe tbody tr th:only-of-type {\n",
       "        vertical-align: middle;\n",
       "    }\n",
       "\n",
       "    .dataframe tbody tr th {\n",
       "        vertical-align: top;\n",
       "    }\n",
       "\n",
       "    .dataframe thead th {\n",
       "        text-align: right;\n",
       "    }\n",
       "</style>\n",
       "<table border=\"1\" class=\"dataframe\">\n",
       "  <thead>\n",
       "    <tr style=\"text-align: right;\">\n",
       "      <th></th>\n",
       "      <th>Col3</th>\n",
       "      <th>Col4</th>\n",
       "    </tr>\n",
       "  </thead>\n",
       "  <tbody>\n",
       "    <tr>\n",
       "      <th>0</th>\n",
       "      <td>18.3</td>\n",
       "      <td>12.7</td>\n",
       "    </tr>\n",
       "    <tr>\n",
       "      <th>1</th>\n",
       "      <td>13.3</td>\n",
       "      <td>11.1</td>\n",
       "    </tr>\n",
       "    <tr>\n",
       "      <th>2</th>\n",
       "      <td>16.5</td>\n",
       "      <td>15.3</td>\n",
       "    </tr>\n",
       "    <tr>\n",
       "      <th>3</th>\n",
       "      <td>12.6</td>\n",
       "      <td>12.7</td>\n",
       "    </tr>\n",
       "    <tr>\n",
       "      <th>4</th>\n",
       "      <td>9.5</td>\n",
       "      <td>10.5</td>\n",
       "    </tr>\n",
       "  </tbody>\n",
       "</table>\n",
       "</div>"
      ],
      "text/plain": [
       "   Col3  Col4\n",
       "0  18.3  12.7\n",
       "1  13.3  11.1\n",
       "2  16.5  15.3\n",
       "3  12.6  12.7\n",
       "4   9.5  10.5"
      ]
     },
     "execution_count": 18,
     "metadata": {},
     "output_type": "execute_result"
    }
   ],
   "source": [
    "df = pd.DataFrame(data={'Col3':[18.3, 13.3, 16.5, 12.6, 9.5, 13.6, 8.1, 8.9, 10, 8.3, 7.9, 8.1, 13.4],\n",
    "                        \"Col4\":[12.7, 11.1, 15.3, 12.7, 10.5, 15.6, 11.2, 14.2, 16.3, 15.5, 19.9, 20.4, 36.8]\n",
    "                        })\n",
    "df.head()"
   ]
  },
  {
   "cell_type": "markdown",
   "id": "a83fa8aa-d212-4ce2-8fb0-15dcabbb6224",
   "metadata": {},
   "source": [
    "Let's check for normality. One is not normally distributed; we can use the Wilcoxon test"
   ]
  },
  {
   "cell_type": "code",
   "execution_count": 23,
   "id": "1226b3a2-e423-4c11-9807-71791c8cb1de",
   "metadata": {},
   "outputs": [
    {
     "data": {
      "text/html": [
       "<div>\n",
       "<style scoped>\n",
       "    .dataframe tbody tr th:only-of-type {\n",
       "        vertical-align: middle;\n",
       "    }\n",
       "\n",
       "    .dataframe tbody tr th {\n",
       "        vertical-align: top;\n",
       "    }\n",
       "\n",
       "    .dataframe thead th {\n",
       "        text-align: right;\n",
       "    }\n",
       "</style>\n",
       "<table border=\"1\" class=\"dataframe\">\n",
       "  <thead>\n",
       "    <tr style=\"text-align: right;\">\n",
       "      <th></th>\n",
       "      <th>W</th>\n",
       "      <th>pval</th>\n",
       "      <th>normal</th>\n",
       "    </tr>\n",
       "  </thead>\n",
       "  <tbody>\n",
       "    <tr>\n",
       "      <th>Col3</th>\n",
       "      <td>0.879760</td>\n",
       "      <td>0.070778</td>\n",
       "      <td>True</td>\n",
       "    </tr>\n",
       "    <tr>\n",
       "      <th>Col4</th>\n",
       "      <td>0.722989</td>\n",
       "      <td>0.000952</td>\n",
       "      <td>False</td>\n",
       "    </tr>\n",
       "  </tbody>\n",
       "</table>\n",
       "</div>"
      ],
      "text/plain": [
       "             W      pval  normal\n",
       "Col3  0.879760  0.070778    True\n",
       "Col4  0.722989  0.000952   False"
      ]
     },
     "execution_count": 23,
     "metadata": {},
     "output_type": "execute_result"
    }
   ],
   "source": [
    "pg.normality(data=df, alpha=0.05)"
   ]
  },
  {
   "cell_type": "markdown",
   "id": "8a0818f1-2385-40b6-a51f-d50cdebd3a1b",
   "metadata": {},
   "source": [
    "We plot both columns in a histogram and boxplot to better understand the levels"
   ]
  },
  {
   "cell_type": "code",
   "execution_count": 26,
   "id": "829e3152-55ff-4f18-91d3-8ba384df7770",
   "metadata": {},
   "outputs": [
    {
     "data": {
      "image/png": "[encoded data removed]",
      "text/plain": [
       "<Figure size 1200x500 with 2 Axes>"
      ]
     },
     "metadata": {},
     "output_type": "display_data"
    },
    {
     "name": "stdout",
     "output_type": "stream",
     "text": [
      "\n",
      "\n",
      "\n"
     ]
    }
   ],
   "source": [
    "fig, axes = plt.subplots(nrows=1 ,ncols=2 ,figsize=(12,5))\n",
    "sns.histplot(data=df, kde=True, ax=axes[0])\n",
    "sns.boxplot(data=df, ax=axes[1])\n",
    "plt.show()\n",
    "print(\"\\n\\n\")"
   ]
  },
  {
   "cell_type": "markdown",
   "id": "b986b46a-e514-41c2-9406-734fac595f7f",
   "metadata": {},
   "source": [
    "We use `pg.wilcoxon()` to conduct a Wilcoxon Test. The documentation is [here](https://pingouin-stats.org/build/html/generated/pingouin.wilcoxon.html#pingouin.wilcoxon). The arguments we use are x and y, as the numerical data we want to compare."
   ]
  },
  {
   "cell_type": "code",
   "execution_count": 37,
   "id": "d7951959-fec8-47c4-a8bd-5f86e9253015",
   "metadata": {},
   "outputs": [
    {
     "data": {
      "text/html": [
       "<div>\n",
       "<style scoped>\n",
       "    .dataframe tbody tr th:only-of-type {\n",
       "        vertical-align: middle;\n",
       "    }\n",
       "\n",
       "    .dataframe tbody tr th {\n",
       "        vertical-align: top;\n",
       "    }\n",
       "\n",
       "    .dataframe thead th {\n",
       "        text-align: right;\n",
       "    }\n",
       "</style>\n",
       "<table border=\"1\" class=\"dataframe\">\n",
       "  <thead>\n",
       "    <tr style=\"text-align: right;\">\n",
       "      <th></th>\n",
       "      <th>W-val</th>\n",
       "      <th>alternative</th>\n",
       "      <th>p-val</th>\n",
       "      <th>RBC</th>\n",
       "      <th>CLES</th>\n",
       "    </tr>\n",
       "  </thead>\n",
       "  <tbody>\n",
       "    <tr>\n",
       "      <th>Wilcoxon</th>\n",
       "      <td>16.0</td>\n",
       "      <td>two-sided</td>\n",
       "      <td>0.039795</td>\n",
       "      <td>-0.648352</td>\n",
       "      <td>0.224852</td>\n",
       "    </tr>\n",
       "  </tbody>\n",
       "</table>\n",
       "</div>"
      ],
      "text/plain": [
       "          W-val alternative     p-val       RBC      CLES\n",
       "Wilcoxon   16.0   two-sided  0.039795 -0.648352  0.224852"
      ]
     },
     "execution_count": 37,
     "metadata": {},
     "output_type": "execute_result"
    }
   ],
   "source": [
    "pg.wilcoxon(x=df['Col3'], y=df['Col4'])"
   ]
  },
  {
   "cell_type": "markdown",
   "id": "63b4381d-1478-44bd-89fd-b7b082ee9d91",
   "metadata": {},
   "source": [
    "We are interested in the p-val, which is 0.0397\n",
    "* We consider our significant level alpha = 0.05. \n",
    "* Since p-value (0.0397) is lower than the alpha, we reject the null hypothesis.\n",
    "\n",
    "* Therefore there is enough statistical difference to conclude the levels are different."
   ]
  },
  {
   "cell_type": "markdown",
   "id": "370feb24-2c24-44a0-9300-1789635b3357",
   "metadata": {},
   "source": [
    "### Kruskal-Wallis\n",
    "\n",
    "A Kruskal-Wallis test is a nonparametric test used to determine if there are differences between three or more groups, considered when at least one of the distributions is not normally distributed\n",
    "* It is a nonparametric alternative to a one-way ANOVA"
   ]
  },
  {
   "cell_type": "markdown",
   "id": "de546f09-a368-45b7-9784-30bf6b34fddb",
   "metadata": {},
   "source": [
    "We use a pingouin dataset. We will use the Metric and Performance variables to demonstrate the concept in this exercise"
   ]
  },
  {
   "cell_type": "code",
   "execution_count": 41,
   "id": "9537cd0d-e1ae-40b0-8509-acc8260b8200",
   "metadata": {},
   "outputs": [
    {
     "data": {
      "text/html": [
       "<div>\n",
       "<style scoped>\n",
       "    .dataframe tbody tr th:only-of-type {\n",
       "        vertical-align: middle;\n",
       "    }\n",
       "\n",
       "    .dataframe tbody tr th {\n",
       "        vertical-align: top;\n",
       "    }\n",
       "\n",
       "    .dataframe thead th {\n",
       "        text-align: right;\n",
       "    }\n",
       "</style>\n",
       "<table border=\"1\" class=\"dataframe\">\n",
       "  <thead>\n",
       "    <tr style=\"text-align: right;\">\n",
       "      <th></th>\n",
       "      <th>Metric</th>\n",
       "      <th>Performance</th>\n",
       "    </tr>\n",
       "  </thead>\n",
       "  <tbody>\n",
       "    <tr>\n",
       "      <th>0</th>\n",
       "      <td>Product</td>\n",
       "      <td>13</td>\n",
       "    </tr>\n",
       "    <tr>\n",
       "      <th>1</th>\n",
       "      <td>Product</td>\n",
       "      <td>12</td>\n",
       "    </tr>\n",
       "    <tr>\n",
       "      <th>2</th>\n",
       "      <td>Product</td>\n",
       "      <td>17</td>\n",
       "    </tr>\n",
       "    <tr>\n",
       "      <th>3</th>\n",
       "      <td>Product</td>\n",
       "      <td>12</td>\n",
       "    </tr>\n",
       "    <tr>\n",
       "      <th>4</th>\n",
       "      <td>Product</td>\n",
       "      <td>19</td>\n",
       "    </tr>\n",
       "  </tbody>\n",
       "</table>\n",
       "</div>"
      ],
      "text/plain": [
       "    Metric  Performance\n",
       "0  Product           13\n",
       "1  Product           12\n",
       "2  Product           17\n",
       "3  Product           12\n",
       "4  Product           19"
      ]
     },
     "execution_count": 41,
     "metadata": {},
     "output_type": "execute_result"
    }
   ],
   "source": [
    "df= pg.read_dataset(\"rm_anova2\").filter(['Metric',\t'Performance'])\n",
    "df.head()"
   ]
  },
  {
   "cell_type": "markdown",
   "id": "1ab9351a-0910-4e3b-8c61-bd1d03685c19",
   "metadata": {},
   "source": [
    "We want to know the metric distribution levels, so we use `.value_counts()`. There are three levels (action, product and client)"
   ]
  },
  {
   "cell_type": "code",
   "execution_count": 44,
   "id": "776fa6d4-1ab7-4b07-b2f7-7c0908dbda1f",
   "metadata": {},
   "outputs": [
    {
     "data": {
      "text/plain": [
       "Metric\n",
       "Product    20\n",
       "Client     20\n",
       "Action     20\n",
       "Name: count, dtype: int64"
      ]
     },
     "execution_count": 44,
     "metadata": {},
     "output_type": "execute_result"
    }
   ],
   "source": [
    "df['Metric'].value_counts()"
   ]
  },
  {
   "cell_type": "markdown",
   "id": "3ac1bef6-0ef9-4f9f-bb27-55da15ff65f8",
   "metadata": {},
   "source": [
    "We check for normality. One is not, so we can use Kruskal-Wallis"
   ]
  },
  {
   "cell_type": "code",
   "execution_count": 47,
   "id": "10a28e5b-ecae-424e-bff2-fb238bd00ff5",
   "metadata": {},
   "outputs": [
    {
     "data": {
      "text/html": [
       "<div>\n",
       "<style scoped>\n",
       "    .dataframe tbody tr th:only-of-type {\n",
       "        vertical-align: middle;\n",
       "    }\n",
       "\n",
       "    .dataframe tbody tr th {\n",
       "        vertical-align: top;\n",
       "    }\n",
       "\n",
       "    .dataframe thead th {\n",
       "        text-align: right;\n",
       "    }\n",
       "</style>\n",
       "<table border=\"1\" class=\"dataframe\">\n",
       "  <thead>\n",
       "    <tr style=\"text-align: right;\">\n",
       "      <th></th>\n",
       "      <th>W</th>\n",
       "      <th>pval</th>\n",
       "      <th>normal</th>\n",
       "    </tr>\n",
       "    <tr>\n",
       "      <th>Metric</th>\n",
       "      <th></th>\n",
       "      <th></th>\n",
       "      <th></th>\n",
       "    </tr>\n",
       "  </thead>\n",
       "  <tbody>\n",
       "    <tr>\n",
       "      <th>Product</th>\n",
       "      <td>0.886347</td>\n",
       "      <td>0.023054</td>\n",
       "      <td>False</td>\n",
       "    </tr>\n",
       "    <tr>\n",
       "      <th>Client</th>\n",
       "      <td>0.935938</td>\n",
       "      <td>0.200725</td>\n",
       "      <td>True</td>\n",
       "    </tr>\n",
       "    <tr>\n",
       "      <th>Action</th>\n",
       "      <td>0.955717</td>\n",
       "      <td>0.462202</td>\n",
       "      <td>True</td>\n",
       "    </tr>\n",
       "  </tbody>\n",
       "</table>\n",
       "</div>"
      ],
      "text/plain": [
       "                W      pval  normal\n",
       "Metric                             \n",
       "Product  0.886347  0.023054   False\n",
       "Client   0.935938  0.200725    True\n",
       "Action   0.955717  0.462202    True"
      ]
     },
     "execution_count": 47,
     "metadata": {},
     "output_type": "execute_result"
    }
   ],
   "source": [
    "pg.normality(data=df, dv='Performance', group='Metric', alpha=0.05)"
   ]
  },
  {
   "cell_type": "markdown",
   "id": "1b780387-bf45-4bf8-b7e1-1fd0e71e2baa",
   "metadata": {},
   "source": [
    "We combine a boxplot and swarm plot to visually check `Performance` across different `Metric`\n",
    "* **Visually**, we notice few data points. And it looks to have a `Performance` difference across different `Metric`. However, it is **wise** not to conclude anything before conducting a statistical test."
   ]
  },
  {
   "cell_type": "code",
   "execution_count": 50,
   "id": "ba9bd4b1-d37d-4721-93ce-5ca6d04b1bcd",
   "metadata": {},
   "outputs": [
    {
     "data": {
      "image/png": "[encoded data removed]",
      "text/plain": [
       "<Figure size 1400x500 with 2 Axes>"
      ]
     },
     "metadata": {},
     "output_type": "display_data"
    }
   ],
   "source": [
    "fig, axes = plt.subplots(nrows=1, ncols=2, figsize=(14,5))\n",
    "sns.boxplot(data=df, x=\"Metric\", y=\"Performance\", ax=axes[0])\n",
    "sns.swarmplot(data=df, x=\"Metric\", y=\"Performance\", dodge=True, ax=axes[1])\n",
    "plt.show()"
   ]
  },
  {
   "cell_type": "markdown",
   "id": "2cb0d0eb-392b-4f7e-819b-869ae04e9725",
   "metadata": {},
   "source": [
    "We use `pg.kruskal()` to conduct a Kruskal Wallis test. The documentation is [here](https://pingouin-stats.org/build/html/generated/pingouin.kruskal.html#pingouin.kruskal). The arguments are data, ``dv`` as the dependent variable and ``between`` as the variable, which we will use to analyse the levels in between."
   ]
  },
  {
   "cell_type": "code",
   "execution_count": 53,
   "id": "0b4cc42d-ffb6-476e-8536-85f26ebf54ba",
   "metadata": {},
   "outputs": [
    {
     "data": {
      "text/html": [
       "<div>\n",
       "<style scoped>\n",
       "    .dataframe tbody tr th:only-of-type {\n",
       "        vertical-align: middle;\n",
       "    }\n",
       "\n",
       "    .dataframe tbody tr th {\n",
       "        vertical-align: top;\n",
       "    }\n",
       "\n",
       "    .dataframe thead th {\n",
       "        text-align: right;\n",
       "    }\n",
       "</style>\n",
       "<table border=\"1\" class=\"dataframe\">\n",
       "  <thead>\n",
       "    <tr style=\"text-align: right;\">\n",
       "      <th></th>\n",
       "      <th>Source</th>\n",
       "      <th>ddof1</th>\n",
       "      <th>H</th>\n",
       "      <th>p-unc</th>\n",
       "    </tr>\n",
       "  </thead>\n",
       "  <tbody>\n",
       "    <tr>\n",
       "      <th>Kruskal</th>\n",
       "      <td>Metric</td>\n",
       "      <td>2</td>\n",
       "      <td>17.914541</td>\n",
       "      <td>0.000129</td>\n",
       "    </tr>\n",
       "  </tbody>\n",
       "</table>\n",
       "</div>"
      ],
      "text/plain": [
       "         Source  ddof1          H     p-unc\n",
       "Kruskal  Metric      2  17.914541  0.000129"
      ]
     },
     "execution_count": 53,
     "metadata": {},
     "output_type": "execute_result"
    }
   ],
   "source": [
    "pg.kruskal(data=df, dv='Performance', between='Metric')"
   ]
  },
  {
   "cell_type": "markdown",
   "id": "83322aa5-a2b2-4705-be15-8c2abc2a532a",
   "metadata": {},
   "source": [
    "We are interested in p-unc, which is 0.00012\n",
    "* We consider our significant level alpha = 0.05. \n",
    "* Since p-value (0.00012) is lower than the alpha, we reject the null hypothesis.\n",
    "\n",
    "* Therefore there is enough statistical difference to conclude the levels are different."
   ]
  },
  {
   "cell_type": "code",
   "execution_count": null,
   "id": "c2176b22-59de-44a6-bcf1-02c287f2ca0e",
   "metadata": {},
   "outputs": [],
   "source": []
  }
 ],
 "metadata": {
  "kernelspec": {
   "display_name": "Python [conda env:base] *",
   "language": "python",
   "name": "conda-base-py"
  },
  "language_info": {
   "codemirror_mode": {
    "name": "ipython",
    "version": 3
   },
   "file_extension": ".py",
   "mimetype": "text/x-python",
   "name": "python",
   "nbconvert_exporter": "python",
   "pygments_lexer": "ipython3",
   "version": "3.12.7"
  }
 },
 "nbformat": 4,
 "nbformat_minor": 5
}
