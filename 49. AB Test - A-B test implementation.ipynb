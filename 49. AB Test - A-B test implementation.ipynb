{
 "cells": [
  {
   "cell_type": "code",
   "execution_count": 1,
   "id": "aeafedd2-3d44-4eb0-ac86-5575ed508fc8",
   "metadata": {},
   "outputs": [],
   "source": [
    "import numpy as np\n",
    "import pandas as pd\n",
    "import matplotlib.pyplot as plt\n",
    "import seaborn as sns\n",
    "sns.set_style('whitegrid')\n",
    "import pingouin as pg\n",
    "import scipy"
   ]
  },
  {
   "cell_type": "markdown",
   "id": "10718f19-3a01-45ad-91cb-6fecd08f4293",
   "metadata": {},
   "source": [
    "### A/B test scenario\n",
    "\n",
    "Brick-and-Mortar Retail: \n",
    "* A company produces toys and sells them through a local store. The marketing department wants to test whether it is worth showing an ad on the screen at the store's entrance. The objective is to determine if the prepaid ads increase sales.\n",
    "\n",
    "Objective:\n",
    "* To determine if showing an advertisement on a screen at the store's entrance increases toy sales.\n",
    "\n",
    "Key Metrics:\n",
    "* Sales volume: The number of toys sold during the test period.\n",
    "* Revenue: The total revenue generated from toy sales during the test period.\n",
    "\n",
    "Time Frame:\n",
    "* The company's director is unfamiliar with data analytics and decided to run a test campaign for only 20 days to check for daily fluctuations in sales.\n",
    "\n",
    "Randomisation:\n",
    "* We randomly selected 10 days with ads on the store screen and 10 days without ads.\n",
    "\n",
    "Creating Hypotheses:\n",
    "* Null Hypothesis (H<sub>0</sub>):\n",
    "  * Displaying an ad on the screen at the store's entrance does not significantly affect toy sales.\n",
    "* Alternative Hypothesis (H<sub>1</sub>):\n",
    "  * Displaying an ad on the screen at the store's entrance significantly increases toy sales.\n",
    "\n",
    "**In this topic, we will cover statistical testing of an A/B scenario**"
   ]
  },
  {
   "cell_type": "markdown",
   "id": "aea62aed-6f69-415d-8cb1-1f73c79944c5",
   "metadata": {},
   "source": [
    "### Data collection\n",
    "\n",
    "Our scenario is imaginary, so we generate sales data randomly. Let's consider a DataFrame that has Sales_wout_ad (variant A) and Sales_with_ad (variant B) columns, made with a NumPy function to create normally distributed data. After data generation, we calculate the differences between Sales_wout_ad and Sales_with_ad. "
   ]
  },
  {
   "cell_type": "code",
   "execution_count": 7,
   "id": "5699a412-a325-4938-ab2c-f165849b0fd4",
   "metadata": {},
   "outputs": [
    {
     "data": {
      "text/html": [
       "<div>\n",
       "<style scoped>\n",
       "    .dataframe tbody tr th:only-of-type {\n",
       "        vertical-align: middle;\n",
       "    }\n",
       "\n",
       "    .dataframe tbody tr th {\n",
       "        vertical-align: top;\n",
       "    }\n",
       "\n",
       "    .dataframe thead th {\n",
       "        text-align: right;\n",
       "    }\n",
       "</style>\n",
       "<table border=\"1\" class=\"dataframe\">\n",
       "  <thead>\n",
       "    <tr style=\"text-align: right;\">\n",
       "      <th></th>\n",
       "      <th>Sales_wout_ad</th>\n",
       "      <th>Sales_with_ad</th>\n",
       "      <th>Differences in sales</th>\n",
       "    </tr>\n",
       "  </thead>\n",
       "  <tbody>\n",
       "    <tr>\n",
       "      <th>count</th>\n",
       "      <td>10.000000</td>\n",
       "      <td>10.000000</td>\n",
       "      <td>10.000000</td>\n",
       "    </tr>\n",
       "    <tr>\n",
       "      <th>mean</th>\n",
       "      <td>25.565902</td>\n",
       "      <td>30.060827</td>\n",
       "      <td>4.494926</td>\n",
       "    </tr>\n",
       "    <tr>\n",
       "      <th>std</th>\n",
       "      <td>5.626612</td>\n",
       "      <td>9.523238</td>\n",
       "      <td>12.171660</td>\n",
       "    </tr>\n",
       "    <tr>\n",
       "      <th>min</th>\n",
       "      <td>13.733407</td>\n",
       "      <td>17.944515</td>\n",
       "      <td>-13.609670</td>\n",
       "    </tr>\n",
       "    <tr>\n",
       "      <th>25%</th>\n",
       "      <td>24.381933</td>\n",
       "      <td>22.644586</td>\n",
       "      <td>-4.029189</td>\n",
       "    </tr>\n",
       "    <tr>\n",
       "      <th>50%</th>\n",
       "      <td>25.485739</td>\n",
       "      <td>28.465957</td>\n",
       "      <td>2.038772</td>\n",
       "    </tr>\n",
       "    <tr>\n",
       "      <th>75%</th>\n",
       "      <td>28.172404</td>\n",
       "      <td>37.575598</td>\n",
       "      <td>13.868553</td>\n",
       "    </tr>\n",
       "    <tr>\n",
       "      <th>max</th>\n",
       "      <td>35.747274</td>\n",
       "      <td>46.746341</td>\n",
       "      <td>22.878515</td>\n",
       "    </tr>\n",
       "  </tbody>\n",
       "</table>\n",
       "</div>"
      ],
      "text/plain": [
       "       Sales_wout_ad  Sales_with_ad  Differences in sales\n",
       "count      10.000000      10.000000             10.000000\n",
       "mean       25.565902      30.060827              4.494926\n",
       "std         5.626612       9.523238             12.171660\n",
       "min        13.733407      17.944515            -13.609670\n",
       "25%        24.381933      22.644586             -4.029189\n",
       "50%        25.485739      28.465957              2.038772\n",
       "75%        28.172404      37.575598             13.868553\n",
       "max        35.747274      46.746341             22.878515"
      ]
     },
     "execution_count": 7,
     "metadata": {},
     "output_type": "execute_result"
    }
   ],
   "source": [
    "np.random.seed(11)\n",
    "size = 10\n",
    "df = pd.DataFrame(data={'Sales_wout_ad': np.random.normal(loc=27, scale=5, size=size),\n",
    "                        \"Sales_with_ad\": np.random.normal(loc=31, scale=10, size=size)}\n",
    "                  )\n",
    "df['Differences in sales'] = df[\"Sales_with_ad\"] - df[\"Sales_wout_ad\"]\n",
    "df.describe()"
   ]
  },
  {
   "cell_type": "markdown",
   "id": "ab7f029a-47d9-403f-aa8f-77b6aaa27006",
   "metadata": {},
   "source": [
    "We check normality using `pg.normality()`, and as they are normally distributed, we can use a T-test to check differences in sales."
   ]
  },
  {
   "cell_type": "code",
   "execution_count": 10,
   "id": "289b5579-2a55-4497-afef-951a0215ee3a",
   "metadata": {},
   "outputs": [
    {
     "data": {
      "text/html": [
       "<div>\n",
       "<style scoped>\n",
       "    .dataframe tbody tr th:only-of-type {\n",
       "        vertical-align: middle;\n",
       "    }\n",
       "\n",
       "    .dataframe tbody tr th {\n",
       "        vertical-align: top;\n",
       "    }\n",
       "\n",
       "    .dataframe thead th {\n",
       "        text-align: right;\n",
       "    }\n",
       "</style>\n",
       "<table border=\"1\" class=\"dataframe\">\n",
       "  <thead>\n",
       "    <tr style=\"text-align: right;\">\n",
       "      <th></th>\n",
       "      <th>W</th>\n",
       "      <th>pval</th>\n",
       "      <th>normal</th>\n",
       "    </tr>\n",
       "  </thead>\n",
       "  <tbody>\n",
       "    <tr>\n",
       "      <th>Sales_wout_ad</th>\n",
       "      <td>0.931026</td>\n",
       "      <td>0.458063</td>\n",
       "      <td>True</td>\n",
       "    </tr>\n",
       "    <tr>\n",
       "      <th>Sales_with_ad</th>\n",
       "      <td>0.941080</td>\n",
       "      <td>0.565094</td>\n",
       "      <td>True</td>\n",
       "    </tr>\n",
       "    <tr>\n",
       "      <th>Differences in sales</th>\n",
       "      <td>0.954641</td>\n",
       "      <td>0.723471</td>\n",
       "      <td>True</td>\n",
       "    </tr>\n",
       "  </tbody>\n",
       "</table>\n",
       "</div>"
      ],
      "text/plain": [
       "                             W      pval  normal\n",
       "Sales_wout_ad         0.931026  0.458063    True\n",
       "Sales_with_ad         0.941080  0.565094    True\n",
       "Differences in sales  0.954641  0.723471    True"
      ]
     },
     "execution_count": 10,
     "metadata": {},
     "output_type": "execute_result"
    }
   ],
   "source": [
    "pg.normality(data=df, alpha=0.05)"
   ]
  },
  {
   "cell_type": "markdown",
   "id": "1a37fc14-f8d8-45c1-8c22-f87f097bd925",
   "metadata": {},
   "source": [
    "Let's plot our variables in a histogram and box plot and ask ourselves: **are they similar or different**?"
   ]
  },
  {
   "cell_type": "code",
   "execution_count": 15,
   "id": "259256a0-5539-428e-9893-1a49a1f9c370",
   "metadata": {},
   "outputs": [
    {
     "data": {
      "image/png": "[encoded data removed]",
      "text/plain": [
       "<Figure size 1200x500 with 2 Axes>"
      ]
     },
     "metadata": {},
     "output_type": "display_data"
    },
    {
     "name": "stdout",
     "output_type": "stream",
     "text": [
      "\n",
      "\n",
      "\n"
     ]
    }
   ],
   "source": [
    "fig, axes = plt.subplots(nrows=1 ,ncols=2 ,figsize=(12,5))\n",
    "\n",
    "sns.histplot(data=df, kde=True, ax=axes[0])\n",
    "for col in df.columns:\n",
    "    axes[0].axvline(df[col].mean(), color='r', linestyle='dashed', linewidth=1)\n",
    "sns.boxplot(data=df, ax=axes[1])\n",
    "\n",
    "plt.show()\n",
    "print(\"\\n\\n\")"
   ]
  },
  {
   "cell_type": "markdown",
   "id": "af5909f9-cbff-4eef-a54c-9af4119931d2",
   "metadata": {},
   "source": [
    "Before running a statistical test we should check sample size (of differences sample). The Rule of Thumb for sample size is:\n",
    "* **`N ≈ 8 𝝈²/𝐝²`**"
   ]
  },
  {
   "cell_type": "code",
   "execution_count": 20,
   "id": "82d50ec3-22e9-4383-80fa-bd627a1ddff8",
   "metadata": {},
   "outputs": [
    {
     "data": {
      "text/plain": [
       "count    10.000000\n",
       "mean      4.494926\n",
       "std      12.171660\n",
       "min     -13.609670\n",
       "25%      -4.029189\n",
       "50%       2.038772\n",
       "75%      13.868553\n",
       "max      22.878515\n",
       "Name: Differences in sales, dtype: float64"
      ]
     },
     "execution_count": 20,
     "metadata": {},
     "output_type": "execute_result"
    }
   ],
   "source": [
    "df['Differences in sales'].describe()"
   ]
  },
  {
   "cell_type": "markdown",
   "id": "1124d801-bbb0-4c15-8d96-42435c624d57",
   "metadata": {},
   "source": [
    "From statistics above we can see `𝝈 = 12.171660` and `d = 4.494926`"
   ]
  },
  {
   "cell_type": "code",
   "execution_count": 25,
   "id": "834f3c0b-a75d-421b-9aa1-25a05482ccc0",
   "metadata": {},
   "outputs": [
    {
     "data": {
      "text/plain": [
       "58.660332332984666"
      ]
     },
     "execution_count": 25,
     "metadata": {},
     "output_type": "execute_result"
    }
   ],
   "source": [
    "N_minimal = 8*(12.171660**2)/(4.494926**2)\n",
    "N_minimal"
   ]
  },
  {
   "cell_type": "markdown",
   "id": "4785161f-46f6-4640-8832-9e4f19ac73c3",
   "metadata": {},
   "source": [
    "We tested sales only for 20 days (10 days for each variant), but for any statistical conclusion we need at least 59 days for each variant (118 days overall). Let's pick sample size equal to 120 days (60 days for each variant) - slightly higher sample size, to be sure we have enough observations for statistical conclusions. Now we have to persuade the company's director to run test for 120 days, and after collecting additional data we can conduct a T-test."
   ]
  },
  {
   "cell_type": "code",
   "execution_count": 28,
   "id": "ddc28c35-0b6b-449a-99a3-6949614a84bc",
   "metadata": {},
   "outputs": [
    {
     "data": {
      "text/html": [
       "<div>\n",
       "<style scoped>\n",
       "    .dataframe tbody tr th:only-of-type {\n",
       "        vertical-align: middle;\n",
       "    }\n",
       "\n",
       "    .dataframe tbody tr th {\n",
       "        vertical-align: top;\n",
       "    }\n",
       "\n",
       "    .dataframe thead th {\n",
       "        text-align: right;\n",
       "    }\n",
       "</style>\n",
       "<table border=\"1\" class=\"dataframe\">\n",
       "  <thead>\n",
       "    <tr style=\"text-align: right;\">\n",
       "      <th></th>\n",
       "      <th>Sales_wout_ad</th>\n",
       "      <th>Sales_with_ad</th>\n",
       "      <th>Differences in sales</th>\n",
       "    </tr>\n",
       "  </thead>\n",
       "  <tbody>\n",
       "    <tr>\n",
       "      <th>count</th>\n",
       "      <td>60.000000</td>\n",
       "      <td>60.000000</td>\n",
       "      <td>60.000000</td>\n",
       "    </tr>\n",
       "    <tr>\n",
       "      <th>mean</th>\n",
       "      <td>26.966991</td>\n",
       "      <td>31.884004</td>\n",
       "      <td>4.917012</td>\n",
       "    </tr>\n",
       "    <tr>\n",
       "      <th>std</th>\n",
       "      <td>4.415282</td>\n",
       "      <td>10.658547</td>\n",
       "      <td>12.017531</td>\n",
       "    </tr>\n",
       "    <tr>\n",
       "      <th>min</th>\n",
       "      <td>13.733407</td>\n",
       "      <td>10.509427</td>\n",
       "      <td>-21.929127</td>\n",
       "    </tr>\n",
       "    <tr>\n",
       "      <th>25%</th>\n",
       "      <td>24.504857</td>\n",
       "      <td>24.167776</td>\n",
       "      <td>-2.944220</td>\n",
       "    </tr>\n",
       "    <tr>\n",
       "      <th>50%</th>\n",
       "      <td>27.138468</td>\n",
       "      <td>31.717059</td>\n",
       "      <td>5.479667</td>\n",
       "    </tr>\n",
       "    <tr>\n",
       "      <th>75%</th>\n",
       "      <td>30.037982</td>\n",
       "      <td>39.373996</td>\n",
       "      <td>12.046083</td>\n",
       "    </tr>\n",
       "    <tr>\n",
       "      <th>max</th>\n",
       "      <td>35.747274</td>\n",
       "      <td>53.018563</td>\n",
       "      <td>34.439118</td>\n",
       "    </tr>\n",
       "  </tbody>\n",
       "</table>\n",
       "</div>"
      ],
      "text/plain": [
       "       Sales_wout_ad  Sales_with_ad  Differences in sales\n",
       "count      60.000000      60.000000             60.000000\n",
       "mean       26.966991      31.884004              4.917012\n",
       "std         4.415282      10.658547             12.017531\n",
       "min        13.733407      10.509427            -21.929127\n",
       "25%        24.504857      24.167776             -2.944220\n",
       "50%        27.138468      31.717059              5.479667\n",
       "75%        30.037982      39.373996             12.046083\n",
       "max        35.747274      53.018563             34.439118"
      ]
     },
     "execution_count": 28,
     "metadata": {},
     "output_type": "execute_result"
    }
   ],
   "source": [
    "np.random.seed(11)\n",
    "size = 60\n",
    "df = pd.DataFrame(data={'Sales_wout_ad': np.random.normal(loc=27, scale=5, size=size),\n",
    "                        \"Sales_with_ad\": np.random.normal(loc=31, scale=10, size=size)}\n",
    "                  )\n",
    "df['Differences in sales'] = df[\"Sales_with_ad\"] - df[\"Sales_wout_ad\"]\n",
    "df.describe()"
   ]
  },
  {
   "cell_type": "markdown",
   "id": "c758df24-2bfe-4ced-8fd8-5acdbf531280",
   "metadata": {},
   "source": [
    "We check normality using `pg.normality()`, they are normally distributed, so we can use a **T-Test** to check differences in sales."
   ]
  },
  {
   "cell_type": "code",
   "execution_count": 31,
   "id": "3c39f2b0-3fff-49c0-87ec-21e853852078",
   "metadata": {},
   "outputs": [
    {
     "data": {
      "text/html": [
       "<div>\n",
       "<style scoped>\n",
       "    .dataframe tbody tr th:only-of-type {\n",
       "        vertical-align: middle;\n",
       "    }\n",
       "\n",
       "    .dataframe tbody tr th {\n",
       "        vertical-align: top;\n",
       "    }\n",
       "\n",
       "    .dataframe thead th {\n",
       "        text-align: right;\n",
       "    }\n",
       "</style>\n",
       "<table border=\"1\" class=\"dataframe\">\n",
       "  <thead>\n",
       "    <tr style=\"text-align: right;\">\n",
       "      <th></th>\n",
       "      <th>W</th>\n",
       "      <th>pval</th>\n",
       "      <th>normal</th>\n",
       "    </tr>\n",
       "  </thead>\n",
       "  <tbody>\n",
       "    <tr>\n",
       "      <th>Sales_wout_ad</th>\n",
       "      <td>0.987189</td>\n",
       "      <td>0.782308</td>\n",
       "      <td>True</td>\n",
       "    </tr>\n",
       "    <tr>\n",
       "      <th>Sales_with_ad</th>\n",
       "      <td>0.983211</td>\n",
       "      <td>0.578144</td>\n",
       "      <td>True</td>\n",
       "    </tr>\n",
       "    <tr>\n",
       "      <th>Differences in sales</th>\n",
       "      <td>0.989345</td>\n",
       "      <td>0.880458</td>\n",
       "      <td>True</td>\n",
       "    </tr>\n",
       "  </tbody>\n",
       "</table>\n",
       "</div>"
      ],
      "text/plain": [
       "                             W      pval  normal\n",
       "Sales_wout_ad         0.987189  0.782308    True\n",
       "Sales_with_ad         0.983211  0.578144    True\n",
       "Differences in sales  0.989345  0.880458    True"
      ]
     },
     "execution_count": 31,
     "metadata": {},
     "output_type": "execute_result"
    }
   ],
   "source": [
    "pg.normality(data=df, alpha=0.05)"
   ]
  },
  {
   "cell_type": "markdown",
   "id": "b1c4a5b2-378b-46b1-acbe-8c334dbd2d06",
   "metadata": {},
   "source": [
    "Let's plot our variables in a histogram and box plot and ask ourselves: **are they similar or different**?"
   ]
  },
  {
   "cell_type": "code",
   "execution_count": 34,
   "id": "d0342f4a-c7b0-40fd-8aaf-7bebc1ae5656",
   "metadata": {},
   "outputs": [
    {
     "data": {
      "image/png": "[encoded data removed]",
      "text/plain": [
       "<Figure size 1200x500 with 2 Axes>"
      ]
     },
     "metadata": {},
     "output_type": "display_data"
    },
    {
     "name": "stdout",
     "output_type": "stream",
     "text": [
      "\n",
      "\n",
      "\n"
     ]
    }
   ],
   "source": [
    "fig, axes = plt.subplots(nrows=1 ,ncols=2 ,figsize=(12,5))\n",
    "\n",
    "sns.histplot(data=df, kde=True, ax=axes[0])\n",
    "for col in df.columns: \n",
    "  axes[0].axvline(df[col].mean(), color='r', linestyle='dashed', linewidth=1)\n",
    "sns.boxplot(data=df, ax=axes[1])\n",
    "\n",
    "plt.show()\n",
    "print(\"\\n\\n\")"
   ]
  },
  {
   "cell_type": "markdown",
   "id": "7f7116f0-c266-46c9-bde4-a0247251b3c8",
   "metadata": {},
   "source": [
    "We conduct a one-sided (difference is greater than 0 for an alternative hypothesis) T-test using `pg.ttest()`. The documentation is found [here](https://pingouin-stats.org/build/html/generated/pingouin.ttest.html#pingouin.ttest). We parse sales differences in `x` and checking 0 in `y`(Null hypothesis: no differences)\n",
    "* We are interested in the `p-value`"
   ]
  },
  {
   "cell_type": "code",
   "execution_count": 39,
   "id": "1aff6d68-4cae-49d5-83e5-97dfdecb8207",
   "metadata": {},
   "outputs": [
    {
     "data": {
      "text/html": [
       "<div>\n",
       "<style scoped>\n",
       "    .dataframe tbody tr th:only-of-type {\n",
       "        vertical-align: middle;\n",
       "    }\n",
       "\n",
       "    .dataframe tbody tr th {\n",
       "        vertical-align: top;\n",
       "    }\n",
       "\n",
       "    .dataframe thead th {\n",
       "        text-align: right;\n",
       "    }\n",
       "</style>\n",
       "<table border=\"1\" class=\"dataframe\">\n",
       "  <thead>\n",
       "    <tr style=\"text-align: right;\">\n",
       "      <th></th>\n",
       "      <th>T</th>\n",
       "      <th>dof</th>\n",
       "      <th>alternative</th>\n",
       "      <th>p-val</th>\n",
       "      <th>CI95%</th>\n",
       "      <th>cohen-d</th>\n",
       "      <th>BF10</th>\n",
       "      <th>power</th>\n",
       "    </tr>\n",
       "  </thead>\n",
       "  <tbody>\n",
       "    <tr>\n",
       "      <th>T-test</th>\n",
       "      <td>3.169288</td>\n",
       "      <td>59</td>\n",
       "      <td>greater</td>\n",
       "      <td>0.001211</td>\n",
       "      <td>[2.32, inf]</td>\n",
       "      <td>0.409153</td>\n",
       "      <td>24.303</td>\n",
       "      <td>0.931594</td>\n",
       "    </tr>\n",
       "  </tbody>\n",
       "</table>\n",
       "</div>"
      ],
      "text/plain": [
       "               T  dof alternative     p-val        CI95%   cohen-d    BF10  \\\n",
       "T-test  3.169288   59     greater  0.001211  [2.32, inf]  0.409153  24.303   \n",
       "\n",
       "           power  \n",
       "T-test  0.931594  "
      ]
     },
     "execution_count": 39,
     "metadata": {},
     "output_type": "execute_result"
    }
   ],
   "source": [
    "pg.ttest(x=df['Differences in sales'], y=0, alternative = 'greater')"
   ]
  },
  {
   "cell_type": "markdown",
   "id": "24d29e1f-7fea-4842-b65a-b736bf15cfca",
   "metadata": {},
   "source": [
    "At this moment, we are interested in checking the `p-val`, which is the p-value. We get that using `.loc[]`"
   ]
  },
  {
   "cell_type": "code",
   "execution_count": 42,
   "id": "7e188193-b922-488b-bcbe-a486ed995e20",
   "metadata": {},
   "outputs": [
    {
     "data": {
      "text/plain": [
       "0.0012112174725460046"
      ]
     },
     "execution_count": 42,
     "metadata": {},
     "output_type": "execute_result"
    }
   ],
   "source": [
    "pg.ttest(df['Differences in sales'], 0, alternative = 'greater').loc['T-test','p-val']"
   ]
  },
  {
   "cell_type": "markdown",
   "id": "61d50f5c-c328-4f0e-a921-837e04a17efb",
   "metadata": {},
   "source": [
    "To extract a 95% confidence interval for our expected sales difference (with mean in the centre), we can calculate similar two-sided T-test using `pg.ttest()`."
   ]
  },
  {
   "cell_type": "code",
   "execution_count": 45,
   "id": "18c005fd-585f-477d-aa89-838296b7f549",
   "metadata": {},
   "outputs": [
    {
     "name": "stdout",
     "output_type": "stream",
     "text": [
      "4.917012259216051\n"
     ]
    },
    {
     "data": {
      "text/plain": [
       "array([1.81, 8.02])"
      ]
     },
     "execution_count": 45,
     "metadata": {},
     "output_type": "execute_result"
    }
   ],
   "source": [
    "print(df['Differences in sales'].mean())\n",
    "pg.ttest(x=df['Differences in sales'], y=0).loc['T-test','CI95%']"
   ]
  },
  {
   "cell_type": "markdown",
   "id": "72e3c706-b6a1-4c93-b3b6-85a0d985da24",
   "metadata": {},
   "source": [
    "We consider our significant level alpha = 0.05. \n",
    "* Since p-value (0.00121) is smaller than the alpha, we reject the null hypothesis.\n",
    "\n",
    "* Therefore, there is enough statistical difference in sales with and without ad. **Their levels are different!** This indicates that displaying the ad has a statistically significant positive effect on toy sales.\n",
    "* The expected `daily sales difference is 4.917` and `95% confidence interval is [1.81, 8.02]`. This means that out of 100 days of data of differences in sales, 95 days will be within the interval `1.81 to 8.02` and the average value of the differences will be `4.917`.\n",
    "    - For 95 out of 100 days, the difference in sales falls between 1.81 and 8.02 units (whatever the unit is — dollars, items sold, etc.). it's more accurate to say: “We are 95% confident that the true average difference lies between 1.81 and 8.02. Over 100 days, daily sales differences mostly range from 1.81 to 8.02, and the average daily difference is 4.917."
   ]
  },
  {
   "cell_type": "markdown",
   "id": "1639b543-b475-4f44-ac24-dcae69bd6d8a",
   "metadata": {},
   "source": [
    "### Economic Analysis\n",
    "\n",
    "Let's assume the price of one toy equal to $10,\n",
    "\n",
    "and cost of ad per month equal to $1500 (30 days)\n",
    "\n",
    "* Additional Daily Sales (Mean): 4.92 toys\n",
    "* Additional Daily Revenue: 4.92 toys/day * $10 / toy = $49.20/day\n",
    "* Monthly Additional Revenue: 4.92 toys/day * $10/toy * 30 days = $1476/month\n",
    "* Net Gain/Loss per Month:\n",
    "  * Monthly Additional Revenue: $1476\n",
    "  \n",
    "  * Monthly Ad Cost: $1500\n",
    "  \n",
    "  * Net Gain/Loss: $1476 - $1500 = -$24\n",
    "\n",
    "Based on the mean difference in sales, the additional revenue generated by the ad is $1476 per month. \n",
    "\n",
    "However, the cost of running the ad is $1500 per month, \n",
    "\n",
    "resulting in a slight net loss of $24 per month.\n",
    "\n",
    "Immediate Financial Impact:\n",
    "* Financial analysis shows a net loss of $24 per month. While this may seem negligible, it is important to consider the broader context.\n",
    "\n",
    "Considerations for Higher Market Share:\n",
    "* Customer Awareness: The ad could significantly increase customer awareness and interest in the store, potentially leading to higher sales over time.\n",
    "* Brand Recognition: Regular exposure to the ad may enhance brand recognition and customer loyalty, resulting in long-term benefits that are not immediately reflected in the monthly sales figures.\n",
    "* Market Share: Even if the ad does not result in immediate increased profits, it could help the company capture a larger market share. This share could be particularly valuable if the company faces strong competition, as increased market share can lead to better bargaining power with suppliers, economies of scale, and, eventually higher profitability.\n",
    "* Future Potential: As the customer base grows and the market conditions change, the initial net loss might turn into a net gain. This net value is especially relevant if the store can convert new customers into repeat buyers.\n",
    "\n",
    "Conclusion:\n",
    "* Short-term Decision: From a short-term financial perspective, the ad results in a slight net loss. The company might consider negotiating a lower ad cost or exploring alternative marketing strategies to improve profitability.\n",
    "* Long-term Perspective: From a strategic standpoint, the potential benefits of increased market share, customer awareness, and brand recognition may outweigh the immediate financial cost. The company should consider these factors in their decision-making process, as the long-term gains could be substantial.\n",
    "\n",
    "By weighing both the statistical results and economic implications, the company can make a more informed decision about whether to continue displaying the ad. While the short-term net loss is minimal, the long-term benefits in terms of market share and brand strength could justify the investment."
   ]
  },
  {
   "cell_type": "code",
   "execution_count": null,
   "id": "e81c951d-bf25-47ce-84c4-1be793be0c6f",
   "metadata": {},
   "outputs": [],
   "source": []
  }
 ],
 "metadata": {
  "kernelspec": {
   "display_name": "Python [conda env:base] *",
   "language": "python",
   "name": "conda-base-py"
  },
  "language_info": {
   "codemirror_mode": {
    "name": "ipython",
    "version": 3
   },
   "file_extension": ".py",
   "mimetype": "text/x-python",
   "name": "python",
   "nbconvert_exporter": "python",
   "pygments_lexer": "ipython3",
   "version": "3.12.7"
  }
 },
 "nbformat": 4,
 "nbformat_minor": 5
}
