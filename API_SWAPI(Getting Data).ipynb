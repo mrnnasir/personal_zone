{
 "cells": [
  {
   "cell_type": "markdown",
   "metadata": {},
   "source": [
    "A free API for data on the Star Wars films will be used for this exercise; you can find the project information here.\n",
    "- In this link, there is also an API documentation link with endpoints explanation and methods; click here to access it.\n",
    "- In the workplace, you will need to know what are the endpoints and any other relevant information to properly gather the data, like tokens or arguments, when requesting data.\n",
    "- We will consider the endpoint api, which retrieves all the Star Wars data you've ever wanted; Planets, Spaceships, Vehicles, People, Films and Species from all SEVEN Star Wars films. We use requests.get() and parse the endpoint"
   ]
  },
  {
   "cell_type": "code",
   "execution_count": 4,
   "metadata": {},
   "outputs": [
    {
     "data": {
      "text/plain": [
       "<Response [200]>"
      ]
     },
     "execution_count": 4,
     "metadata": {},
     "output_type": "execute_result"
    }
   ],
   "source": [
    "import requests\n",
    "response = requests.get('https://ci-swapi.herokuapp.com/api')\n",
    "response"
   ]
  },
  {
   "cell_type": "markdown",
   "metadata": {},
   "source": [
    "We see the status code of 200, which means the request was successful.\n",
    "In addition, you can check its attribute .status_code. You may find a full list of possible HTTP status codes link below\n",
    "https://en.wikipedia.org/wiki/List_of_HTTP_status_codes"
   ]
  },
  {
   "cell_type": "markdown",
   "metadata": {},
   "source": [
    "It is STRING and presented in a JSON format. Notice the curly brackets \" { } \", and Colons \" : \""
   ]
  },
  {
   "cell_type": "code",
   "execution_count": 5,
   "metadata": {},
   "outputs": [
    {
     "data": {
      "text/plain": [
       "200"
      ]
     },
     "execution_count": 5,
     "metadata": {},
     "output_type": "execute_result"
    }
   ],
   "source": [
    "response.status_code"
   ]
  },
  {
   "cell_type": "markdown",
   "metadata": {},
   "source": [
    "To access the content of the response, we should use `.text` attribute"
   ]
  },
  {
   "cell_type": "code",
   "execution_count": 6,
   "metadata": {},
   "outputs": [
    {
     "data": {
      "text/plain": [
       "'{\"people\":\"https://ci-swapi.herokuapp.com/api/people/\",\"planets\":\"https://ci-swapi.herokuapp.com/api/planets/\",\"films\":\"https://ci-swapi.herokuapp.com/api/films/\",\"species\":\"https://ci-swapi.herokuapp.com/api/species/\",\"vehicles\":\"https://ci-swapi.herokuapp.com/api/vehicles/\",\"starships\":\"https://ci-swapi.herokuapp.com/api/starships/\"}'"
      ]
     },
     "execution_count": 6,
     "metadata": {},
     "output_type": "execute_result"
    }
   ],
   "source": [
    "response.text"
   ]
  },
  {
   "cell_type": "code",
   "execution_count": 7,
   "metadata": {},
   "outputs": [
    {
     "data": {
      "text/plain": [
       "str"
      ]
     },
     "execution_count": 7,
     "metadata": {},
     "output_type": "execute_result"
    }
   ],
   "source": [
    "type(response.text)"
   ]
  },
  {
   "cell_type": "code",
   "execution_count": 8,
   "metadata": {},
   "outputs": [
    {
     "data": {
      "text/plain": [
       "dict"
      ]
     },
     "execution_count": 8,
     "metadata": {},
     "output_type": "execute_result"
    }
   ],
   "source": [
    "response = requests.get(\"https://ci-swapi.herokuapp.com/api/people/\").json()\n",
    "type(response)"
   ]
  },
  {
   "cell_type": "code",
   "execution_count": 9,
   "metadata": {},
   "outputs": [
    {
     "data": {
      "text/plain": [
       "dict_keys(['count', 'next', 'previous', 'results'])"
      ]
     },
     "execution_count": 9,
     "metadata": {},
     "output_type": "execute_result"
    }
   ],
   "source": [
    "response.keys()"
   ]
  },
  {
   "cell_type": "code",
   "execution_count": 10,
   "metadata": {},
   "outputs": [
    {
     "data": {
      "text/plain": [
       "{'count': 82,\n",
       " 'next': 'https://ci-swapi.herokuapp.com/api/people/?page=2',\n",
       " 'previous': None,\n",
       " 'results': [{'name': 'Luke Skywalker',\n",
       "   'height': '172',\n",
       "   'mass': '77',\n",
       "   'hair_color': 'blond',\n",
       "   'skin_color': 'fair',\n",
       "   'eye_color': 'blue',\n",
       "   'birth_year': '19BBY',\n",
       "   'gender': 'male',\n",
       "   'homeworld': 'https://ci-swapi.herokuapp.com/api/planets/1/',\n",
       "   'films': ['https://ci-swapi.herokuapp.com/api/films/1/',\n",
       "    'https://ci-swapi.herokuapp.com/api/films/2/',\n",
       "    'https://ci-swapi.herokuapp.com/api/films/3/',\n",
       "    'https://ci-swapi.herokuapp.com/api/films/6/'],\n",
       "   'species': [],\n",
       "   'vehicles': ['https://ci-swapi.herokuapp.com/api/vehicles/14/',\n",
       "    'https://ci-swapi.herokuapp.com/api/vehicles/30/'],\n",
       "   'starships': ['https://ci-swapi.herokuapp.com/api/starships/12/',\n",
       "    'https://ci-swapi.herokuapp.com/api/starships/22/'],\n",
       "   'created': '2014-12-09T13:50:51.644000Z',\n",
       "   'edited': '2014-12-20T21:17:56.891000Z',\n",
       "   'url': 'https://ci-swapi.herokuapp.com/api/people/1/'},\n",
       "  {'name': 'C-3PO',\n",
       "   'height': '167',\n",
       "   'mass': '75',\n",
       "   'hair_color': 'n/a',\n",
       "   'skin_color': 'gold',\n",
       "   'eye_color': 'yellow',\n",
       "   'birth_year': '112BBY',\n",
       "   'gender': 'n/a',\n",
       "   'homeworld': 'https://ci-swapi.herokuapp.com/api/planets/1/',\n",
       "   'films': ['https://ci-swapi.herokuapp.com/api/films/1/',\n",
       "    'https://ci-swapi.herokuapp.com/api/films/2/',\n",
       "    'https://ci-swapi.herokuapp.com/api/films/3/',\n",
       "    'https://ci-swapi.herokuapp.com/api/films/4/',\n",
       "    'https://ci-swapi.herokuapp.com/api/films/5/',\n",
       "    'https://ci-swapi.herokuapp.com/api/films/6/'],\n",
       "   'species': ['https://ci-swapi.herokuapp.com/api/species/2/'],\n",
       "   'vehicles': [],\n",
       "   'starships': [],\n",
       "   'created': '2014-12-10T15:10:51.357000Z',\n",
       "   'edited': '2014-12-20T21:17:50.309000Z',\n",
       "   'url': 'https://ci-swapi.herokuapp.com/api/people/2/'},\n",
       "  {'name': 'R2-D2',\n",
       "   'height': '96',\n",
       "   'mass': '32',\n",
       "   'hair_color': 'n/a',\n",
       "   'skin_color': 'white, blue',\n",
       "   'eye_color': 'red',\n",
       "   'birth_year': '33BBY',\n",
       "   'gender': 'n/a',\n",
       "   'homeworld': 'https://ci-swapi.herokuapp.com/api/planets/8/',\n",
       "   'films': ['https://ci-swapi.herokuapp.com/api/films/1/',\n",
       "    'https://ci-swapi.herokuapp.com/api/films/2/',\n",
       "    'https://ci-swapi.herokuapp.com/api/films/3/',\n",
       "    'https://ci-swapi.herokuapp.com/api/films/4/',\n",
       "    'https://ci-swapi.herokuapp.com/api/films/5/',\n",
       "    'https://ci-swapi.herokuapp.com/api/films/6/'],\n",
       "   'species': ['https://ci-swapi.herokuapp.com/api/species/2/'],\n",
       "   'vehicles': [],\n",
       "   'starships': [],\n",
       "   'created': '2014-12-10T15:11:50.376000Z',\n",
       "   'edited': '2014-12-20T21:17:50.311000Z',\n",
       "   'url': 'https://ci-swapi.herokuapp.com/api/people/3/'},\n",
       "  {'name': 'Darth Vader',\n",
       "   'height': '202',\n",
       "   'mass': '136',\n",
       "   'hair_color': 'none',\n",
       "   'skin_color': 'white',\n",
       "   'eye_color': 'yellow',\n",
       "   'birth_year': '41.9BBY',\n",
       "   'gender': 'male',\n",
       "   'homeworld': 'https://ci-swapi.herokuapp.com/api/planets/1/',\n",
       "   'films': ['https://ci-swapi.herokuapp.com/api/films/1/',\n",
       "    'https://ci-swapi.herokuapp.com/api/films/2/',\n",
       "    'https://ci-swapi.herokuapp.com/api/films/3/',\n",
       "    'https://ci-swapi.herokuapp.com/api/films/6/'],\n",
       "   'species': [],\n",
       "   'vehicles': [],\n",
       "   'starships': ['https://ci-swapi.herokuapp.com/api/starships/13/'],\n",
       "   'created': '2014-12-10T15:18:20.704000Z',\n",
       "   'edited': '2014-12-20T21:17:50.313000Z',\n",
       "   'url': 'https://ci-swapi.herokuapp.com/api/people/4/'},\n",
       "  {'name': 'Leia Organa',\n",
       "   'height': '150',\n",
       "   'mass': '49',\n",
       "   'hair_color': 'brown',\n",
       "   'skin_color': 'light',\n",
       "   'eye_color': 'brown',\n",
       "   'birth_year': '19BBY',\n",
       "   'gender': 'female',\n",
       "   'homeworld': 'https://ci-swapi.herokuapp.com/api/planets/2/',\n",
       "   'films': ['https://ci-swapi.herokuapp.com/api/films/1/',\n",
       "    'https://ci-swapi.herokuapp.com/api/films/2/',\n",
       "    'https://ci-swapi.herokuapp.com/api/films/3/',\n",
       "    'https://ci-swapi.herokuapp.com/api/films/6/'],\n",
       "   'species': [],\n",
       "   'vehicles': ['https://ci-swapi.herokuapp.com/api/vehicles/30/'],\n",
       "   'starships': [],\n",
       "   'created': '2014-12-10T15:20:09.791000Z',\n",
       "   'edited': '2014-12-20T21:17:50.315000Z',\n",
       "   'url': 'https://ci-swapi.herokuapp.com/api/people/5/'},\n",
       "  {'name': 'Owen Lars',\n",
       "   'height': '178',\n",
       "   'mass': '120',\n",
       "   'hair_color': 'brown, grey',\n",
       "   'skin_color': 'light',\n",
       "   'eye_color': 'blue',\n",
       "   'birth_year': '52BBY',\n",
       "   'gender': 'male',\n",
       "   'homeworld': 'https://ci-swapi.herokuapp.com/api/planets/1/',\n",
       "   'films': ['https://ci-swapi.herokuapp.com/api/films/1/',\n",
       "    'https://ci-swapi.herokuapp.com/api/films/5/',\n",
       "    'https://ci-swapi.herokuapp.com/api/films/6/'],\n",
       "   'species': [],\n",
       "   'vehicles': [],\n",
       "   'starships': [],\n",
       "   'created': '2014-12-10T15:52:14.024000Z',\n",
       "   'edited': '2014-12-20T21:17:50.317000Z',\n",
       "   'url': 'https://ci-swapi.herokuapp.com/api/people/6/'},\n",
       "  {'name': 'Beru Whitesun lars',\n",
       "   'height': '165',\n",
       "   'mass': '75',\n",
       "   'hair_color': 'brown',\n",
       "   'skin_color': 'light',\n",
       "   'eye_color': 'blue',\n",
       "   'birth_year': '47BBY',\n",
       "   'gender': 'female',\n",
       "   'homeworld': 'https://ci-swapi.herokuapp.com/api/planets/1/',\n",
       "   'films': ['https://ci-swapi.herokuapp.com/api/films/1/',\n",
       "    'https://ci-swapi.herokuapp.com/api/films/5/',\n",
       "    'https://ci-swapi.herokuapp.com/api/films/6/'],\n",
       "   'species': [],\n",
       "   'vehicles': [],\n",
       "   'starships': [],\n",
       "   'created': '2014-12-10T15:53:41.121000Z',\n",
       "   'edited': '2014-12-20T21:17:50.319000Z',\n",
       "   'url': 'https://ci-swapi.herokuapp.com/api/people/7/'},\n",
       "  {'name': 'R5-D4',\n",
       "   'height': '97',\n",
       "   'mass': '32',\n",
       "   'hair_color': 'n/a',\n",
       "   'skin_color': 'white, red',\n",
       "   'eye_color': 'red',\n",
       "   'birth_year': 'unknown',\n",
       "   'gender': 'n/a',\n",
       "   'homeworld': 'https://ci-swapi.herokuapp.com/api/planets/1/',\n",
       "   'films': ['https://ci-swapi.herokuapp.com/api/films/1/'],\n",
       "   'species': ['https://ci-swapi.herokuapp.com/api/species/2/'],\n",
       "   'vehicles': [],\n",
       "   'starships': [],\n",
       "   'created': '2014-12-10T15:57:50.959000Z',\n",
       "   'edited': '2014-12-20T21:17:50.321000Z',\n",
       "   'url': 'https://ci-swapi.herokuapp.com/api/people/8/'},\n",
       "  {'name': 'Biggs Darklighter',\n",
       "   'height': '183',\n",
       "   'mass': '84',\n",
       "   'hair_color': 'black',\n",
       "   'skin_color': 'light',\n",
       "   'eye_color': 'brown',\n",
       "   'birth_year': '24BBY',\n",
       "   'gender': 'male',\n",
       "   'homeworld': 'https://ci-swapi.herokuapp.com/api/planets/1/',\n",
       "   'films': ['https://ci-swapi.herokuapp.com/api/films/1/'],\n",
       "   'species': [],\n",
       "   'vehicles': [],\n",
       "   'starships': ['https://ci-swapi.herokuapp.com/api/starships/12/'],\n",
       "   'created': '2014-12-10T15:59:50.509000Z',\n",
       "   'edited': '2014-12-20T21:17:50.323000Z',\n",
       "   'url': 'https://ci-swapi.herokuapp.com/api/people/9/'},\n",
       "  {'name': 'Obi-Wan Kenobi',\n",
       "   'height': '182',\n",
       "   'mass': '77',\n",
       "   'hair_color': 'auburn, white',\n",
       "   'skin_color': 'fair',\n",
       "   'eye_color': 'blue-gray',\n",
       "   'birth_year': '57BBY',\n",
       "   'gender': 'male',\n",
       "   'homeworld': 'https://ci-swapi.herokuapp.com/api/planets/20/',\n",
       "   'films': ['https://ci-swapi.herokuapp.com/api/films/1/',\n",
       "    'https://ci-swapi.herokuapp.com/api/films/2/',\n",
       "    'https://ci-swapi.herokuapp.com/api/films/3/',\n",
       "    'https://ci-swapi.herokuapp.com/api/films/4/',\n",
       "    'https://ci-swapi.herokuapp.com/api/films/5/',\n",
       "    'https://ci-swapi.herokuapp.com/api/films/6/'],\n",
       "   'species': [],\n",
       "   'vehicles': ['https://ci-swapi.herokuapp.com/api/vehicles/38/'],\n",
       "   'starships': ['https://ci-swapi.herokuapp.com/api/starships/48/',\n",
       "    'https://ci-swapi.herokuapp.com/api/starships/59/',\n",
       "    'https://ci-swapi.herokuapp.com/api/starships/64/',\n",
       "    'https://ci-swapi.herokuapp.com/api/starships/65/',\n",
       "    'https://ci-swapi.herokuapp.com/api/starships/74/'],\n",
       "   'created': '2014-12-10T16:16:29.192000Z',\n",
       "   'edited': '2014-12-20T21:17:50.325000Z',\n",
       "   'url': 'https://ci-swapi.herokuapp.com/api/people/10/'}]}"
      ]
     },
     "execution_count": 10,
     "metadata": {},
     "output_type": "execute_result"
    }
   ],
   "source": [
    "response"
   ]
  },
  {
   "cell_type": "code",
   "execution_count": 11,
   "metadata": {},
   "outputs": [
    {
     "data": {
      "text/plain": [
       "[{'name': 'Luke Skywalker',\n",
       "  'height': '172',\n",
       "  'mass': '77',\n",
       "  'hair_color': 'blond',\n",
       "  'skin_color': 'fair',\n",
       "  'eye_color': 'blue',\n",
       "  'birth_year': '19BBY',\n",
       "  'gender': 'male',\n",
       "  'homeworld': 'https://ci-swapi.herokuapp.com/api/planets/1/',\n",
       "  'films': ['https://ci-swapi.herokuapp.com/api/films/1/',\n",
       "   'https://ci-swapi.herokuapp.com/api/films/2/',\n",
       "   'https://ci-swapi.herokuapp.com/api/films/3/',\n",
       "   'https://ci-swapi.herokuapp.com/api/films/6/'],\n",
       "  'species': [],\n",
       "  'vehicles': ['https://ci-swapi.herokuapp.com/api/vehicles/14/',\n",
       "   'https://ci-swapi.herokuapp.com/api/vehicles/30/'],\n",
       "  'starships': ['https://ci-swapi.herokuapp.com/api/starships/12/',\n",
       "   'https://ci-swapi.herokuapp.com/api/starships/22/'],\n",
       "  'created': '2014-12-09T13:50:51.644000Z',\n",
       "  'edited': '2014-12-20T21:17:56.891000Z',\n",
       "  'url': 'https://ci-swapi.herokuapp.com/api/people/1/'},\n",
       " {'name': 'C-3PO',\n",
       "  'height': '167',\n",
       "  'mass': '75',\n",
       "  'hair_color': 'n/a',\n",
       "  'skin_color': 'gold',\n",
       "  'eye_color': 'yellow',\n",
       "  'birth_year': '112BBY',\n",
       "  'gender': 'n/a',\n",
       "  'homeworld': 'https://ci-swapi.herokuapp.com/api/planets/1/',\n",
       "  'films': ['https://ci-swapi.herokuapp.com/api/films/1/',\n",
       "   'https://ci-swapi.herokuapp.com/api/films/2/',\n",
       "   'https://ci-swapi.herokuapp.com/api/films/3/',\n",
       "   'https://ci-swapi.herokuapp.com/api/films/4/',\n",
       "   'https://ci-swapi.herokuapp.com/api/films/5/',\n",
       "   'https://ci-swapi.herokuapp.com/api/films/6/'],\n",
       "  'species': ['https://ci-swapi.herokuapp.com/api/species/2/'],\n",
       "  'vehicles': [],\n",
       "  'starships': [],\n",
       "  'created': '2014-12-10T15:10:51.357000Z',\n",
       "  'edited': '2014-12-20T21:17:50.309000Z',\n",
       "  'url': 'https://ci-swapi.herokuapp.com/api/people/2/'},\n",
       " {'name': 'R2-D2',\n",
       "  'height': '96',\n",
       "  'mass': '32',\n",
       "  'hair_color': 'n/a',\n",
       "  'skin_color': 'white, blue',\n",
       "  'eye_color': 'red',\n",
       "  'birth_year': '33BBY',\n",
       "  'gender': 'n/a',\n",
       "  'homeworld': 'https://ci-swapi.herokuapp.com/api/planets/8/',\n",
       "  'films': ['https://ci-swapi.herokuapp.com/api/films/1/',\n",
       "   'https://ci-swapi.herokuapp.com/api/films/2/',\n",
       "   'https://ci-swapi.herokuapp.com/api/films/3/',\n",
       "   'https://ci-swapi.herokuapp.com/api/films/4/',\n",
       "   'https://ci-swapi.herokuapp.com/api/films/5/',\n",
       "   'https://ci-swapi.herokuapp.com/api/films/6/'],\n",
       "  'species': ['https://ci-swapi.herokuapp.com/api/species/2/'],\n",
       "  'vehicles': [],\n",
       "  'starships': [],\n",
       "  'created': '2014-12-10T15:11:50.376000Z',\n",
       "  'edited': '2014-12-20T21:17:50.311000Z',\n",
       "  'url': 'https://ci-swapi.herokuapp.com/api/people/3/'},\n",
       " {'name': 'Darth Vader',\n",
       "  'height': '202',\n",
       "  'mass': '136',\n",
       "  'hair_color': 'none',\n",
       "  'skin_color': 'white',\n",
       "  'eye_color': 'yellow',\n",
       "  'birth_year': '41.9BBY',\n",
       "  'gender': 'male',\n",
       "  'homeworld': 'https://ci-swapi.herokuapp.com/api/planets/1/',\n",
       "  'films': ['https://ci-swapi.herokuapp.com/api/films/1/',\n",
       "   'https://ci-swapi.herokuapp.com/api/films/2/',\n",
       "   'https://ci-swapi.herokuapp.com/api/films/3/',\n",
       "   'https://ci-swapi.herokuapp.com/api/films/6/'],\n",
       "  'species': [],\n",
       "  'vehicles': [],\n",
       "  'starships': ['https://ci-swapi.herokuapp.com/api/starships/13/'],\n",
       "  'created': '2014-12-10T15:18:20.704000Z',\n",
       "  'edited': '2014-12-20T21:17:50.313000Z',\n",
       "  'url': 'https://ci-swapi.herokuapp.com/api/people/4/'},\n",
       " {'name': 'Leia Organa',\n",
       "  'height': '150',\n",
       "  'mass': '49',\n",
       "  'hair_color': 'brown',\n",
       "  'skin_color': 'light',\n",
       "  'eye_color': 'brown',\n",
       "  'birth_year': '19BBY',\n",
       "  'gender': 'female',\n",
       "  'homeworld': 'https://ci-swapi.herokuapp.com/api/planets/2/',\n",
       "  'films': ['https://ci-swapi.herokuapp.com/api/films/1/',\n",
       "   'https://ci-swapi.herokuapp.com/api/films/2/',\n",
       "   'https://ci-swapi.herokuapp.com/api/films/3/',\n",
       "   'https://ci-swapi.herokuapp.com/api/films/6/'],\n",
       "  'species': [],\n",
       "  'vehicles': ['https://ci-swapi.herokuapp.com/api/vehicles/30/'],\n",
       "  'starships': [],\n",
       "  'created': '2014-12-10T15:20:09.791000Z',\n",
       "  'edited': '2014-12-20T21:17:50.315000Z',\n",
       "  'url': 'https://ci-swapi.herokuapp.com/api/people/5/'},\n",
       " {'name': 'Owen Lars',\n",
       "  'height': '178',\n",
       "  'mass': '120',\n",
       "  'hair_color': 'brown, grey',\n",
       "  'skin_color': 'light',\n",
       "  'eye_color': 'blue',\n",
       "  'birth_year': '52BBY',\n",
       "  'gender': 'male',\n",
       "  'homeworld': 'https://ci-swapi.herokuapp.com/api/planets/1/',\n",
       "  'films': ['https://ci-swapi.herokuapp.com/api/films/1/',\n",
       "   'https://ci-swapi.herokuapp.com/api/films/5/',\n",
       "   'https://ci-swapi.herokuapp.com/api/films/6/'],\n",
       "  'species': [],\n",
       "  'vehicles': [],\n",
       "  'starships': [],\n",
       "  'created': '2014-12-10T15:52:14.024000Z',\n",
       "  'edited': '2014-12-20T21:17:50.317000Z',\n",
       "  'url': 'https://ci-swapi.herokuapp.com/api/people/6/'},\n",
       " {'name': 'Beru Whitesun lars',\n",
       "  'height': '165',\n",
       "  'mass': '75',\n",
       "  'hair_color': 'brown',\n",
       "  'skin_color': 'light',\n",
       "  'eye_color': 'blue',\n",
       "  'birth_year': '47BBY',\n",
       "  'gender': 'female',\n",
       "  'homeworld': 'https://ci-swapi.herokuapp.com/api/planets/1/',\n",
       "  'films': ['https://ci-swapi.herokuapp.com/api/films/1/',\n",
       "   'https://ci-swapi.herokuapp.com/api/films/5/',\n",
       "   'https://ci-swapi.herokuapp.com/api/films/6/'],\n",
       "  'species': [],\n",
       "  'vehicles': [],\n",
       "  'starships': [],\n",
       "  'created': '2014-12-10T15:53:41.121000Z',\n",
       "  'edited': '2014-12-20T21:17:50.319000Z',\n",
       "  'url': 'https://ci-swapi.herokuapp.com/api/people/7/'},\n",
       " {'name': 'R5-D4',\n",
       "  'height': '97',\n",
       "  'mass': '32',\n",
       "  'hair_color': 'n/a',\n",
       "  'skin_color': 'white, red',\n",
       "  'eye_color': 'red',\n",
       "  'birth_year': 'unknown',\n",
       "  'gender': 'n/a',\n",
       "  'homeworld': 'https://ci-swapi.herokuapp.com/api/planets/1/',\n",
       "  'films': ['https://ci-swapi.herokuapp.com/api/films/1/'],\n",
       "  'species': ['https://ci-swapi.herokuapp.com/api/species/2/'],\n",
       "  'vehicles': [],\n",
       "  'starships': [],\n",
       "  'created': '2014-12-10T15:57:50.959000Z',\n",
       "  'edited': '2014-12-20T21:17:50.321000Z',\n",
       "  'url': 'https://ci-swapi.herokuapp.com/api/people/8/'},\n",
       " {'name': 'Biggs Darklighter',\n",
       "  'height': '183',\n",
       "  'mass': '84',\n",
       "  'hair_color': 'black',\n",
       "  'skin_color': 'light',\n",
       "  'eye_color': 'brown',\n",
       "  'birth_year': '24BBY',\n",
       "  'gender': 'male',\n",
       "  'homeworld': 'https://ci-swapi.herokuapp.com/api/planets/1/',\n",
       "  'films': ['https://ci-swapi.herokuapp.com/api/films/1/'],\n",
       "  'species': [],\n",
       "  'vehicles': [],\n",
       "  'starships': ['https://ci-swapi.herokuapp.com/api/starships/12/'],\n",
       "  'created': '2014-12-10T15:59:50.509000Z',\n",
       "  'edited': '2014-12-20T21:17:50.323000Z',\n",
       "  'url': 'https://ci-swapi.herokuapp.com/api/people/9/'},\n",
       " {'name': 'Obi-Wan Kenobi',\n",
       "  'height': '182',\n",
       "  'mass': '77',\n",
       "  'hair_color': 'auburn, white',\n",
       "  'skin_color': 'fair',\n",
       "  'eye_color': 'blue-gray',\n",
       "  'birth_year': '57BBY',\n",
       "  'gender': 'male',\n",
       "  'homeworld': 'https://ci-swapi.herokuapp.com/api/planets/20/',\n",
       "  'films': ['https://ci-swapi.herokuapp.com/api/films/1/',\n",
       "   'https://ci-swapi.herokuapp.com/api/films/2/',\n",
       "   'https://ci-swapi.herokuapp.com/api/films/3/',\n",
       "   'https://ci-swapi.herokuapp.com/api/films/4/',\n",
       "   'https://ci-swapi.herokuapp.com/api/films/5/',\n",
       "   'https://ci-swapi.herokuapp.com/api/films/6/'],\n",
       "  'species': [],\n",
       "  'vehicles': ['https://ci-swapi.herokuapp.com/api/vehicles/38/'],\n",
       "  'starships': ['https://ci-swapi.herokuapp.com/api/starships/48/',\n",
       "   'https://ci-swapi.herokuapp.com/api/starships/59/',\n",
       "   'https://ci-swapi.herokuapp.com/api/starships/64/',\n",
       "   'https://ci-swapi.herokuapp.com/api/starships/65/',\n",
       "   'https://ci-swapi.herokuapp.com/api/starships/74/'],\n",
       "  'created': '2014-12-10T16:16:29.192000Z',\n",
       "  'edited': '2014-12-20T21:17:50.325000Z',\n",
       "  'url': 'https://ci-swapi.herokuapp.com/api/people/10/'}]"
      ]
     },
     "execution_count": 11,
     "metadata": {},
     "output_type": "execute_result"
    }
   ],
   "source": [
    "response['results']"
   ]
  },
  {
   "cell_type": "code",
   "execution_count": 12,
   "metadata": {},
   "outputs": [
    {
     "data": {
      "text/plain": [
       "list"
      ]
     },
     "execution_count": 12,
     "metadata": {},
     "output_type": "execute_result"
    }
   ],
   "source": [
    "type(response['results'])"
   ]
  },
  {
   "cell_type": "code",
   "execution_count": 13,
   "metadata": {},
   "outputs": [
    {
     "data": {
      "text/plain": [
       "10"
      ]
     },
     "execution_count": 13,
     "metadata": {},
     "output_type": "execute_result"
    }
   ],
   "source": [
    "len(response['results'])"
   ]
  },
  {
   "cell_type": "code",
   "execution_count": 21,
   "metadata": {},
   "outputs": [
    {
     "data": {
      "text/plain": [
       "{'name': 'Luke Skywalker',\n",
       " 'height': '172',\n",
       " 'mass': '77',\n",
       " 'hair_color': 'blond',\n",
       " 'skin_color': 'fair',\n",
       " 'eye_color': 'blue',\n",
       " 'birth_year': '19BBY',\n",
       " 'gender': 'male',\n",
       " 'homeworld': 'https://ci-swapi.herokuapp.com/api/planets/1/',\n",
       " 'films': ['https://ci-swapi.herokuapp.com/api/films/1/',\n",
       "  'https://ci-swapi.herokuapp.com/api/films/2/',\n",
       "  'https://ci-swapi.herokuapp.com/api/films/3/',\n",
       "  'https://ci-swapi.herokuapp.com/api/films/6/'],\n",
       " 'species': [],\n",
       " 'vehicles': ['https://ci-swapi.herokuapp.com/api/vehicles/14/',\n",
       "  'https://ci-swapi.herokuapp.com/api/vehicles/30/'],\n",
       " 'starships': ['https://ci-swapi.herokuapp.com/api/starships/12/',\n",
       "  'https://ci-swapi.herokuapp.com/api/starships/22/'],\n",
       " 'created': '2014-12-09T13:50:51.644000Z',\n",
       " 'edited': '2014-12-20T21:17:56.891000Z',\n",
       " 'url': 'https://ci-swapi.herokuapp.com/api/people/1/'}"
      ]
     },
     "execution_count": 21,
     "metadata": {},
     "output_type": "execute_result"
    }
   ],
   "source": [
    "response['results'][0]"
   ]
  },
  {
   "cell_type": "markdown",
   "metadata": {},
   "source": [
    "We can get 'films' that this character appeared in"
   ]
  },
  {
   "cell_type": "code",
   "execution_count": 15,
   "metadata": {},
   "outputs": [
    {
     "data": {
      "text/plain": [
       "['https://ci-swapi.herokuapp.com/api/films/1/',\n",
       " 'https://ci-swapi.herokuapp.com/api/films/2/',\n",
       " 'https://ci-swapi.herokuapp.com/api/films/3/',\n",
       " 'https://ci-swapi.herokuapp.com/api/films/6/']"
      ]
     },
     "execution_count": 15,
     "metadata": {},
     "output_type": "execute_result"
    }
   ],
   "source": [
    "response['results'][0]['films']"
   ]
  },
  {
   "cell_type": "code",
   "execution_count": 16,
   "metadata": {},
   "outputs": [
    {
     "data": {
      "text/plain": [
       "[['blond', '172', 'blue'],\n",
       " ['n/a', '167', 'yellow'],\n",
       " ['n/a', '96', 'red'],\n",
       " ['none', '202', 'yellow'],\n",
       " ['brown', '150', 'brown'],\n",
       " ['brown, grey', '178', 'blue'],\n",
       " ['brown', '165', 'blue'],\n",
       " ['n/a', '97', 'red'],\n",
       " ['black', '183', 'brown'],\n",
       " ['auburn, white', '182', 'blue-gray']]"
      ]
     },
     "execution_count": 16,
     "metadata": {},
     "output_type": "execute_result"
    }
   ],
   "source": [
    "api_data_list = []\n",
    "for info in response['results']:\n",
    "    api_data_list.append([info['hair_color'],\n",
    "                          info['height'],\n",
    "                          info['eye_color']]\n",
    "                        )\n",
    "api_data_list"
   ]
  },
  {
   "cell_type": "code",
   "execution_count": 17,
   "metadata": {},
   "outputs": [
    {
     "data": {
      "text/plain": [
       "10"
      ]
     },
     "execution_count": 17,
     "metadata": {},
     "output_type": "execute_result"
    }
   ],
   "source": [
    "len(api_data_list)"
   ]
  },
  {
   "cell_type": "code",
   "execution_count": 18,
   "metadata": {},
   "outputs": [
    {
     "data": {
      "text/html": [
       "<div>\n",
       "<style scoped>\n",
       "    .dataframe tbody tr th:only-of-type {\n",
       "        vertical-align: middle;\n",
       "    }\n",
       "\n",
       "    .dataframe tbody tr th {\n",
       "        vertical-align: top;\n",
       "    }\n",
       "\n",
       "    .dataframe thead th {\n",
       "        text-align: right;\n",
       "    }\n",
       "</style>\n",
       "<table border=\"1\" class=\"dataframe\">\n",
       "  <thead>\n",
       "    <tr style=\"text-align: right;\">\n",
       "      <th></th>\n",
       "      <th>hair_color</th>\n",
       "      <th>height</th>\n",
       "      <th>eye_color</th>\n",
       "    </tr>\n",
       "  </thead>\n",
       "  <tbody>\n",
       "    <tr>\n",
       "      <th>0</th>\n",
       "      <td>blond</td>\n",
       "      <td>172</td>\n",
       "      <td>blue</td>\n",
       "    </tr>\n",
       "    <tr>\n",
       "      <th>1</th>\n",
       "      <td>n/a</td>\n",
       "      <td>167</td>\n",
       "      <td>yellow</td>\n",
       "    </tr>\n",
       "    <tr>\n",
       "      <th>2</th>\n",
       "      <td>n/a</td>\n",
       "      <td>96</td>\n",
       "      <td>red</td>\n",
       "    </tr>\n",
       "    <tr>\n",
       "      <th>3</th>\n",
       "      <td>none</td>\n",
       "      <td>202</td>\n",
       "      <td>yellow</td>\n",
       "    </tr>\n",
       "    <tr>\n",
       "      <th>4</th>\n",
       "      <td>brown</td>\n",
       "      <td>150</td>\n",
       "      <td>brown</td>\n",
       "    </tr>\n",
       "    <tr>\n",
       "      <th>5</th>\n",
       "      <td>brown, grey</td>\n",
       "      <td>178</td>\n",
       "      <td>blue</td>\n",
       "    </tr>\n",
       "    <tr>\n",
       "      <th>6</th>\n",
       "      <td>brown</td>\n",
       "      <td>165</td>\n",
       "      <td>blue</td>\n",
       "    </tr>\n",
       "    <tr>\n",
       "      <th>7</th>\n",
       "      <td>n/a</td>\n",
       "      <td>97</td>\n",
       "      <td>red</td>\n",
       "    </tr>\n",
       "    <tr>\n",
       "      <th>8</th>\n",
       "      <td>black</td>\n",
       "      <td>183</td>\n",
       "      <td>brown</td>\n",
       "    </tr>\n",
       "    <tr>\n",
       "      <th>9</th>\n",
       "      <td>auburn, white</td>\n",
       "      <td>182</td>\n",
       "      <td>blue-gray</td>\n",
       "    </tr>\n",
       "  </tbody>\n",
       "</table>\n",
       "</div>"
      ],
      "text/plain": [
       "      hair_color height  eye_color\n",
       "0          blond    172       blue\n",
       "1            n/a    167     yellow\n",
       "2            n/a     96        red\n",
       "3           none    202     yellow\n",
       "4          brown    150      brown\n",
       "5    brown, grey    178       blue\n",
       "6          brown    165       blue\n",
       "7            n/a     97        red\n",
       "8          black    183      brown\n",
       "9  auburn, white    182  blue-gray"
      ]
     },
     "execution_count": 18,
     "metadata": {},
     "output_type": "execute_result"
    }
   ],
   "source": [
    "import pandas as pd\n",
    "\n",
    "columns = ['hair_color', 'height', 'eye_color']\n",
    "df = pd.DataFrame(data=api_data_list, columns=columns)\n",
    "df\n"
   ]
  },
  {
   "cell_type": "code",
   "execution_count": null,
   "metadata": {},
   "outputs": [],
   "source": []
  }
 ],
 "metadata": {
  "kernelspec": {
   "display_name": ".venv",
   "language": "python",
   "name": "python3"
  },
  "language_info": {
   "codemirror_mode": {
    "name": "ipython",
    "version": 3
   },
   "file_extension": ".py",
   "mimetype": "text/x-python",
   "name": "python",
   "nbconvert_exporter": "python",
   "pygments_lexer": "ipython3",
   "version": "3.12.8"
  }
 },
 "nbformat": 4,
 "nbformat_minor": 2
}
